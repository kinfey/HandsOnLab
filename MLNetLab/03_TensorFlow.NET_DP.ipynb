{
 "cells": [
  {
   "cell_type": "code",
   "execution_count": null,
   "metadata": {
    "dotnet_interactive": {
     "language": "csharp"
    }
   },
   "outputs": [
    {
     "data": {
      "text/html": [
       "<div><div></div><div></div><div><strong>Installed Packages</strong><ul><li><span>NumSharp, 0.30.0</span></li><li><span>SciSharp.TensorFlow.Redist, 2.7.0</span></li><li><span>TensorFlow.Keras, 0.6.5</span></li><li><span>TensorFlow.Net, 0.60.5</span></li></ul></div></div>"
      ]
     },
     "metadata": {},
     "output_type": "display_data"
    }
   ],
   "source": [
    "#r \"nuget: TensorFlow.Net\"\n",
    "#r \"nuget: TensorFlow.Keras\"\n",
    "#r \"nuget: SciSharp.TensorFlow.Redist\"\n",
    "#r \"nuget: NumSharp\""
   ]
  },
  {
   "cell_type": "markdown",
   "metadata": {},
   "source": [
    "# **深度学习** #"
   ]
  },
  {
   "cell_type": "code",
   "execution_count": null,
   "metadata": {
    "dotnet_interactive": {
     "language": "csharp"
    }
   },
   "outputs": [],
   "source": [
    "\n",
    "using System.Linq;\n",
    "using Tensorflow;\n",
    "using Tensorflow.Keras.Optimizers;\n",
    "using Tensorflow.NumPy;\n",
    "using static Tensorflow.Binding;\n",
    "using static Tensorflow.KerasApi;\n"
   ]
  },
  {
   "cell_type": "code",
   "execution_count": null,
   "metadata": {
    "dotnet_interactive": {
     "language": "csharp"
    }
   },
   "outputs": [],
   "source": [
    "int num_classes = 10; \n",
    "int num_features = 784; \n",
    "\n",
    "float learning_rate = 0.001f;\n",
    "int training_steps = 1000;\n",
    "int batch_size = 256;\n",
    "int display_step = 100;\n",
    "\n",
    "int n_hidden_1 = 128; // 1st layer number of neurons.\n",
    "int n_hidden_2 = 256; // 2nd layer number of neurons.\n",
    "\n",
    "IDatasetV2 train_data;\n",
    "NDArray x_test, y_test, x_train, y_train;\n",
    "IVariableV1 h1, h2, wout, b1, b2, bout;\n",
    "float accuracy_test = 0f;"
   ]
  },
  {
   "cell_type": "code",
   "execution_count": null,
   "metadata": {
    "dotnet_interactive": {
     "language": "csharp"
    }
   },
   "outputs": [],
   "source": [
    "tf.enable_eager_execution();"
   ]
  },
  {
   "cell_type": "code",
   "execution_count": null,
   "metadata": {
    "dotnet_interactive": {
     "language": "csharp"
    }
   },
   "outputs": [
    {
     "name": "stdout",
     "output_type": "stream",
     "text": [
      "Downloading from https://storage.googleapis.com/tensorflow/tf-keras-datasets/mnist.npz\n",
      "..\n",
      "Downloaded to /tmp/mnist.npz\n"
     ]
    }
   ],
   "source": [
    "((x_train, y_train), (x_test, y_test)) = keras.datasets.mnist.load_data();\n",
    "(x_train, x_test) = (x_train.reshape((-1, num_features)), x_test.reshape((-1, num_features)));\n",
    "\n",
    "(x_train, x_test) = (x_train / 255f, x_test / 255f);\n",
    "\n",
    "train_data = tf.data.Dataset.from_tensor_slices(x_train, y_train);\n",
    "train_data = train_data.repeat()\n",
    "    .shuffle(5000)\n",
    "    .batch(batch_size)\n",
    "    .prefetch(1)\n",
    "    .take(training_steps);"
   ]
  },
  {
   "cell_type": "code",
   "execution_count": null,
   "metadata": {
    "dotnet_interactive": {
     "language": "csharp"
    }
   },
   "outputs": [],
   "source": [
    "var random_normal = tf.initializers.random_normal_initializer();\n",
    "h1 = tf.Variable(random_normal.Apply(new InitializerArgs((num_features, n_hidden_1))));\n",
    "h2 = tf.Variable(random_normal.Apply(new InitializerArgs((n_hidden_1, n_hidden_2))));\n",
    "wout = tf.Variable(random_normal.Apply(new InitializerArgs((n_hidden_2, num_classes))));\n",
    "b1 = tf.Variable(tf.zeros(n_hidden_1));\n",
    "b2 = tf.Variable(tf.zeros(n_hidden_2));\n",
    "bout = tf.Variable(tf.zeros(num_classes));\n",
    "var trainable_variables = new IVariableV1[] { h1, h2, wout, b1, b2, bout };"
   ]
  },
  {
   "cell_type": "code",
   "execution_count": null,
   "metadata": {
    "dotnet_interactive": {
     "language": "csharp"
    }
   },
   "outputs": [],
   "source": [
    "var optimizer = keras.optimizers.SGD(learning_rate);"
   ]
  },
  {
   "cell_type": "code",
   "execution_count": null,
   "metadata": {
    "dotnet_interactive": {
     "language": "csharp"
    }
   },
   "outputs": [],
   "source": [
    "Tensor neural_net(Tensor x)\n",
    "{\n",
    "    var layer_1 = tf.add(tf.matmul(x, h1.AsTensor()), b1.AsTensor());\n",
    "    layer_1 = tf.nn.sigmoid(layer_1);\n",
    "    var layer_2 = tf.add(tf.matmul(layer_1, h2.AsTensor()), b2.AsTensor());\n",
    "    layer_2 = tf.nn.sigmoid(layer_2);\n",
    "    var out_layer = tf.matmul(layer_2, wout.AsTensor()) + bout.AsTensor();\n",
    "    return tf.nn.softmax(out_layer);\n",
    "}"
   ]
  },
  {
   "cell_type": "code",
   "execution_count": null,
   "metadata": {
    "dotnet_interactive": {
     "language": "csharp"
    }
   },
   "outputs": [],
   "source": [
    "Tensor accuracy(Tensor y_pred, Tensor y_true)\n",
    "{\n",
    "    var correct_prediction = tf.equal(tf.math.argmax(y_pred, 1), tf.cast(y_true, tf.int64));\n",
    "    return tf.reduce_mean(tf.cast(correct_prediction, tf.float32), axis: -1);\n",
    "}"
   ]
  },
  {
   "cell_type": "code",
   "execution_count": null,
   "metadata": {
    "dotnet_interactive": {
     "language": "csharp"
    }
   },
   "outputs": [],
   "source": [
    "Tensor cross_entropy(Tensor y_pred, Tensor y_true)\n",
    "{\n",
    "    y_true = tf.one_hot(y_true, depth: num_classes);\n",
    "    y_pred = tf.clip_by_value(y_pred, 1e-9f, 1.0f);\n",
    "    return tf.reduce_mean(-tf.reduce_sum(y_true * tf.math.log(y_pred)));\n",
    "}"
   ]
  },
  {
   "cell_type": "code",
   "execution_count": null,
   "metadata": {
    "dotnet_interactive": {
     "language": "csharp"
    }
   },
   "outputs": [],
   "source": [
    "void run_optimization(OptimizerV2 optimizer, Tensor x, Tensor y, IVariableV1[] trainable_variables)\n",
    "{\n",
    "    using var g = tf.GradientTape();\n",
    "    var pred = neural_net(x);\n",
    "    var loss = cross_entropy(pred, y);\n",
    "\n",
    "    var gradients = g.gradient(loss, trainable_variables);\n",
    "\n",
    "    optimizer.apply_gradients(zip(gradients, trainable_variables.Select(x => x as ResourceVariable)));\n",
    "}"
   ]
  },
  {
   "cell_type": "code",
   "execution_count": null,
   "metadata": {
    "dotnet_interactive": {
     "language": "csharp"
    }
   },
   "outputs": [
    {
     "name": "stdout",
     "output_type": "stream",
     "text": [
      "step: 100, loss: 75.14632, accuracy: 0.953125 \n",
      "step: 200, loss: 0.4173167, accuracy: 1 \n",
      "step: 300, loss: 272.24945, accuracy: 0.765625 \n",
      "step: 400, loss: 0.9261727, accuracy: 1 \n",
      "step: 500, loss: 581.8408, accuracy: 0.15234375 \n",
      "step: 600, loss: 9.586235, accuracy: 0.99609375 \n",
      "step: 700, loss: 465.72156, accuracy: 0.4921875 \n",
      "step: 800, loss: 95.1762, accuracy: 0.9375 \n",
      "step: 900, loss: 0.5394628, accuracy: 1 \n"
     ]
    }
   ],
   "source": [
    "foreach (var (step, (batch_x, batch_y)) in enumerate(train_data, 1))\n",
    "{\n",
    "    run_optimization(optimizer, batch_x, batch_y, trainable_variables);\n",
    "\n",
    "    if (step % display_step == 0)\n",
    "    {\n",
    "        var pred = neural_net(batch_x);\n",
    "        var loss = cross_entropy(pred, batch_y);\n",
    "        var acc = accuracy(pred, batch_y);\n",
    "        print($\"step: {step}, loss: {(float)loss}, accuracy: {(float)acc}\");\n",
    "    }\n",
    "}"
   ]
  },
  {
   "cell_type": "code",
   "execution_count": null,
   "metadata": {
    "dotnet_interactive": {
     "language": "csharp"
    }
   },
   "outputs": [
    {
     "name": "stdout",
     "output_type": "stream",
     "text": [
      "Test Accuracy: 0.098 \n"
     ]
    }
   ],
   "source": [
    "var pred = neural_net(x_test);\n",
    "accuracy_test = (float)accuracy(pred, y_test);\n",
    "print($\"Test Accuracy: {accuracy_test}\");"
   ]
  }
 ],
 "metadata": {
  "kernelspec": {
   "display_name": ".NET (C#)",
   "language": "C#",
   "name": ".net-csharp"
  },
  "language_info": {
   "file_extension": ".cs",
   "mimetype": "text/x-csharp",
   "name": "C#",
   "pygments_lexer": "csharp",
   "version": "9.0"
  },
  "orig_nbformat": 4
 },
 "nbformat": 4,
 "nbformat_minor": 2
}
