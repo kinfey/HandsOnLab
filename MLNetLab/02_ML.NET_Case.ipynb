{
 "cells": [
  {
   "cell_type": "markdown",
   "source": [
    "# **ML.NET 的一些例子** #"
   ],
   "metadata": {}
  },
  {
   "cell_type": "code",
   "execution_count": null,
   "source": [
    "#r \"nuget:Microsoft.ML\""
   ],
   "outputs": [],
   "metadata": {
    "dotnet_interactive": {
     "language": "csharp"
    }
   }
  },
  {
   "cell_type": "code",
   "execution_count": null,
   "source": [
    "using System;\n",
    "using Microsoft.ML;\n",
    "using Microsoft.ML.Data;"
   ],
   "outputs": [],
   "metadata": {
    "dotnet_interactive": {
     "language": "csharp"
    }
   }
  },
  {
   "cell_type": "code",
   "execution_count": null,
   "source": [
    "public class HouseData\n",
    "{\n",
    "    public float Size { get; set; }\n",
    "    public float Price { get; set; }\n",
    "}\n",
    "   \n",
    "public class Prediction\n",
    "{\n",
    "    [ColumnName(\"Score\")]\n",
    "    public float Price { get; set; }\n",
    "}"
   ],
   "outputs": [],
   "metadata": {
    "dotnet_interactive": {
     "language": "csharp"
    }
   }
  },
  {
   "cell_type": "code",
   "execution_count": null,
   "source": [
    "MLContext mlContext = new MLContext();"
   ],
   "outputs": [],
   "metadata": {
    "dotnet_interactive": {
     "language": "csharp"
    }
   }
  },
  {
   "cell_type": "code",
   "execution_count": null,
   "source": [
    "HouseData[] houseData = {\n",
    "    new HouseData() { Size = 1.1F, Price = 1.2F },\n",
    "    new HouseData() { Size = 1.9F, Price = 2.3F },\n",
    "    new HouseData() { Size = 2.8F, Price = 3.0F },\n",
    "    new HouseData() { Size = 3.4F, Price = 3.7F } };\n",
    "IDataView trainingData = mlContext.Data.LoadFromEnumerable(houseData);"
   ],
   "outputs": [],
   "metadata": {
    "dotnet_interactive": {
     "language": "csharp"
    }
   }
  },
  {
   "cell_type": "code",
   "execution_count": null,
   "source": [
    "var pipeline = mlContext.Transforms.Concatenate(\"Features\", new[] { \"Size\" }).Append(mlContext.Regression.Trainers.Sdca(labelColumnName: \"Price\", maximumNumberOfIterations: 100));"
   ],
   "outputs": [],
   "metadata": {
    "dotnet_interactive": {
     "language": "csharp"
    }
   }
  },
  {
   "cell_type": "code",
   "execution_count": null,
   "source": [
    "var model = pipeline.Fit(trainingData);"
   ],
   "outputs": [],
   "metadata": {
    "dotnet_interactive": {
     "language": "csharp"
    }
   }
  },
  {
   "cell_type": "code",
   "execution_count": null,
   "source": [
    "var size = new HouseData() { Size = 2.5F };\n",
    "var price = mlContext.Model.CreatePredictionEngine<HouseData, Prediction>(model).Predict(size);"
   ],
   "outputs": [],
   "metadata": {
    "dotnet_interactive": {
     "language": "csharp"
    }
   }
  },
  {
   "cell_type": "code",
   "execution_count": null,
   "source": [
    "Console.WriteLine($\"Predicted price for size: {size.Size*1000} sq ft= {price.Price*100:C}k\");"
   ],
   "outputs": [],
   "metadata": {
    "dotnet_interactive": {
     "language": "csharp"
    }
   }
  },
  {
   "cell_type": "code",
   "execution_count": null,
   "source": [
    "using System;\n",
    "using System.IO;\n",
    "using Microsoft.ML;\n",
    "using Microsoft.ML.Data;"
   ],
   "outputs": [],
   "metadata": {
    "dotnet_interactive": {
     "language": "csharp"
    }
   }
  },
  {
   "cell_type": "code",
   "execution_count": null,
   "source": [
    "\n",
    "public class SentimentIssue\n",
    "{\n",
    "  [LoadColumn(0)]\n",
    "  public string Text { get; set; }\n",
    "  [LoadColumn(1)]\n",
    "  public bool Label { get; set; }\n",
    "}"
   ],
   "outputs": [],
   "metadata": {
    "dotnet_interactive": {
     "language": "csharp"
    }
   }
  },
  {
   "cell_type": "code",
   "execution_count": null,
   "source": [
    "public class SentimentPrediction\n",
    "{\n",
    "   [ColumnName(\"PredictedLabel\")]\n",
    "   public bool Prediction { get; set; }\n",
    "   \n",
    "   public float Probability { get; set; }\n",
    "\n",
    "   public float Score { get; set; }\n",
    "}"
   ],
   "outputs": [],
   "metadata": {
    "dotnet_interactive": {
     "language": "csharp"
    }
   }
  },
  {
   "cell_type": "code",
   "execution_count": null,
   "source": [
    "var mlContext = new MLContext(seed: 1);"
   ],
   "outputs": [],
   "metadata": {
    "dotnet_interactive": {
     "language": "csharp"
    }
   }
  },
  {
   "cell_type": "code",
   "execution_count": null,
   "source": [
    "IDataView trainingData = mlContext.Data.LoadFromTextFile<SentimentIssue>(@\"datasets/mlnet/train_data.tsv\", hasHeader: true);\n",
    "IDataView testData = mlContext.Data.LoadFromTextFile<SentimentIssue>(@\"datasets/mlnet/train_data.tsv\", hasHeader: true);"
   ],
   "outputs": [],
   "metadata": {
    "dotnet_interactive": {
     "language": "csharp"
    }
   }
  },
  {
   "cell_type": "code",
   "execution_count": null,
   "source": [
    "var dataProcessPipeline = mlContext.Transforms.Text.FeaturizeText(\"Features\", nameof(SentimentIssue.Text));"
   ],
   "outputs": [],
   "metadata": {
    "dotnet_interactive": {
     "language": "csharp"
    }
   }
  },
  {
   "cell_type": "code",
   "execution_count": null,
   "source": [
    "var trainer = mlContext.BinaryClassification.Trainers.LbfgsLogisticRegression(\"Label\", \"Features\");\n",
    "var trainingPipeline = dataProcessPipeline.Append(trainer);"
   ],
   "outputs": [],
   "metadata": {
    "dotnet_interactive": {
     "language": "csharp"
    }
   }
  },
  {
   "cell_type": "code",
   "execution_count": null,
   "source": [
    "ITransformer trainedModel = trainingPipeline.Fit(trainingData);"
   ],
   "outputs": [],
   "metadata": {
    "dotnet_interactive": {
     "language": "csharp"
    }
   }
  },
  {
   "cell_type": "code",
   "execution_count": null,
   "source": [
    "var predictions = trainedModel.Transform(testData);\n",
    "var metrics = mlContext.BinaryClassification.Evaluate(data: predictions, labelColumnName: \"Label\", scoreColumnName: \"Score\");"
   ],
   "outputs": [],
   "metadata": {
    "dotnet_interactive": {
     "language": "csharp"
    }
   }
  },
  {
   "cell_type": "code",
   "execution_count": null,
   "source": [
    "Console.WriteLine($\"*       Accuracy: {metrics.Accuracy:P2}\");\n",
    "Console.WriteLine($\"*       Area Under Curve:      {metrics.AreaUnderRocCurve:P2}\");\n",
    "Console.WriteLine($\"*       Area under Precision recall Curve:  {metrics.AreaUnderPrecisionRecallCurve:P2}\");\n",
    "Console.WriteLine($\"*       F1Score:  {metrics.F1Score:P2}\");\n",
    "Console.WriteLine($\"*       LogLoss:  {metrics.LogLoss:#.##}\");\n",
    "Console.WriteLine($\"*       LogLossReduction:  {metrics.LogLossReduction:#.##}\");\n",
    "Console.WriteLine($\"*       PositivePrecision:  {metrics.PositivePrecision:#.##}\");\n",
    "Console.WriteLine($\"*       PositiveRecall:  {metrics.PositiveRecall:#.##}\");\n",
    "Console.WriteLine($\"*       NegativePrecision:  {metrics.NegativePrecision:#.##}\");\n",
    "Console.WriteLine($\"*       NegativeRecall:  {metrics.NegativeRecall:P2}\");"
   ],
   "outputs": [],
   "metadata": {
    "dotnet_interactive": {
     "language": "csharp"
    }
   }
  },
  {
   "cell_type": "code",
   "execution_count": null,
   "source": [
    "mlContext.Model.Save(trainedModel, trainingData.Schema, @\"datasets/mlnet/SentimentModel.zip\");"
   ],
   "outputs": [],
   "metadata": {
    "dotnet_interactive": {
     "language": "csharp"
    }
   }
  },
  {
   "cell_type": "code",
   "execution_count": null,
   "source": [
    "SentimentIssue sampleStatement = new SentimentIssue { Text = \"This is a very good film\" };"
   ],
   "outputs": [],
   "metadata": {
    "dotnet_interactive": {
     "language": "csharp"
    }
   }
  },
  {
   "cell_type": "code",
   "execution_count": null,
   "source": [
    "var predEngine = mlContext.Model.CreatePredictionEngine<SentimentIssue, SentimentPrediction>(trainedModel);"
   ],
   "outputs": [],
   "metadata": {
    "dotnet_interactive": {
     "language": "csharp"
    }
   }
  },
  {
   "cell_type": "code",
   "execution_count": null,
   "source": [
    "var resultprediction = predEngine.Predict(sampleStatement);"
   ],
   "outputs": [],
   "metadata": {
    "dotnet_interactive": {
     "language": "csharp"
    }
   }
  },
  {
   "cell_type": "code",
   "execution_count": null,
   "source": [
    "Console.WriteLine($\"=============== Single Prediction  ===============\");\n",
    "Console.WriteLine($\"Text: {sampleStatement.Text} | Prediction: {(Convert.ToBoolean(resultprediction.Prediction) ? \"Toxic\" : \"Non Toxic\")} sentiment | Probability of being toxic: {resultprediction.Probability} \");"
   ],
   "outputs": [],
   "metadata": {
    "dotnet_interactive": {
     "language": "csharp"
    }
   }
  }
 ],
 "metadata": {
  "orig_nbformat": 4,
  "language_info": {
   "file_extension": ".cs",
   "mimetype": "text/x-csharp",
   "name": "C#",
   "pygments_lexer": "csharp",
   "version": "9.0"
  },
  "kernelspec": {
   "display_name": ".NET (C#)",
   "language": "C#",
   "name": ".net-csharp"
  }
 },
 "nbformat": 4,
 "nbformat_minor": 2
}