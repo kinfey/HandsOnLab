{
 "cells": [
  {
   "cell_type": "markdown",
   "metadata": {},
   "source": [
    "# **ML.NET 的一些例子** #"
   ]
  },
  {
   "cell_type": "code",
   "execution_count": null,
   "metadata": {
    "dotnet_interactive": {
     "language": "csharp"
    }
   },
   "outputs": [
    {
     "data": {
      "text/html": [
       "<div><div></div><div></div><div><strong>Installed Packages</strong><ul><li><span>Microsoft.ML, 1.7.0</span></li></ul></div></div>"
      ]
     },
     "metadata": {},
     "output_type": "display_data"
    }
   ],
   "source": [
    "#r \"nuget:Microsoft.ML\""
   ]
  },
  {
   "cell_type": "code",
   "execution_count": null,
   "metadata": {
    "dotnet_interactive": {
     "language": "csharp"
    }
   },
   "outputs": [],
   "source": [
    "using System;\n",
    "using Microsoft.ML;\n",
    "using Microsoft.ML.Data;"
   ]
  },
  {
   "cell_type": "code",
   "execution_count": null,
   "metadata": {
    "dotnet_interactive": {
     "language": "csharp"
    }
   },
   "outputs": [],
   "source": [
    "public class HouseData\n",
    "{\n",
    "    public float Size { get; set; }\n",
    "    public float Price { get; set; }\n",
    "}\n",
    "   \n",
    "public class Prediction\n",
    "{\n",
    "    [ColumnName(\"Score\")]\n",
    "    public float Price { get; set; }\n",
    "}"
   ]
  },
  {
   "cell_type": "code",
   "execution_count": null,
   "metadata": {
    "dotnet_interactive": {
     "language": "csharp"
    }
   },
   "outputs": [],
   "source": [
    "MLContext mlContext = new MLContext();"
   ]
  },
  {
   "cell_type": "code",
   "execution_count": null,
   "metadata": {
    "dotnet_interactive": {
     "language": "csharp"
    }
   },
   "outputs": [],
   "source": [
    "HouseData[] houseData = {\n",
    "    new HouseData() { Size = 1.1F, Price = 1.2F },\n",
    "    new HouseData() { Size = 1.9F, Price = 2.3F },\n",
    "    new HouseData() { Size = 2.8F, Price = 3.0F },\n",
    "    new HouseData() { Size = 3.4F, Price = 3.7F } };\n",
    "IDataView trainingData = mlContext.Data.LoadFromEnumerable(houseData);"
   ]
  },
  {
   "cell_type": "code",
   "execution_count": null,
   "metadata": {
    "dotnet_interactive": {
     "language": "csharp"
    }
   },
   "outputs": [],
   "source": [
    "var pipeline = mlContext.Transforms.Concatenate(\"Features\", new[] { \"Size\" }).Append(mlContext.Regression.Trainers.Sdca(labelColumnName: \"Price\", maximumNumberOfIterations: 100));"
   ]
  },
  {
   "cell_type": "code",
   "execution_count": null,
   "metadata": {
    "dotnet_interactive": {
     "language": "csharp"
    }
   },
   "outputs": [],
   "source": [
    "var model = pipeline.Fit(trainingData);"
   ]
  },
  {
   "cell_type": "code",
   "execution_count": null,
   "metadata": {
    "dotnet_interactive": {
     "language": "csharp"
    }
   },
   "outputs": [],
   "source": [
    "var size = new HouseData() { Size = 2.5F };\n",
    "var price = mlContext.Model.CreatePredictionEngine<HouseData, Prediction>(model).Predict(size);"
   ]
  },
  {
   "cell_type": "code",
   "execution_count": null,
   "metadata": {
    "dotnet_interactive": {
     "language": "csharp"
    }
   },
   "outputs": [
    {
     "name": "stdout",
     "output_type": "stream",
     "text": [
      "Predicted price for size: 2500 sq ft= ¤276.03k\n"
     ]
    }
   ],
   "source": [
    "Console.WriteLine($\"Predicted price for size: {size.Size*1000} sq ft= {price.Price*100:C}k\");"
   ]
  },
  {
   "cell_type": "code",
   "execution_count": null,
   "metadata": {
    "dotnet_interactive": {
     "language": "csharp"
    }
   },
   "outputs": [],
   "source": [
    "using System;\n",
    "using System.IO;\n",
    "using Microsoft.ML;\n",
    "using Microsoft.ML.Data;"
   ]
  },
  {
   "cell_type": "code",
   "execution_count": null,
   "metadata": {
    "dotnet_interactive": {
     "language": "csharp"
    }
   },
   "outputs": [],
   "source": [
    "\n",
    "public class SentimentIssue\n",
    "{\n",
    "  [LoadColumn(0)]\n",
    "  public string Text { get; set; }\n",
    "  [LoadColumn(1)]\n",
    "  public bool Label { get; set; }\n",
    "}"
   ]
  },
  {
   "cell_type": "code",
   "execution_count": null,
   "metadata": {
    "dotnet_interactive": {
     "language": "csharp"
    }
   },
   "outputs": [],
   "source": [
    "public class SentimentPrediction\n",
    "{\n",
    "   [ColumnName(\"PredictedLabel\")]\n",
    "   public bool Prediction { get; set; }\n",
    "   \n",
    "   public float Probability { get; set; }\n",
    "\n",
    "   public float Score { get; set; }\n",
    "}"
   ]
  },
  {
   "cell_type": "code",
   "execution_count": null,
   "metadata": {
    "dotnet_interactive": {
     "language": "csharp"
    }
   },
   "outputs": [],
   "source": [
    "var mlContext = new MLContext(seed: 1);"
   ]
  },
  {
   "cell_type": "code",
   "execution_count": null,
   "metadata": {
    "dotnet_interactive": {
     "language": "csharp"
    }
   },
   "outputs": [],
   "source": [
    "IDataView trainingData = mlContext.Data.LoadFromTextFile<SentimentIssue>(@\"datasets/mlnet/train_data.tsv\", hasHeader: true);\n",
    "IDataView testData = mlContext.Data.LoadFromTextFile<SentimentIssue>(@\"datasets/mlnet/train_data.tsv\", hasHeader: true);"
   ]
  },
  {
   "cell_type": "code",
   "execution_count": null,
   "metadata": {
    "dotnet_interactive": {
     "language": "csharp"
    }
   },
   "outputs": [],
   "source": [
    "var dataProcessPipeline = mlContext.Transforms.Text.FeaturizeText(\"Features\", nameof(SentimentIssue.Text));"
   ]
  },
  {
   "cell_type": "code",
   "execution_count": null,
   "metadata": {
    "dotnet_interactive": {
     "language": "csharp"
    }
   },
   "outputs": [],
   "source": [
    "var trainer = mlContext.BinaryClassification.Trainers.LbfgsLogisticRegression(\"Label\", \"Features\");\n",
    "var trainingPipeline = dataProcessPipeline.Append(trainer);"
   ]
  },
  {
   "cell_type": "code",
   "execution_count": null,
   "metadata": {
    "dotnet_interactive": {
     "language": "csharp"
    }
   },
   "outputs": [],
   "source": [
    "ITransformer trainedModel = trainingPipeline.Fit(trainingData);"
   ]
  },
  {
   "cell_type": "code",
   "execution_count": null,
   "metadata": {
    "dotnet_interactive": {
     "language": "csharp"
    }
   },
   "outputs": [],
   "source": [
    "var predictions = trainedModel.Transform(testData);\n",
    "var metrics = mlContext.BinaryClassification.Evaluate(data: predictions, labelColumnName: \"Label\", scoreColumnName: \"Score\");"
   ]
  },
  {
   "cell_type": "code",
   "execution_count": null,
   "metadata": {
    "dotnet_interactive": {
     "language": "csharp"
    }
   },
   "outputs": [
    {
     "name": "stdout",
     "output_type": "stream",
     "text": [
      "*       Accuracy: 70.80 %\n",
      "*       Area Under Curve:      79.01 %\n",
      "*       Area under Precision recall Curve:  78.55 %\n",
      "*       F1Score:  70.86 %\n",
      "*       LogLoss:  .89\n",
      "*       LogLossReduction:  .11\n",
      "*       PositivePrecision:  .71\n",
      "*       PositiveRecall:  .71\n",
      "*       NegativePrecision:  .71\n",
      "*       NegativeRecall:  70.60 %\n"
     ]
    }
   ],
   "source": [
    "Console.WriteLine($\"*       Accuracy: {metrics.Accuracy:P2}\");\n",
    "Console.WriteLine($\"*       Area Under Curve:      {metrics.AreaUnderRocCurve:P2}\");\n",
    "Console.WriteLine($\"*       Area under Precision recall Curve:  {metrics.AreaUnderPrecisionRecallCurve:P2}\");\n",
    "Console.WriteLine($\"*       F1Score:  {metrics.F1Score:P2}\");\n",
    "Console.WriteLine($\"*       LogLoss:  {metrics.LogLoss:#.##}\");\n",
    "Console.WriteLine($\"*       LogLossReduction:  {metrics.LogLossReduction:#.##}\");\n",
    "Console.WriteLine($\"*       PositivePrecision:  {metrics.PositivePrecision:#.##}\");\n",
    "Console.WriteLine($\"*       PositiveRecall:  {metrics.PositiveRecall:#.##}\");\n",
    "Console.WriteLine($\"*       NegativePrecision:  {metrics.NegativePrecision:#.##}\");\n",
    "Console.WriteLine($\"*       NegativeRecall:  {metrics.NegativeRecall:P2}\");"
   ]
  },
  {
   "cell_type": "code",
   "execution_count": null,
   "metadata": {
    "dotnet_interactive": {
     "language": "csharp"
    }
   },
   "outputs": [],
   "source": [
    "mlContext.Model.Save(trainedModel, trainingData.Schema, @\"datasets/mlnet/SentimentModel.zip\");"
   ]
  },
  {
   "cell_type": "code",
   "execution_count": null,
   "metadata": {
    "dotnet_interactive": {
     "language": "csharp"
    }
   },
   "outputs": [],
   "source": [
    "SentimentIssue sampleStatement = new SentimentIssue { Text = \"This is a very good film\" };"
   ]
  },
  {
   "cell_type": "code",
   "execution_count": null,
   "metadata": {
    "dotnet_interactive": {
     "language": "csharp"
    }
   },
   "outputs": [],
   "source": [
    "var predEngine = mlContext.Model.CreatePredictionEngine<SentimentIssue, SentimentPrediction>(trainedModel);"
   ]
  },
  {
   "cell_type": "code",
   "execution_count": null,
   "metadata": {
    "dotnet_interactive": {
     "language": "csharp"
    }
   },
   "outputs": [],
   "source": [
    "var resultprediction = predEngine.Predict(sampleStatement);"
   ]
  },
  {
   "cell_type": "code",
   "execution_count": null,
   "metadata": {
    "dotnet_interactive": {
     "language": "csharp"
    }
   },
   "outputs": [
    {
     "name": "stdout",
     "output_type": "stream",
     "text": [
      "=============== Single Prediction  ===============\n",
      "Text: This is a very good film | Prediction: Toxic sentiment | Probability of being toxic: 0.6393101 \n"
     ]
    }
   ],
   "source": [
    "Console.WriteLine($\"=============== Single Prediction  ===============\");\n",
    "Console.WriteLine($\"Text: {sampleStatement.Text} | Prediction: {(Convert.ToBoolean(resultprediction.Prediction) ? \"Toxic\" : \"Non Toxic\")} sentiment | Probability of being toxic: {resultprediction.Probability} \");"
   ]
  }
 ],
 "metadata": {
  "kernelspec": {
   "display_name": ".NET (C#)",
   "language": "C#",
   "name": ".net-csharp"
  },
  "language_info": {
   "file_extension": ".cs",
   "mimetype": "text/x-csharp",
   "name": "C#",
   "pygments_lexer": "csharp",
   "version": "9.0"
  },
  "orig_nbformat": 4
 },
 "nbformat": 4,
 "nbformat_minor": 2
}
