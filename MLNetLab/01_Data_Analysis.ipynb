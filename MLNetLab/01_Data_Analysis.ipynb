{
 "cells": [
  {
   "cell_type": "markdown",
   "metadata": {},
   "source": [
    "# **01.关于数据的整理** #\n",
    "\n",
    "机器学习以数据为主导，当做数据科学的工作的时候，我们第一步需要的是整理数据， 本次动手实验会结合开源，结合.NET 的数据整理工具进行。"
   ]
  },
  {
   "cell_type": "markdown",
   "metadata": {},
   "source": [
    "## **一 .NumSharp** ##\n",
    "\n",
    "在Python我们经常用Numpy做数据处理\n",
    "\n",
    "**什么是Numpy?**\n",
    "\n",
    "NumPy(Numerical Python) 是 Python 语言的一个扩展程序库，支持大量的维度数组与矩阵运算，此外也针对数组运算提供大量的数学函数库。\n",
    "\n",
    "NumPy（Numeric Python）提供了许多高级的数值编程工具，如：矩阵数据类型、矢量处理，以及精密的运算库。专为进行严格的数字处理而产生。多为很多大型金融公司使用\n",
    "\n",
    "在.NET Core中 ，有很好的原生第三方库 NumSharp 。 https://github.com/SciSharp/NumSharp\n",
    "\n",
    "\n",
    "\n",
    "\n"
   ]
  },
  {
   "cell_type": "code",
   "execution_count": null,
   "metadata": {
    "dotnet_interactive": {
     "language": "csharp"
    }
   },
   "outputs": [
    {
     "data": {
      "text/html": [
       "<div><div></div><div></div><div><strong>Installed Packages</strong><ul><li><span>NumSharp, 0.30.0</span></li></ul></div></div>"
      ]
     },
     "metadata": {},
     "output_type": "display_data"
    }
   ],
   "source": [
    "#r \"nuget: NumSharp\""
   ]
  },
  {
   "cell_type": "code",
   "execution_count": null,
   "metadata": {
    "dotnet_interactive": {
     "language": "csharp"
    }
   },
   "outputs": [],
   "source": [
    "using NumSharp;"
   ]
  },
  {
   "cell_type": "code",
   "execution_count": null,
   "metadata": {
    "dotnet_interactive": {
     "language": "csharp"
    }
   },
   "outputs": [],
   "source": [
    "\n",
    "var study_score_list = new float[]{50.0f, 50.0f, 47.0f ,97.0f ,49.0f ,3.0f ,53.0f ,42.0f ,26.0f ,74.0f ,82.0f ,62.0f ,37.0f ,15.0f ,70.0f ,27.0f ,36.0f ,35.0f ,48.0f ,52.0f ,63.0f ,64.0f };\n",
    "var numpy_array = np.array(study_score_list);"
   ]
  },
  {
   "cell_type": "code",
   "execution_count": null,
   "metadata": {
    "dotnet_interactive": {
     "language": "csharp"
    }
   },
   "outputs": [
    {
     "name": "stdout",
     "output_type": "stream",
     "text": [
      "50\n",
      "50\n",
      "47\n",
      "97\n",
      "49\n",
      "3\n",
      "53\n",
      "42\n",
      "26\n",
      "74\n",
      "82\n",
      "62\n",
      "37\n",
      "15\n",
      "70\n",
      "27\n",
      "36\n",
      "35\n",
      "48\n",
      "52\n",
      "63\n",
      "64\n"
     ]
    }
   ],
   "source": [
    "foreach(var item in numpy_array)\n",
    "{\n",
    "    Console.WriteLine(item.ToString());\n",
    "}"
   ]
  },
  {
   "cell_type": "code",
   "execution_count": null,
   "metadata": {
    "dotnet_interactive": {
     "language": "csharp"
    }
   },
   "outputs": [
    {
     "data": {
      "text/html": [
       "<table><thead><tr><th><i>index</i></th><th>value</th></tr></thead><tbody><tr><td>0</td><td><div class=\"dni-plaintext\">22</div></td></tr></tbody></table>"
      ]
     },
     "metadata": {},
     "output_type": "display_data"
    }
   ],
   "source": [
    "numpy_array.shape"
   ]
  },
  {
   "cell_type": "code",
   "execution_count": null,
   "metadata": {
    "dotnet_interactive": {
     "language": "csharp"
    }
   },
   "outputs": [
    {
     "data": {
      "text/html": [
       "<table><thead><tr><th><i>index</i></th><th>value</th></tr></thead><tbody><tr><td>0</td><td><div class=\"dni-plaintext\">50</div></td></tr></tbody></table>"
      ]
     },
     "metadata": {},
     "output_type": "display_data"
    }
   ],
   "source": [
    "numpy_array[0]"
   ]
  },
  {
   "cell_type": "code",
   "execution_count": null,
   "metadata": {
    "dotnet_interactive": {
     "language": "csharp"
    }
   },
   "outputs": [
    {
     "data": {
      "text/html": [
       "<table><thead><tr><th><i>index</i></th><th>value</th></tr></thead><tbody><tr><td>0</td><td><div class=\"dni-plaintext\">49.18182</div></td></tr></tbody></table>"
      ]
     },
     "metadata": {},
     "output_type": "display_data"
    }
   ],
   "source": [
    "numpy_array.mean()"
   ]
  },
  {
   "cell_type": "code",
   "execution_count": null,
   "metadata": {
    "dotnet_interactive": {
     "language": "csharp"
    }
   },
   "outputs": [],
   "source": [
    "float[,] study_datas_array = new float[2,22]{{10.0f ,11.5f ,9.0f ,16.0f , 9.25f , 1.0f ,11.5f ,9.0f ,8.5f ,14.5f ,15.5f,\n",
    "    13.75f ,9.0f ,8.0f, 15.5f ,8.0f , 9.0f , 6.0f ,10.0f ,12.0f ,12.5f,12.0f },{50.0f, 50.0f, 47.0f ,97.0f ,49.0f ,3.0f ,53.0f ,42.0f ,26.0f ,74.0f ,82.0f ,62.0f ,37.0f ,15.0f ,70.0f ,27.0f ,36.0f ,35.0f ,48.0f ,52.0f ,63.0f ,64.0f}};\n"
   ]
  },
  {
   "cell_type": "code",
   "execution_count": null,
   "metadata": {
    "dotnet_interactive": {
     "language": "csharp"
    }
   },
   "outputs": [],
   "source": [
    "\n",
    "NDArray study_datas_numpy = np.array(study_datas_array);"
   ]
  },
  {
   "cell_type": "code",
   "execution_count": null,
   "metadata": {
    "dotnet_interactive": {
     "language": "csharp"
    }
   },
   "outputs": [
    {
     "data": {
      "text/html": [
       "<table><thead><tr><th><i>index</i></th><th>value</th></tr></thead><tbody><tr><td>0</td><td><div class=\"dni-plaintext\">2</div></td></tr><tr><td>1</td><td><div class=\"dni-plaintext\">22</div></td></tr></tbody></table>"
      ]
     },
     "metadata": {},
     "output_type": "display_data"
    }
   ],
   "source": [
    "study_datas_numpy.shape"
   ]
  },
  {
   "cell_type": "code",
   "execution_count": null,
   "metadata": {
    "dotnet_interactive": {
     "language": "csharp"
    }
   },
   "outputs": [
    {
     "data": {
      "text/html": [
       "<table><thead><tr><th><i>index</i></th><th>value</th></tr></thead><tbody><tr><td>0</td><td><div class=\"dni-plaintext\">10</div></td></tr></tbody></table>"
      ]
     },
     "metadata": {},
     "output_type": "display_data"
    }
   ],
   "source": [
    "study_datas_numpy[0][0]"
   ]
  },
  {
   "cell_type": "code",
   "execution_count": null,
   "metadata": {
    "dotnet_interactive": {
     "language": "csharp"
    }
   },
   "outputs": [],
   "source": [
    "\n",
    "var avg_study = study_datas_numpy[0].mean();\n",
    "var avg_grade = study_datas_numpy[1].mean();\n",
    "\n"
   ]
  },
  {
   "cell_type": "code",
   "execution_count": null,
   "metadata": {
    "dotnet_interactive": {
     "language": "csharp"
    }
   },
   "outputs": [
    {
     "data": {
      "text/html": [
       "<table><thead><tr><th><i>index</i></th><th>value</th></tr></thead><tbody><tr><td>0</td><td><div class=\"dni-plaintext\">10.522727</div></td></tr></tbody></table>"
      ]
     },
     "metadata": {},
     "output_type": "display_data"
    }
   ],
   "source": [
    "avg_study"
   ]
  },
  {
   "cell_type": "code",
   "execution_count": null,
   "metadata": {
    "dotnet_interactive": {
     "language": "csharp"
    }
   },
   "outputs": [
    {
     "data": {
      "text/html": [
       "<table><thead><tr><th><i>index</i></th><th>value</th></tr></thead><tbody><tr><td>0</td><td><div class=\"dni-plaintext\">49.18182</div></td></tr></tbody></table>"
      ]
     },
     "metadata": {},
     "output_type": "display_data"
    }
   ],
   "source": [
    "avg_grade"
   ]
  },
  {
   "cell_type": "markdown",
   "metadata": {},
   "source": [
    "## **2. 通过.NET Core中的DataFrame对数据进行整理** ##\n",
    "\n",
    "再来看看Python , 当我们整理数据过程中，除了数据一些格式转换外，需要检查数据，找出是否有空值，有什么数据特征，一般用pandas解决。\n",
    "\n",
    "pandas 是基于NumPy 的一种工具，该工具是为解决数据分析任务而创建的。Pandas 纳入了大量库和一些标准的数据模型，提供了高效地操作大型数据集所需的工具。pandas提供了大量能使我们快速便捷地处理数据的函数和方法。\n",
    "\n",
    "在.NET Core 中有原生对应的方案\n",
    "\n",
    ".NET 的 DataFrame 类型，使数据探索变得容易。"
   ]
  },
  {
   "cell_type": "code",
   "execution_count": null,
   "metadata": {
    "dotnet_interactive": {
     "language": "csharp"
    }
   },
   "outputs": [
    {
     "data": {
      "text/html": [
       "<div><div></div><div></div><div><strong>Installed Packages</strong><ul><li><span>Microsoft.Data.Analysis, 0.19.0</span></li></ul></div></div>"
      ]
     },
     "metadata": {},
     "output_type": "display_data"
    },
    {
     "data": {
      "text/markdown": [
       "Loading extensions from `Microsoft.Data.Analysis.Interactive.dll`"
      ]
     },
     "metadata": {},
     "output_type": "display_data"
    }
   ],
   "source": [
    "#r \"nuget:Microsoft.Data.Analysis\""
   ]
  },
  {
   "cell_type": "code",
   "execution_count": null,
   "metadata": {
    "dotnet_interactive": {
     "language": "csharp"
    }
   },
   "outputs": [],
   "source": [
    "using Microsoft.Data.Analysis;"
   ]
  },
  {
   "cell_type": "code",
   "execution_count": null,
   "metadata": {
    "dotnet_interactive": {
     "language": "csharp"
    }
   },
   "outputs": [],
   "source": [
    "StringDataFrameColumn nameList = new StringDataFrameColumn(\"Strings\");\n",
    "PrimitiveDataFrameColumn<float> timelist = new PrimitiveDataFrameColumn<float>(\"StudyTime\");\n",
    "PrimitiveDataFrameColumn<float> scorelist = new PrimitiveDataFrameColumn<float>(\"StudyScore\");"
   ]
  },
  {
   "cell_type": "code",
   "execution_count": null,
   "metadata": {
    "dotnet_interactive": {
     "language": "csharp"
    }
   },
   "outputs": [],
   "source": [
    "\n",
    "var student_list = new string[]{\"Dan\", \"Joann\", \"Pedro\", \"Rosie\", \"Ethan\", \"Vicky\", \"Frederic\", \"Jimmie\", \"Rhonda\", \"Giovanni\", \"Francesca\", \"Rajab\", \"Naiyana\", \"Kian\", \"Jenny\",\"Jakeem\",\"Helena\",\"Ismat\",\"Anila\",\"Skye\",\"Daniel\",\"Aisha\" };\n"
   ]
  },
  {
   "cell_type": "code",
   "execution_count": null,
   "metadata": {
    "dotnet_interactive": {
     "language": "csharp"
    }
   },
   "outputs": [
    {
     "data": {
      "text/html": [
       "<div class=\"dni-plaintext\">22</div>"
      ]
     },
     "metadata": {},
     "output_type": "display_data"
    }
   ],
   "source": [
    "student_list.Length"
   ]
  },
  {
   "cell_type": "code",
   "execution_count": null,
   "metadata": {
    "dotnet_interactive": {
     "language": "csharp"
    }
   },
   "outputs": [],
   "source": [
    "for(var i = 0 ; i< student_list.Length ;i++)\n",
    "{\n",
    "    nameList.Append(student_list[i]);\n",
    "}"
   ]
  },
  {
   "cell_type": "code",
   "execution_count": null,
   "metadata": {
    "dotnet_interactive": {
     "language": "csharp"
    }
   },
   "outputs": [],
   "source": [
    "for(var i = 0 ; i< study_datas_numpy.shape[1] ;i++)\n",
    "{\n",
    "   timelist.Append(study_datas_numpy[0][i]);\n",
    "   scorelist.Append(study_datas_numpy[1][i]);\n",
    "}"
   ]
  },
  {
   "cell_type": "code",
   "execution_count": null,
   "metadata": {
    "dotnet_interactive": {
     "language": "csharp"
    }
   },
   "outputs": [
    {
     "data": {
      "text/html": [
       "<table><thead><tr><th><i>index</i></th><th>value</th></tr></thead><tbody><tr><td>0</td><td>Dan</td></tr><tr><td>1</td><td>Joann</td></tr><tr><td>2</td><td>Pedro</td></tr><tr><td>3</td><td>Rosie</td></tr><tr><td>4</td><td>Ethan</td></tr><tr><td>5</td><td>Vicky</td></tr><tr><td>6</td><td>Frederic</td></tr><tr><td>7</td><td>Jimmie</td></tr><tr><td>8</td><td>Rhonda</td></tr><tr><td>9</td><td>Giovanni</td></tr><tr><td>10</td><td>Francesca</td></tr><tr><td>11</td><td>Rajab</td></tr><tr><td>12</td><td>Naiyana</td></tr><tr><td>13</td><td>Kian</td></tr><tr><td>14</td><td>Jenny</td></tr><tr><td>15</td><td>Jakeem</td></tr><tr><td>16</td><td>Helena</td></tr><tr><td>17</td><td>Ismat</td></tr><tr><td>18</td><td>Anila</td></tr><tr><td>19</td><td>Skye</td></tr><tr><td colspan=\"2\"><i>... (more)</i></td></tr></tbody></table>"
      ]
     },
     "metadata": {},
     "output_type": "display_data"
    }
   ],
   "source": [
    "nameList"
   ]
  },
  {
   "cell_type": "code",
   "execution_count": null,
   "metadata": {
    "dotnet_interactive": {
     "language": "csharp"
    }
   },
   "outputs": [],
   "source": [
    "DataFrame df = new DataFrame(nameList ,timelist, scorelist); "
   ]
  },
  {
   "cell_type": "code",
   "execution_count": null,
   "metadata": {
    "dotnet_interactive": {
     "language": "csharp"
    }
   },
   "outputs": [
    {
     "data": {
      "text/html": [
       "<table id=\"table_637754125938620964\"><thead><tr><th><i>index</i></th><th>Strings</th><th>StudyTime</th><th>StudyScore</th></tr></thead><tbody><tr><td><i><div class=\"dni-plaintext\">0</div></i></td><td>Dan</td><td><div class=\"dni-plaintext\">10</div></td><td><div class=\"dni-plaintext\">50</div></td></tr><tr><td><i><div class=\"dni-plaintext\">1</div></i></td><td>Joann</td><td><div class=\"dni-plaintext\">11.5</div></td><td><div class=\"dni-plaintext\">50</div></td></tr><tr><td><i><div class=\"dni-plaintext\">2</div></i></td><td>Pedro</td><td><div class=\"dni-plaintext\">9</div></td><td><div class=\"dni-plaintext\">47</div></td></tr><tr><td><i><div class=\"dni-plaintext\">3</div></i></td><td>Rosie</td><td><div class=\"dni-plaintext\">16</div></td><td><div class=\"dni-plaintext\">97</div></td></tr><tr><td><i><div class=\"dni-plaintext\">4</div></i></td><td>Ethan</td><td><div class=\"dni-plaintext\">9.25</div></td><td><div class=\"dni-plaintext\">49</div></td></tr><tr><td><i><div class=\"dni-plaintext\">5</div></i></td><td>Vicky</td><td><div class=\"dni-plaintext\">1</div></td><td><div class=\"dni-plaintext\">3</div></td></tr><tr><td><i><div class=\"dni-plaintext\">6</div></i></td><td>Frederic</td><td><div class=\"dni-plaintext\">11.5</div></td><td><div class=\"dni-plaintext\">53</div></td></tr><tr><td><i><div class=\"dni-plaintext\">7</div></i></td><td>Jimmie</td><td><div class=\"dni-plaintext\">9</div></td><td><div class=\"dni-plaintext\">42</div></td></tr><tr><td><i><div class=\"dni-plaintext\">8</div></i></td><td>Rhonda</td><td><div class=\"dni-plaintext\">8.5</div></td><td><div class=\"dni-plaintext\">26</div></td></tr><tr><td><i><div class=\"dni-plaintext\">9</div></i></td><td>Giovanni</td><td><div class=\"dni-plaintext\">14.5</div></td><td><div class=\"dni-plaintext\">74</div></td></tr><tr><td><i><div class=\"dni-plaintext\">10</div></i></td><td>Francesca</td><td><div class=\"dni-plaintext\">15.5</div></td><td><div class=\"dni-plaintext\">82</div></td></tr><tr><td><i><div class=\"dni-plaintext\">11</div></i></td><td>Rajab</td><td><div class=\"dni-plaintext\">13.75</div></td><td><div class=\"dni-plaintext\">62</div></td></tr><tr><td><i><div class=\"dni-plaintext\">12</div></i></td><td>Naiyana</td><td><div class=\"dni-plaintext\">9</div></td><td><div class=\"dni-plaintext\">37</div></td></tr><tr><td><i><div class=\"dni-plaintext\">13</div></i></td><td>Kian</td><td><div class=\"dni-plaintext\">8</div></td><td><div class=\"dni-plaintext\">15</div></td></tr><tr><td><i><div class=\"dni-plaintext\">14</div></i></td><td>Jenny</td><td><div class=\"dni-plaintext\">15.5</div></td><td><div class=\"dni-plaintext\">70</div></td></tr><tr><td><i><div class=\"dni-plaintext\">15</div></i></td><td>Jakeem</td><td><div class=\"dni-plaintext\">8</div></td><td><div class=\"dni-plaintext\">27</div></td></tr><tr><td><i><div class=\"dni-plaintext\">16</div></i></td><td>Helena</td><td><div class=\"dni-plaintext\">9</div></td><td><div class=\"dni-plaintext\">36</div></td></tr><tr><td><i><div class=\"dni-plaintext\">17</div></i></td><td>Ismat</td><td><div class=\"dni-plaintext\">6</div></td><td><div class=\"dni-plaintext\">35</div></td></tr><tr><td><i><div class=\"dni-plaintext\">18</div></i></td><td>Anila</td><td><div class=\"dni-plaintext\">10</div></td><td><div class=\"dni-plaintext\">48</div></td></tr><tr><td><i><div class=\"dni-plaintext\">19</div></i></td><td>Skye</td><td><div class=\"dni-plaintext\">12</div></td><td><div class=\"dni-plaintext\">52</div></td></tr><tr><td><i><div class=\"dni-plaintext\">20</div></i></td><td>Daniel</td><td><div class=\"dni-plaintext\">12.5</div></td><td><div class=\"dni-plaintext\">63</div></td></tr><tr><td><i><div class=\"dni-plaintext\">21</div></i></td><td>Aisha</td><td><div class=\"dni-plaintext\">12</div></td><td><div class=\"dni-plaintext\">64</div></td></tr></tbody></table>"
      ]
     },
     "metadata": {},
     "output_type": "display_data"
    }
   ],
   "source": [
    "df"
   ]
  },
  {
   "cell_type": "code",
   "execution_count": null,
   "metadata": {
    "dotnet_interactive": {
     "language": "csharp"
    }
   },
   "outputs": [
    {
     "data": {
      "text/html": [
       "<table id=\"table_637754125939361465\"><thead><tr><th><i>index</i></th><th>Info</th><th>Strings</th><th>StudyTime</th><th>StudyScore</th></tr></thead><tbody><tr><td><i><div class=\"dni-plaintext\">0</div></i></td><td>DataType</td><td>System.String</td><td>System.Single</td><td>System.Single</td></tr><tr><td><i><div class=\"dni-plaintext\">1</div></i></td><td>Length (excluding null values)</td><td>22</td><td>22</td><td>22</td></tr></tbody></table>"
      ]
     },
     "metadata": {},
     "output_type": "display_data"
    }
   ],
   "source": [
    "df.Info()"
   ]
  },
  {
   "cell_type": "code",
   "execution_count": null,
   "metadata": {
    "dotnet_interactive": {
     "language": "csharp"
    }
   },
   "outputs": [],
   "source": [
    "var order = df.OrderBy(\"StudyScore\");"
   ]
  },
  {
   "cell_type": "code",
   "execution_count": null,
   "metadata": {
    "dotnet_interactive": {
     "language": "csharp"
    }
   },
   "outputs": [
    {
     "data": {
      "text/html": [
       "<table id=\"table_637754125941142883\"><thead><tr><th><i>index</i></th><th>Strings</th><th>StudyTime</th><th>StudyScore</th></tr></thead><tbody><tr><td><i><div class=\"dni-plaintext\">0</div></i></td><td>Vicky</td><td><div class=\"dni-plaintext\">1</div></td><td><div class=\"dni-plaintext\">3</div></td></tr><tr><td><i><div class=\"dni-plaintext\">1</div></i></td><td>Kian</td><td><div class=\"dni-plaintext\">8</div></td><td><div class=\"dni-plaintext\">15</div></td></tr><tr><td><i><div class=\"dni-plaintext\">2</div></i></td><td>Rhonda</td><td><div class=\"dni-plaintext\">8.5</div></td><td><div class=\"dni-plaintext\">26</div></td></tr><tr><td><i><div class=\"dni-plaintext\">3</div></i></td><td>Jakeem</td><td><div class=\"dni-plaintext\">8</div></td><td><div class=\"dni-plaintext\">27</div></td></tr><tr><td><i><div class=\"dni-plaintext\">4</div></i></td><td>Ismat</td><td><div class=\"dni-plaintext\">6</div></td><td><div class=\"dni-plaintext\">35</div></td></tr><tr><td><i><div class=\"dni-plaintext\">5</div></i></td><td>Helena</td><td><div class=\"dni-plaintext\">9</div></td><td><div class=\"dni-plaintext\">36</div></td></tr><tr><td><i><div class=\"dni-plaintext\">6</div></i></td><td>Naiyana</td><td><div class=\"dni-plaintext\">9</div></td><td><div class=\"dni-plaintext\">37</div></td></tr><tr><td><i><div class=\"dni-plaintext\">7</div></i></td><td>Jimmie</td><td><div class=\"dni-plaintext\">9</div></td><td><div class=\"dni-plaintext\">42</div></td></tr><tr><td><i><div class=\"dni-plaintext\">8</div></i></td><td>Pedro</td><td><div class=\"dni-plaintext\">9</div></td><td><div class=\"dni-plaintext\">47</div></td></tr><tr><td><i><div class=\"dni-plaintext\">9</div></i></td><td>Anila</td><td><div class=\"dni-plaintext\">10</div></td><td><div class=\"dni-plaintext\">48</div></td></tr><tr><td><i><div class=\"dni-plaintext\">10</div></i></td><td>Ethan</td><td><div class=\"dni-plaintext\">9.25</div></td><td><div class=\"dni-plaintext\">49</div></td></tr><tr><td><i><div class=\"dni-plaintext\">11</div></i></td><td>Joann</td><td><div class=\"dni-plaintext\">11.5</div></td><td><div class=\"dni-plaintext\">50</div></td></tr><tr><td><i><div class=\"dni-plaintext\">12</div></i></td><td>Dan</td><td><div class=\"dni-plaintext\">10</div></td><td><div class=\"dni-plaintext\">50</div></td></tr><tr><td><i><div class=\"dni-plaintext\">13</div></i></td><td>Skye</td><td><div class=\"dni-plaintext\">12</div></td><td><div class=\"dni-plaintext\">52</div></td></tr><tr><td><i><div class=\"dni-plaintext\">14</div></i></td><td>Frederic</td><td><div class=\"dni-plaintext\">11.5</div></td><td><div class=\"dni-plaintext\">53</div></td></tr><tr><td><i><div class=\"dni-plaintext\">15</div></i></td><td>Rajab</td><td><div class=\"dni-plaintext\">13.75</div></td><td><div class=\"dni-plaintext\">62</div></td></tr><tr><td><i><div class=\"dni-plaintext\">16</div></i></td><td>Daniel</td><td><div class=\"dni-plaintext\">12.5</div></td><td><div class=\"dni-plaintext\">63</div></td></tr><tr><td><i><div class=\"dni-plaintext\">17</div></i></td><td>Aisha</td><td><div class=\"dni-plaintext\">12</div></td><td><div class=\"dni-plaintext\">64</div></td></tr><tr><td><i><div class=\"dni-plaintext\">18</div></i></td><td>Jenny</td><td><div class=\"dni-plaintext\">15.5</div></td><td><div class=\"dni-plaintext\">70</div></td></tr><tr><td><i><div class=\"dni-plaintext\">19</div></i></td><td>Giovanni</td><td><div class=\"dni-plaintext\">14.5</div></td><td><div class=\"dni-plaintext\">74</div></td></tr><tr><td><i><div class=\"dni-plaintext\">20</div></i></td><td>Francesca</td><td><div class=\"dni-plaintext\">15.5</div></td><td><div class=\"dni-plaintext\">82</div></td></tr><tr><td><i><div class=\"dni-plaintext\">21</div></i></td><td>Rosie</td><td><div class=\"dni-plaintext\">16</div></td><td><div class=\"dni-plaintext\">97</div></td></tr></tbody></table>"
      ]
     },
     "metadata": {},
     "output_type": "display_data"
    }
   ],
   "source": [
    "order"
   ]
  },
  {
   "cell_type": "code",
   "execution_count": null,
   "metadata": {
    "dotnet_interactive": {
     "language": "csharp"
    }
   },
   "outputs": [],
   "source": [
    "var find_score = df[\"StudyScore\"].ElementwiseEquals(74);"
   ]
  },
  {
   "cell_type": "code",
   "execution_count": null,
   "metadata": {
    "dotnet_interactive": {
     "language": "csharp"
    }
   },
   "outputs": [
    {
     "data": {
      "text/html": [
       "<table><thead><tr><th><i>index</i></th><th>value</th></tr></thead><tbody><tr><td>0</td><td><div class=\"dni-plaintext\">False</div></td></tr><tr><td>1</td><td><div class=\"dni-plaintext\">False</div></td></tr><tr><td>2</td><td><div class=\"dni-plaintext\">False</div></td></tr><tr><td>3</td><td><div class=\"dni-plaintext\">False</div></td></tr><tr><td>4</td><td><div class=\"dni-plaintext\">False</div></td></tr><tr><td>5</td><td><div class=\"dni-plaintext\">False</div></td></tr><tr><td>6</td><td><div class=\"dni-plaintext\">False</div></td></tr><tr><td>7</td><td><div class=\"dni-plaintext\">False</div></td></tr><tr><td>8</td><td><div class=\"dni-plaintext\">False</div></td></tr><tr><td>9</td><td><div class=\"dni-plaintext\">True</div></td></tr><tr><td>10</td><td><div class=\"dni-plaintext\">False</div></td></tr><tr><td>11</td><td><div class=\"dni-plaintext\">False</div></td></tr><tr><td>12</td><td><div class=\"dni-plaintext\">False</div></td></tr><tr><td>13</td><td><div class=\"dni-plaintext\">False</div></td></tr><tr><td>14</td><td><div class=\"dni-plaintext\">False</div></td></tr><tr><td>15</td><td><div class=\"dni-plaintext\">False</div></td></tr><tr><td>16</td><td><div class=\"dni-plaintext\">False</div></td></tr><tr><td>17</td><td><div class=\"dni-plaintext\">False</div></td></tr><tr><td>18</td><td><div class=\"dni-plaintext\">False</div></td></tr><tr><td>19</td><td><div class=\"dni-plaintext\">False</div></td></tr><tr><td colspan=\"2\"><i>... (more)</i></td></tr></tbody></table>"
      ]
     },
     "metadata": {},
     "output_type": "display_data"
    }
   ],
   "source": [
    "find_score"
   ]
  },
  {
   "cell_type": "code",
   "execution_count": null,
   "metadata": {
    "dotnet_interactive": {
     "language": "csharp"
    }
   },
   "outputs": [],
   "source": [
    "var score = df.Filter(find_score);"
   ]
  },
  {
   "cell_type": "code",
   "execution_count": null,
   "metadata": {
    "dotnet_interactive": {
     "language": "csharp"
    }
   },
   "outputs": [
    {
     "data": {
      "text/html": [
       "<table id=\"table_637754125942916960\"><thead><tr><th><i>index</i></th><th>Strings</th><th>StudyTime</th><th>StudyScore</th></tr></thead><tbody><tr><td><i><div class=\"dni-plaintext\">0</div></i></td><td>Giovanni</td><td><div class=\"dni-plaintext\">14.5</div></td><td><div class=\"dni-plaintext\">74</div></td></tr></tbody></table>"
      ]
     },
     "metadata": {},
     "output_type": "display_data"
    }
   ],
   "source": [
    "score"
   ]
  },
  {
   "cell_type": "markdown",
   "metadata": {},
   "source": [
    "## **三.数据图表工具XPlot** ##\n",
    "\n",
    "在Python中，Matplotlib是一个2D绘图库，它以各种硬拷贝格式和跨平台的交互式环境生成出版质量级别的图形。通过Matplotlib，开发者可以仅需要几行代码，便可以生成绘图。一般可绘制折线图、散点图、柱状图、饼图、直方图、子图等等。Matplotlib使用Numpy进行数组运算，并调用一系列其他的Python库来实现硬件交互。\n",
    "\n",
    "而对应.NET Core有XPlot https://fslab.org/XPlot/\n"
   ]
  },
  {
   "cell_type": "code",
   "execution_count": null,
   "metadata": {
    "dotnet_interactive": {
     "language": "csharp"
    }
   },
   "outputs": [
    {
     "data": {
      "text/html": [
       "<div><div><strong>Restore sources</strong><ul><li><span>https://pkgs.dev.azure.com/dnceng/public/_packaging/dotnet-tools/nuget/v3/index.json</span></li></ul></div><div></div><div><strong>Installed Packages</strong><ul><li><span>xplot.plotly.interactive, 4.0.6</span></li></ul></div></div>"
      ]
     },
     "metadata": {},
     "output_type": "display_data"
    },
    {
     "data": {
      "text/markdown": [
       "Loading extensions from `XPlot.Plotly.Interactive.dll`"
      ]
     },
     "metadata": {},
     "output_type": "display_data"
    },
    {
     "data": {
      "text/markdown": [
       "Configuring PowerShell Kernel for XPlot.Plotly integration."
      ]
     },
     "metadata": {},
     "output_type": "display_data"
    },
    {
     "data": {
      "text/markdown": [
       "Installed support for XPlot.Plotly."
      ]
     },
     "metadata": {},
     "output_type": "display_data"
    }
   ],
   "source": [
    "#i \"nuget:https://pkgs.dev.azure.com/dnceng/public/_packaging/dotnet-tools/nuget/v3/index.json\"\n",
    "#r \"nuget:xplot.plotly.interactive\""
   ]
  },
  {
   "cell_type": "code",
   "execution_count": null,
   "metadata": {
    "dotnet_interactive": {
     "language": "csharp"
    }
   },
   "outputs": [],
   "source": [
    "using XPlot.Plotly;\n",
    "using System.Linq;"
   ]
  },
  {
   "cell_type": "markdown",
   "metadata": {},
   "source": []
  },
  {
   "cell_type": "code",
   "execution_count": null,
   "metadata": {
    "dotnet_interactive": {
     "language": "csharp"
    }
   },
   "outputs": [],
   "source": [
    "IList<float> data_list=new List<float>(){50.0f, 50.0f, 47.0f ,97.0f ,49.0f ,3.0f ,53.0f ,42.0f ,26.0f ,74.0f ,82.0f ,62.0f ,37.0f ,15.0f ,70.0f ,27.0f ,36.0f ,35.0f ,48.0f ,52.0f ,63.0f ,64.0f};"
   ]
  },
  {
   "cell_type": "code",
   "execution_count": null,
   "metadata": {
    "dotnet_interactive": {
     "language": "csharp"
    }
   },
   "outputs": [
    {
     "data": {
      "text/html": [
       "<!DOCTYPE html>\n",
       "<div style=\"width: 900px; height: 500px;\" id=\"4d0463e1-0d71-400b-a886-b1ae53b63337\"></div><script type=\"text/javascript\">\n",
       "\n",
       "var renderPlotly = function() {\n",
       "    var xplotRequire = require.config({context:'xplot-3.0.1',paths:{plotly:'https://cdn.plot.ly/plotly-1.49.2.min'}}) || require;\n",
       "    xplotRequire(['plotly'], function(Plotly) { \n",
       "\n",
       "            var data = [{\"type\":\"bar\",\"x\":[50.0,50.0,47.0,97.0,49.0,3.0,53.0,42.0,26.0,74.0,82.0,62.0,37.0,15.0,70.0,27.0,36.0,35.0,48.0,52.0,63.0,64.0],\"orientation\":\"h\"}];\n",
       "           var layout = \"\";\n",
       "           Plotly.newPlot('4d0463e1-0d71-400b-a886-b1ae53b63337', data, layout);\n",
       "        \n",
       "});\n",
       "};\n",
       "// ensure `require` is available globally\r\n",
       "if ((typeof(require) !==  typeof(Function)) || (typeof(require.config) !== typeof(Function))) {\r\n",
       "    let require_script = document.createElement('script');\r\n",
       "    require_script.setAttribute('src', 'https://cdnjs.cloudflare.com/ajax/libs/require.js/2.3.6/require.min.js');\r\n",
       "    require_script.setAttribute('type', 'text/javascript');\r\n",
       "    \r\n",
       "    \r\n",
       "    require_script.onload = function() {\r\n",
       "        renderPlotly();\r\n",
       "    };\r\n",
       "\r\n",
       "    document.getElementsByTagName('head')[0].appendChild(require_script);\r\n",
       "}\r\n",
       "else {\r\n",
       "    renderPlotly();\r\n",
       "}\r\n",
       "\n",
       "</script>\n"
      ]
     },
     "metadata": {},
     "output_type": "display_data"
    }
   ],
   "source": [
    "display(Chart.Bar(data_list));"
   ]
  }
 ],
 "metadata": {
  "kernelspec": {
   "display_name": ".NET (C#)",
   "language": "C#",
   "name": ".net-csharp"
  },
  "language_info": {
   "file_extension": ".cs",
   "mimetype": "text/x-csharp",
   "name": "C#",
   "pygments_lexer": "csharp",
   "version": "9.0"
  }
 },
 "nbformat": 4,
 "nbformat_minor": 5
}
