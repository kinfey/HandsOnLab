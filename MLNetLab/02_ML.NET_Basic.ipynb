{
 "cells": [
  {
   "cell_type": "markdown",
   "metadata": {},
   "source": [
    "# **02. ML.NET** #\n",
    "\n",
    "ML.NET 是 Microsoft 的机器学习框架，它提供了一种在 .NET 生态系统中训练、创建和运行模型的简单方法。 这对 .NET 开发人员来说是个好消息，因为它可以让您重用作为 .NET 开发人员已经拥有的所有知识、技能、代码和库。 然而，这不仅仅是面向 .NET 开发人员的框架。 事实上，ML.NET 证明了自己是一个很棒的端到端工具，它使任何开发人员都能够创建复杂的管道并绑定到不同的数据源。\n",
    "\n",
    "## **1. 关于ML.NET 的使用方法** ##\n",
    "\n",
    "直接通过dotnet add package \n",
    "\n",
    "```zsh\n",
    "\n",
    "dotnet add package Microsoft.ML --version 1.6.0\n",
    "\n",
    "```\n",
    "\n",
    "也可以通过mlnet cli 来完成\n",
    "\n",
    "```zsh\n",
    "\n",
    "mlnet classification --dataset \"wikipedia-detox-250-line-data.tsv\" --label-col 2 --has-header true --train-time 10\n",
    "\n",
    "```\n",
    "\n",
    "**注意问题：** mlnet 依赖于.NETCore 3.x 所以必须要安装.NETCore 3.x Runtime"
   ]
  },
  {
   "cell_type": "markdown",
   "metadata": {},
   "source": [
    "**关于安装mlnet cli***\n",
    "\n",
    "1. 安装.net core 3.x runtime\n",
    "2. dotnet tool install -g mlnet"
   ]
  },
  {
   "cell_type": "markdown",
   "metadata": {},
   "source": [
    "## **2. 通过Visual Studio 2019快速搭建ML.NET解决方案** ##\n",
    "\n",
    "<img src=\"./image/02/02_001.png\">"
   ]
  },
  {
   "cell_type": "markdown",
   "metadata": {},
   "source": [
    "通过VS 2019 的ML.NET 插件可以快速创建机器学习模型\n",
    "\n",
    "<img src=\"./image/02/02_002.png\">"
   ]
  },
  {
   "cell_type": "markdown",
   "metadata": {},
   "source": [
    "\n",
    "<img src=\"./image/02/02_003.png\">"
   ]
  },
  {
   "cell_type": "markdown",
   "metadata": {},
   "source": [
    "## **一起动手玩玩** ##\n",
    "\n",
    "<img src=\"./image/02/02_004.png\">"
   ]
  },
  {
   "cell_type": "markdown",
   "metadata": {},
   "source": [
    "## **更多例子** ##\n",
    "\n",
    "https://github.com/dotnet/machinelearning-samples\n",
    "\n"
   ]
  }
 ],
 "metadata": {
  "kernelspec": {
   "display_name": ".NET (C#)",
   "language": "C#",
   "name": ".net-csharp"
  },
  "language_info": {
   "file_extension": ".cs",
   "mimetype": "text/x-csharp",
   "name": "C#",
   "pygments_lexer": "csharp",
   "version": "9.0"
  },
  "orig_nbformat": 4
 },
 "nbformat": 4,
 "nbformat_minor": 2
}
