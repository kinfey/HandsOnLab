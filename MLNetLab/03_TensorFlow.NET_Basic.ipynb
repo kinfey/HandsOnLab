{
 "cells": [
  {
   "cell_type": "markdown",
   "metadata": {
    "dotnet_interactive": {
     "language": "csharp"
    }
   },
   "source": [
    "# **TensorFlow.NET** #\n",
    "\n",
    "<img src=\"./image/03/03_001.png\">\n",
    "\n",
    "**TensorFlow 是一个端到端开源机器学习平台。它拥有一个全面而灵活的生态系统，其中包含各种工具、库和社区资源，可助力研究人员推动先进机器学习技术的发展，并使开发者能够轻松地构建和部署由机器学习提供支持的应用。**\n",
    "\n",
    "\n",
    "<img src=\"./image/03/03_002.png\">\n",
    "\n"
   ]
  },
  {
   "cell_type": "markdown",
   "metadata": {},
   "source": [
    "## **感谢社区， .NET Core 除了原生的ML.NET ,也有社区的机器学习框架 TensorFlow** ##\n",
    "\n",
    "\n",
    "<img src=\"./image/03/03_003.png\">\n",
    "\n",
    "https://github.com/SciSharp \n",
    "\n",
    "这里面有和TensorFlow同步的TensorFlow.NET ，让.NET 程序员无缝进入深度学习领域\n",
    "\n",
    "\n",
    "<img src=\"./image/03/03_004.png\">\n",
    "\n",
    "https://github.com/SciSharp/TensorFlow.NET\n",
    "\n",
    "**TensorFlow.NET (TF.NET) 为 TensorFlow 提供了 .NET Standard 绑定。 它旨在用 C# 实现完整的 Tensorflow API，允许 .NET 开发人员使用跨平台的 .NET Standard 框架开发、训练和部署机器学习模型。 TensorFlow.NET 内置了 Keras 高级接口，并作为独立包 TensorFlow.Keras 发布。**"
   ]
  },
  {
   "cell_type": "code",
   "execution_count": null,
   "metadata": {
    "dotnet_interactive": {
     "language": "csharp"
    }
   },
   "outputs": [
    {
     "data": {
      "text/html": [
       "<div><div></div><div></div><div><strong>Installed Packages</strong><ul><li><span>NumSharp, 0.30.0</span></li><li><span>SciSharp.TensorFlow.Redist, 2.7.0</span></li><li><span>TensorFlow.Keras, 0.6.5</span></li><li><span>TensorFlow.Net, 0.60.5</span></li></ul></div></div>"
      ]
     },
     "metadata": {},
     "output_type": "display_data"
    }
   ],
   "source": [
    "#r \"nuget: TensorFlow.Net\"\n",
    "#r \"nuget: TensorFlow.Keras\"\n",
    "#r \"nuget: SciSharp.TensorFlow.Redist\"\n",
    "#r \"nuget: NumSharp\""
   ]
  },
  {
   "cell_type": "code",
   "execution_count": null,
   "metadata": {
    "dotnet_interactive": {
     "language": "csharp"
    }
   },
   "outputs": [],
   "source": [
    "using Tensorflow;\n",
    "using static Tensorflow.Binding;"
   ]
  },
  {
   "cell_type": "code",
   "execution_count": null,
   "metadata": {
    "dotnet_interactive": {
     "language": "csharp"
    }
   },
   "outputs": [],
   "source": [
    "tf.enable_eager_execution();"
   ]
  },
  {
   "cell_type": "code",
   "execution_count": null,
   "metadata": {
    "dotnet_interactive": {
     "language": "csharp"
    }
   },
   "outputs": [],
   "source": [
    "var str = \"Hello, TensorFlow.NET!\";\n",
    "var hello = tf.constant(str);"
   ]
  },
  {
   "cell_type": "code",
   "execution_count": null,
   "metadata": {
    "dotnet_interactive": {
     "language": "csharp"
    }
   },
   "outputs": [
    {
     "name": "stdout",
     "output_type": "stream",
     "text": [
      "tf.Tensor: shape=(), dtype=string, numpy='Hello, TensorFlow.NET!'\n"
     ]
    }
   ],
   "source": [
    "print(hello);"
   ]
  },
  {
   "cell_type": "code",
   "execution_count": null,
   "metadata": {
    "dotnet_interactive": {
     "language": "csharp"
    }
   },
   "outputs": [],
   "source": [
    "var tensor = hello.numpy();"
   ]
  },
  {
   "cell_type": "code",
   "execution_count": null,
   "metadata": {
    "dotnet_interactive": {
     "language": "csharp"
    }
   },
   "outputs": [
    {
     "data": {
      "text/plain": [
       "'Hello, TensorFlow.NET!'"
      ]
     },
     "metadata": {},
     "output_type": "display_data"
    }
   ],
   "source": [
    "tensor.ToString() "
   ]
  }
 ],
 "metadata": {
  "kernelspec": {
   "display_name": ".NET (C#)",
   "language": "C#",
   "name": ".net-csharp"
  },
  "language_info": {
   "file_extension": ".cs",
   "mimetype": "text/x-csharp",
   "name": "C#",
   "pygments_lexer": "csharp",
   "version": "9.0"
  },
  "orig_nbformat": 4
 },
 "nbformat": 4,
 "nbformat_minor": 2
}
