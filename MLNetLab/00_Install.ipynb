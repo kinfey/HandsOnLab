{
 "cells": [
  {
   "cell_type": "markdown",
   "metadata": {},
   "source": [
    "# **00.NOTE BOOK 环境安装** #\n",
    "\n",
    "## **一.为何选择notebook ？** ##\n",
    "\n",
    "Jupyter notebook（http://jupyter.org/） 是一种 Web 应用，能让用户将说明文本、数学方程、代码和可视化内容全部组合到一个易于共享的文档中。\n",
    "\n",
    "**可选择语言:** 支持超过40种编程语言，包括Python、R、Julia、Scala等。\n",
    "\n",
    "**分享笔记本:** 可以使用电子邮件、Dropbox、GitHub和Jupyter Notebook Viewer与他人共享。\n",
    "\n",
    "**交互式输出:** 代码可以生成丰富的交互式输出，包括HTML、图像、视频、LaTeX等等。\n",
    "\n",
    "**大数据整合:** 通过Python、R、Scala编程语言使用Apache Spark等大数据框架工具。支持使用pandas、scikit-learn、ggplot2、TensorFlow来探索同一份数据。\n"
   ]
  },
  {
   "cell_type": "markdown",
   "metadata": {},
   "source": [
    "## **二.环境安装** ##\n",
    "\n",
    "**1. Python环境安装**\n",
    "       \n",
    "jupyter notebook 基于Python， 机器必须有Python运行环境，建议安装3.8.x的环境\n",
    "\n",
    "**Linux/macOS/WSL2 安装**\n",
    "\n",
    "请参考docs文件夹下的00_Linux_WSL_MacOS_Install_Python.pdf\n",
    "\n",
    "**Windows安装**\n",
    "\n",
    "请参考docs文件夹下的00_Windows_Install_Python.pdf\n",
    "\n",
    "**一些补充：**\n",
    "\n",
    "Windows 下建议使用WSL2 来设置，关于WSL2 的文档(https://docs.microsoft.com/zh-cn/learn/modules/get-started-with-windows-subsystem-for-linux/ 搭配Ubuntu 20.04 来安装)\n",
    "\n",
    "更具体的深度学习环境安装可以参考 https://blog.csdn.net/kinfey/article/details/117635067\n",
    "\n",
    "**2. 安装Jupyter Notebook**\n",
    "\n",
    "通过pip3 安装Jupyter 运行环境  \n",
    "\n",
    "```zsh\n",
    "pip3 install jupyter\n",
    "```\n",
    "\n",
    "运行jupyter\n",
    "\n",
    "```zsh\n",
    "jupyter notebook --no-browser\n",
    "```\n",
    "\n",
    "<img src='./image/00/00_002.png'>\n",
    "\n",
    "**关于notebook 的更多使用 https://jupyter-notebook.readthedocs.io/en/stable/** \n",
    "\n",
    "**第一次运行notebook 会要求输入密码，这个时候你需要做的(https://jupyter-notebook.readthedocs.io/en/stable/public_server.html)**\n",
    "\n",
    "**3. 关于.NETCore 版本**\n",
    "\n",
    "建议使用5.0.x 版本 https://dotnet.microsoft.com/download\n"
   ]
  },
  {
   "cell_type": "markdown",
   "metadata": {},
   "source": []
  },
  {
   "cell_type": "markdown",
   "metadata": {},
   "source": [
    "## **三.关于.NET Interactive** ##\n",
    "\n",
    "官方的话 .NET Interactive takes the power of .NET and embeds it into your interactive experiences. Share code, explore data, write, and learn across your apps in ways you couldn't before. 就是一个更灵活的代码交互方式，专注于数据浏览与整理 **(注意：如果你没有安装好Python和Jupyter环境参参考本文档的第二点完成)**\n",
    "\n",
    "**1. 通过dotnet tools 安装.NET Interactive**\n",
    "\n",
    "```zsh\n",
    "dotnet tool install --global Microsoft.dotnet-interactive\n",
    "```\n",
    "一些提示 dotnet tool 需要配置全局PATH ，否则会影响dotnet-interactive的运行\n",
    "(关于 dotnet tool path 的文档可以参考 https://docs.microsoft.com/en-us/dotnet/core/tools/dotnet-tool-install)\n",
    "\n",
    "**2. 把.NET Interactive 绑定到Jupyter Notebook**\n",
    "\n",
    "```zsh\n",
    "dotnet-interactive jupyter install\n",
    "```\n",
    "\n",
    "**3. 运行检查**\n",
    "\n",
    "```zsh\n",
    "jupyter kernelspec list\n",
    "```\n",
    "\n",
    "<img src='./image/00/00_004.png'>\n"
   ]
  },
  {
   "cell_type": "markdown",
   "metadata": {},
   "source": [
    "## **四.Visual Studio Code 的.NET Interactive插件** ##\n",
    "\n",
    "**1.安装Visual Studio Code (https://code.visualstudio.com/)**\n",
    "\n",
    "**2.安装.NET Interactive 插件**\n",
    "\n",
    "\n",
    "<img src='./image/00/00_001.png'>"
   ]
  },
  {
   "cell_type": "markdown",
   "metadata": {},
   "source": [
    "## **五. 例子** ##"
   ]
  },
  {
   "cell_type": "markdown",
   "metadata": {},
   "source": [
    "**1. 基本CSharp运行**"
   ]
  },
  {
   "cell_type": "code",
   "execution_count": null,
   "metadata": {
    "dotnet_interactive": {
     "language": "csharp"
    }
   },
   "outputs": [
    {
     "name": "stdout",
     "output_type": "stream",
     "text": [
      "Hello World , Reactor\n"
     ]
    }
   ],
   "source": [
    "Console.WriteLine(\"Hello World , Reactor\")"
   ]
  },
  {
   "cell_type": "code",
   "execution_count": null,
   "metadata": {
    "dotnet_interactive": {
     "language": "csharp"
    }
   },
   "outputs": [],
   "source": [
    "using System;\n",
    "using System.Text.Json;\n",
    "using System.Text.Json.Serialization;"
   ]
  },
  {
   "cell_type": "code",
   "execution_count": null,
   "metadata": {
    "dotnet_interactive": {
     "language": "csharp"
    }
   },
   "outputs": [],
   "source": [
    "public class ReactorInfo\n",
    "{\n",
    "    public string Name { get; set; }\n",
    "    public string Title { get; set; }\n",
    "}\n"
   ]
  },
  {
   "cell_type": "code",
   "execution_count": null,
   "metadata": {
    "dotnet_interactive": {
     "language": "csharp"
    }
   },
   "outputs": [],
   "source": [
    "var info = new ReactorInfo{ Name = \"Kinfey\", Title =\"Reactor Guest\" };"
   ]
  },
  {
   "cell_type": "code",
   "execution_count": null,
   "metadata": {
    "dotnet_interactive": {
     "language": "csharp"
    }
   },
   "outputs": [],
   "source": [
    "string infoString = JsonSerializer.Serialize(info);"
   ]
  },
  {
   "cell_type": "code",
   "execution_count": null,
   "metadata": {
    "dotnet_interactive": {
     "language": "csharp"
    }
   },
   "outputs": [
    {
     "name": "stdout",
     "output_type": "stream",
     "text": [
      "{\"Name\":\"Kinfey\",\"Title\":\"Reactor Guest\"}\n"
     ]
    }
   ],
   "source": [
    "Console.WriteLine(infoString);"
   ]
  },
  {
   "cell_type": "markdown",
   "metadata": {},
   "source": [
    "**2. Nuget引入**\n",
    "\n",
    "Blazor 引入到Notebook\n",
    "(https://github.com/plbonneville/RazorInteractive)"
   ]
  },
  {
   "cell_type": "code",
   "execution_count": null,
   "metadata": {
    "dotnet_interactive": {
     "language": "csharp"
    }
   },
   "outputs": [
    {
     "data": {
      "text/html": [
       "<div><div></div><div></div><div><strong>Installed Packages</strong><ul><li><span>RazorInteractive, 1.0.6</span></li></ul></div></div>"
      ]
     },
     "metadata": {},
     "output_type": "display_data"
    },
    {
     "data": {
      "text/markdown": [
       "Loading extensions from `RazorInteractive.dll`"
      ]
     },
     "metadata": {},
     "output_type": "display_data"
    },
    {
     "data": {
      "text/html": [
       "\n",
       "<details>\n",
       "    <summary>Renders the code block as Razor markup in dotnet-interactive notebooks.</summary>\n",
       "    <p>This extension adds a new kernel that can render Razor markdown.</p>\n",
       "    <p>All C# and F# variables are available in the <code>@Model</code> property.</p>\n",
       "</details>"
      ]
     },
     "metadata": {},
     "output_type": "display_data"
    }
   ],
   "source": [
    "#r \"nuget: RazorInteractive\""
   ]
  },
  {
   "cell_type": "code",
   "execution_count": null,
   "metadata": {
    "dotnet_interactive": {
     "language": "csharp"
    }
   },
   "outputs": [
    {
     "data": {
      "text/html": [
       "<div id=\"razorExtension392d444eea1541a79167ee27e10ab2ab\">\n",
       "<ol>\n",
       "    <li style=\"color: red;\">red</li>\n",
       "    <li style=\"color: green;\">green</li>\n",
       "    <li style=\"color: blue;\">blue</li>\n",
       "</ol></div>"
      ]
     },
     "metadata": {},
     "output_type": "display_data"
    }
   ],
   "source": [
    "#!razor\n",
    "\n",
    "@{\n",
    "    var colors = new [] { \"red\", \"green\", \"blue\" };\n",
    "}\n",
    "\n",
    "<ol>\n",
    "@foreach(var color in colors)\n",
    "{\n",
    "    <li style=\"color: @color;\">@color</li>\n",
    "}\n",
    "</ol>"
   ]
  },
  {
   "cell_type": "code",
   "execution_count": null,
   "metadata": {
    "dotnet_interactive": {
     "language": "csharp"
    }
   },
   "outputs": [],
   "source": [
    "var firstname = \"John\";\n",
    "var lastname = \"Doe\";\n",
    "var colors = new [] { \"red\", \"green\", \"blue\" };"
   ]
  },
  {
   "cell_type": "code",
   "execution_count": null,
   "metadata": {
    "dotnet_interactive": {
     "language": "csharp"
    }
   },
   "outputs": [
    {
     "data": {
      "text/html": [
       "<div id=\"razorExtension488221283d7c40889bda8318b75767b1\"><p>Hello <b>John Doe</b>, what is you favorite a color?</p>\n",
       "\n",
       "<ol>\n",
       "    <li style=\"color: red;\">red</li>\n",
       "    <li style=\"color: green;\">green</li>\n",
       "    <li style=\"color: blue;\">blue</li>\n",
       "</ol></div>"
      ]
     },
     "metadata": {},
     "output_type": "display_data"
    }
   ],
   "source": [
    "#!razor\n",
    "\n",
    "<p>Hello <b>@Model.firstname @Model.lastname</b>, what is you favorite a color?</p>\n",
    "\n",
    "<ol>\n",
    "@foreach(var color in Model.colors)\n",
    "{\n",
    "    <li style=\"color: @color;\">@color</li>\n",
    "}\n",
    "</ol>"
   ]
  }
 ],
 "metadata": {
  "kernelspec": {
   "display_name": ".NET (C#)",
   "language": "C#",
   "name": ".net-csharp"
  },
  "language_info": {
   "file_extension": ".cs",
   "mimetype": "text/x-csharp",
   "name": "C#",
   "pygments_lexer": "csharp",
   "version": "9.0"
  }
 },
 "nbformat": 4,
 "nbformat_minor": 5
}
