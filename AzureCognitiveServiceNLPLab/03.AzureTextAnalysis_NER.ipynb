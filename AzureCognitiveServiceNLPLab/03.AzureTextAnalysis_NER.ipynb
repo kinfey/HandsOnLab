{
 "cells": [
  {
   "cell_type": "markdown",
   "source": [
    "# **通过Azure 为字幕找实体，提取关键知识点**"
   ],
   "metadata": {}
  },
  {
   "cell_type": "code",
   "execution_count": 1,
   "source": [
    "key = \"\"\r\n",
    "endpoint = \"https://textanalysisholdemo.cognitiveservices.azure.com/\""
   ],
   "outputs": [],
   "metadata": {}
  },
  {
   "cell_type": "code",
   "execution_count": 2,
   "source": [
    "from azure.ai.textanalytics import TextAnalyticsClient\r\n",
    "from azure.core.credentials import AzureKeyCredential"
   ],
   "outputs": [],
   "metadata": {}
  },
  {
   "cell_type": "code",
   "execution_count": 3,
   "source": [
    "def authenticate_client():\r\n",
    "    ta_credential = AzureKeyCredential(key)\r\n",
    "    text_analytics_client = TextAnalyticsClient(\r\n",
    "            endpoint=endpoint, \r\n",
    "            credential=ta_credential)\r\n",
    "    return text_analytics_client"
   ],
   "outputs": [],
   "metadata": {}
  },
  {
   "cell_type": "code",
   "execution_count": 4,
   "source": [
    "client = authenticate_client()"
   ],
   "outputs": [],
   "metadata": {}
  },
  {
   "cell_type": "code",
   "execution_count": 6,
   "source": [
    "try:\r\n",
    "    documents = [\"哦哦今天我想给各位同学来介绍一下Azure机器学习的一个部分。那如果大家呢，呃，有看上面的小视频呢？大家会知道，Azure上面呢，有非常呃，强大的一些机器学习的一些功能啊啊。我们，呃，之前呢就介绍过一个零代码的方式去做。呃，一个计算机视觉的任务，那接下来呢？我想给大家更专业的部分，大家知道我们做机器学习的时候呢，会遇到一个状况，就是，呃，我们可能没有GPU。或者是没有一些机器学习的平台，还有搭建环境的时候非常不方便。但是如果你通过Azure了，可以很快速的去完成相关的工作，你可以不需要关注你的整个。呃，平台的一些搭建情况啊啊，安装啊，配置文件之类的就可以启动你的Azure的一些机器学习上面的一些服务，包括说logo，包括说Python的环境，还有就是一些GPU的一些算力的一些呃，使用在这里面的话呢，我想给大家介绍一下。Azure的整个，呃，机器学习的一个服务的一个平台好。首先呢，我们回到Azure的portal里面，在这个坡头里面呢？呃，会有很多的一些呃资资源的一些创建，我们呢，首先还是要去创建一个Azure，去关于机器服务的，呃，资源，我们去选择AI加机器学习，然后呢在这里面定义列，呃，里面的。呃，第一个就是我们的机器学习服务，然后点击创建，那这个收了它就会引导你去做一个Azure的一个机器学习的一个。创建在这里面的话，你可以选择的是原有的资源组或者是自己可以新建一个另外的你可能是要去创建一个机器学习的一个名字。呃，像L demo。哦然后呢，你可以选择你的区域，然后你的存储的账户为什么要有存储呢？因为呃，在里面的话，它可以帮你去保存你的。呃，朱比特的logo还有相关的一些，呃，关于数据的整理啊，呃还有另外的一些相关的。呃，包括说训练的一些操作。还有就是一些，呃，密钥啊啊，这些都是一个非常有用的。当然你需不需要去注册一个容器了啊，也可以默认可以不用啊，在这里我们先不用，然后就开始去创建了。那在创建的过程当中，他会去也是做我们的验证的步骤。稍等，如果验证通过的话你就可以直接的去创建了。当然你的。呃。Azure machine Learning的服务呢呃，已经创建好之后呢，他就会可以告诉你去转到相关的资源里面。那大家可以看得到呃，在这里面的话，他已经把你需要的资源组已经绑定了，当然也在存储的空间还有位置上面都做了一些绑定啊，在这里面你就可以直接的去使用你的Azure machine Learning的一个平台，在这上面的话啊，我们可以根据呃情况呢去点击啊啊，这个工作室里面的URL啊，去跳转到我们的Azure机器服务的一个呃相关的一个连接，那这个时候你就可以根据你的需要。去创建爱你的呃一些公呃，跟机器学习相关的一些工作。举个例子，呃，我们做机器学习可能需要到logo。那你这个时候你可能是要去。呃。做logo的操作啊，在这里面你可以去添加啊新的logo也可以呢。呃，去在sample里面，因为你是要去学习，那你可以在上面去，呃，学习一个，呃，添加一个呃。相关的一个怎么样子去用ml experiment的操作，那这个时候呢，你可以去X sample的一个文件夹里面。啊，去把它克隆到你的本地上面。像举个例子，我在这里是一个Looking费的一个目录啊，是我的名字，然后就克隆。他就可以把呃，sample里面的文件，呃，克隆道理的呃，一个目录上面然后呢在这下面的话好像说我要去。呃，乱我的一个SDK AML的SDK，那我点击他的文件的时候大家可以发现啊，他的M啊，都是英文，比较高大上，但是不怕啊啊。在上面的话呢，呃，都是一些怎么样子去，呃，利用。嗯，这个Azure machine Learning去做一些模型训练的，那这个时候大家知道你需要去做一些相关的一些算力。呃，那你这个收了，他会告诉你你没有去做算力怎么办呢？你要去选择一个，呃，新的一个compute啊啊。在这里面你可以选择的是GPU跟CPU的compute，因为我在这里的话啊，是，呃，有你可以用一个叫做M选择GPU的时候，你可以选择的是，呃，一个M60的一个GPU的一个算力。当然你如果是节省一点的话，因为你有学生账号啊，有100刀的一个，呃，算力的一个支持。那这个时候呢，你可以选择啊，一个GPU啊啊，每个小时来算就1.58美金啊，1.5百558刀啊啊的一个算力啊。所以在这里面的话啊，你可以根据你的需要去做，而且这个呢，你不用的时候把它停掉，它是不算任何费用的。所以呢，你要看你自己的实际情况，当然你可以用CPU CPU的话呢，它有很多的cu的，呃，算力在上面像我在这里的话，我就用了一个叫做DS3 V2的一个。呃，普通的一个CPU，它是0.14刀啊呃四一刀啊呃，作为每个小时的算力那我就在这里创建创建也是虚实，呃，去创建啊。呃，它会创建成功之后就会告诉你哦，这个东西是怎么样子的，嗯。大家可以看得到哈哦你的算力也不需要去投入啊。而且呢，你可以去呃，做很多的一些机器学习相关的工作。另外呢，在这里面我想介绍给大家一个非常好玩的东西，就是他的比赛呢，我们在等待计算嗯的这个算力呃，创启动起来的时候呢，你就可以去看一下这个比赛了，这个比赛呢是什么东西呢？大家知道在Windows上面，嗯，我们可以。很简单的去拖拽一些控件去完成一些Windows的界面啊。在这里面的话呢，你可以通过啊相关的，呃，一个，呃，拖拽呃去完成机器学习里面相关的一些知识的一些创建，像我在这里的话，大家可以看到我，我选择了一个图像识别的操作之后呢，呃，如果你选择这个比赛呢，你可以看到它从图图像集啊到图像的一些转变到图像图片的一些分类。爱到训练，都是通过拖拽去完成的。这样子的话呢，他就让机器学习更加的呃，自动化啊可视化啊。呃，所以呢？呃，通过Azure的机器学习服务了你可以，呃，通过设计器去完成你的机器学习的步骤。另外的也还可以用业界最受欢迎的auto ml去完成相关的任务，也是非常方便可用的。然后我们回到我们的logo去看一下他是不是已经创建完了。好，当我们的算力创建完之后啊，大家可以看得到他会去提醒你哦，这个算力已经创建成功了然后在这个时候呢？呃，大家会担心的是，哎呀我这个算力究竟是用三者环境举个例子，你可以用的是Python 3.6的环境，当然也可以用3.8啊，还有另外的它也支持R的这种算力的一个支持。所以呢，在这里面呢是非常方便的啊，而且你可以通过呃logo的去线上的这个logo呢去添加代码。然后运行。所以呢，通过Azure machine Learning的服务呢？呃，可以让你的机器学习了的呃，学习或者实验的环境呢，得到一个提升。而且是在，呃，不用付费的前提下去完成这个事啊。希望各位同学了啊，马上去尝试一下啊。呃，通过Azure的机器学习服务去完成你的，呃，AI的学习啊，也可以作为学习的环境啊，谢谢大家。\"]\r\n",
    "    result = client.recognize_entities(documents = documents)[0]\r\n",
    "\r\n",
    "    print(\"Named Entities:\\n\")\r\n",
    "    for entity in result.entities:\r\n",
    "        print(\"\\tText: \\t\", entity.text, \"\\tCategory: \\t\", entity.category, \"\\tSubCategory: \\t\", entity.subcategory,\r\n",
    "             \"\\n\\tConfidence Score: \\t\", round(entity.confidence_score, 2), \"\\tLength: \\t\", entity.length, \"\\tOffset: \\t\", entity.offset, \"\\n\")\r\n",
    "\r\n",
    "except Exception as err:\r\n",
    "        print(\"Encountered exception. {}\".format(err))"
   ],
   "outputs": [
    {
     "output_type": "stream",
     "name": "stdout",
     "text": [
      "Named Entities:\n",
      "\n",
      "\tText: \t machine Learning \tCategory: \t Skill \tSubCategory: \t None \n",
      "\tConfidence Score: \t 0.89 \tLength: \t 16 \tOffset: \t 869 \n",
      "\n",
      "\tText: \t machine Learning \tCategory: \t Skill \tSubCategory: \t None \n",
      "\tConfidence Score: \t 0.74 \tLength: \t 16 \tOffset: \t 999 \n",
      "\n",
      "\tText: \t machine Learning \tCategory: \t Skill \tSubCategory: \t None \n",
      "\tConfidence Score: \t 0.76 \tLength: \t 16 \tOffset: \t 1500 \n",
      "\n",
      "\tText: \t 1 \tCategory: \t Quantity \tSubCategory: \t Number \n",
      "\tConfidence Score: \t 0.8 \tLength: \t 1 \tOffset: \t 1766 \n",
      "\n",
      "\tText: \t 3 \tCategory: \t Quantity \tSubCategory: \t Number \n",
      "\tConfidence Score: \t 0.8 \tLength: \t 1 \tOffset: \t 2556 \n",
      "\n",
      "\tText: \t machine \tCategory: \t Skill \tSubCategory: \t None \n",
      "\tConfidence Score: \t 0.66 \tLength: \t 7 \tOffset: \t 2659 \n",
      "\n"
     ]
    }
   ],
   "metadata": {}
  }
 ],
 "metadata": {
  "orig_nbformat": 4,
  "language_info": {
   "name": "python",
   "version": "3.8.8",
   "mimetype": "text/x-python",
   "codemirror_mode": {
    "name": "ipython",
    "version": 3
   },
   "pygments_lexer": "ipython3",
   "nbconvert_exporter": "python",
   "file_extension": ".py"
  },
  "kernelspec": {
   "name": "python3",
   "display_name": "Python 3.8.8 64-bit"
  },
  "interpreter": {
   "hash": "cd6c2d5b6def59a78dd4f60b7bebd73224da0fafd12459c3daf7ca8dc9395e3f"
  }
 },
 "nbformat": 4,
 "nbformat_minor": 2
}