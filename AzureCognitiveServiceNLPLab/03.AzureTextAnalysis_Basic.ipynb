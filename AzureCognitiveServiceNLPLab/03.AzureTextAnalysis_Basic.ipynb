{
 "cells": [
  {
   "cell_type": "markdown",
   "source": [
    "# **Azure文本分析服务**\r\n",
    "\r\n",
    "**无需机器学习专业知识即可使用自然语言处理 (NLP) 在非结构化文本中挖掘见解。使用情绪分析更深入地了解客户意见。标识关键短语和实体（如人员、位置和组织），以了解常见主题和趋势。使用特定于域的预训练模型对医疗术语进行分类。评估各种语言的文本。**\r\n",
    "\r\n",
    "<a href=\"https://azure.microsoft.com/zh-cn/services/cognitive-services/text-analytics\">https://azure.microsoft.com/zh-cn/services/cognitive-services/text-analytics/</a>\r\n",
    "\r\n",
    "<img src=\"./img/003.png\"/>\r\n",
    "\r\n",
    "通过Azure Portal 创建你的文本分析服务\r\n",
    "\r\n",
    "\r\n",
    "<img src=\"./img/0031.png\"/>\r\n",
    "\r\n",
    "注意：记得安装文本分析SDK\r\n",
    "\r\n",
    "```bash\r\n",
    "pip3 install azure.ai.textanalytics\r\n",
    "```"
   ],
   "metadata": {}
  },
  {
   "cell_type": "code",
   "execution_count": 1,
   "source": [
    "key = \"\"\r\n",
    "endpoint = \"https://textanalysisholdemo.cognitiveservices.azure.com/\""
   ],
   "outputs": [],
   "metadata": {}
  },
  {
   "cell_type": "code",
   "execution_count": 3,
   "source": [
    "from azure.ai.textanalytics import TextAnalyticsClient\r\n",
    "from azure.core.credentials import AzureKeyCredential"
   ],
   "outputs": [],
   "metadata": {}
  },
  {
   "cell_type": "code",
   "execution_count": 4,
   "source": [
    "def authenticate_client():\r\n",
    "    ta_credential = AzureKeyCredential(key)\r\n",
    "    text_analytics_client = TextAnalyticsClient(\r\n",
    "            endpoint=endpoint, \r\n",
    "            credential=ta_credential)\r\n",
    "    return text_analytics_client"
   ],
   "outputs": [],
   "metadata": {}
  },
  {
   "cell_type": "code",
   "execution_count": 5,
   "source": [
    "client = authenticate_client()"
   ],
   "outputs": [],
   "metadata": {}
  },
  {
   "cell_type": "code",
   "execution_count": 12,
   "source": [
    "documents = [\"今天天气真好，我爱运动\"]\r\n",
    "response = client.analyze_sentiment(documents=documents)[0]\r\n",
    "print(\"Document Sentiment: {}\".format(response.sentiment))\r\n",
    "print(\"Overall scores: positive={0:.2f}; neutral={1:.2f}; negative={2:.2f} \\n\".format(\r\n",
    "        response.confidence_scores.positive,\r\n",
    "        response.confidence_scores.neutral,\r\n",
    "        response.confidence_scores.negative,\r\n",
    "))\r\n",
    "for idx, sentence in enumerate(response.sentences):\r\n",
    "    print(\"Sentence: {}\".format(sentence.text))\r\n",
    "    print(\"Sentence {} sentiment: {}\".format(idx+1, sentence.sentiment))\r\n",
    "    print(\"Sentence score:\\nPositive={0:.2f}\\nNeutral={1:.2f}\\nNegative={2:.2f}\\n\".format(\r\n",
    "        sentence.confidence_scores.positive,\r\n",
    "        sentence.confidence_scores.neutral,\r\n",
    "        sentence.confidence_scores.negative,\r\n",
    "    ))"
   ],
   "outputs": [
    {
     "output_type": "stream",
     "name": "stdout",
     "text": [
      "Document Sentiment: neutral\n",
      "Overall scores: positive=0.10; neutral=0.85; negative=0.05 \n",
      "\n",
      "Sentence: 今天天气真好，我爱运动\n",
      "Sentence 1 sentiment: neutral\n",
      "Sentence score:\n",
      "Positive=0.10\n",
      "Neutral=0.85\n",
      "Negative=0.05\n",
      "\n"
     ]
    }
   ],
   "metadata": {}
  }
 ],
 "metadata": {
  "orig_nbformat": 4,
  "language_info": {
   "name": "python",
   "version": "3.8.8",
   "mimetype": "text/x-python",
   "codemirror_mode": {
    "name": "ipython",
    "version": 3
   },
   "pygments_lexer": "ipython3",
   "nbconvert_exporter": "python",
   "file_extension": ".py"
  },
  "kernelspec": {
   "name": "python3",
   "display_name": "Python 3.8.8 64-bit"
  },
  "interpreter": {
   "hash": "cd6c2d5b6def59a78dd4f60b7bebd73224da0fafd12459c3daf7ca8dc9395e3f"
  }
 },
 "nbformat": 4,
 "nbformat_minor": 2
}