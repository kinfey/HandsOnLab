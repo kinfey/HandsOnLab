{
 "cells": [
  {
   "cell_type": "markdown",
   "source": [
    "# **通过认知服务完成自然语言处理**"
   ],
   "metadata": {}
  },
  {
   "cell_type": "markdown",
   "source": [
    "## **自然语言**\r\n",
    "\r\n",
    "自然语言理解是研究如何让电脑读懂人类语言的一门技术，是自然语言处理技术中最困难的一项\r\n",
    "\r\n",
    "<img src=\"./img/0001.png\"/>"
   ],
   "metadata": {}
  },
  {
   "cell_type": "markdown",
   "source": [
    "# **微软认知服务**\r\n",
    "\r\n",
    "Azure 认知服务是具有 REST API 和客户端库 SDK 的基于云的服务，可用于帮助你将认知智能构建到应用程序中。 即使你没有人工智能 (AI) 或数据科学技能，也可向应用程序添加认知功能。 Azure 认知服务包含各种 AI 服务，让你能够构建可以看、听、说、理解，甚至可以决策的认知解决方案。\r\n",
    "\r\n",
    "**认知服务类别**\r\n",
    "提供认知理解功能的认知服务主要分为五大类：\r\n",
    "\r\n",
    "影像\r\n",
    "语音\r\n",
    "语言\r\n",
    "决策\r\n",
    "搜索\r\n",
    "\r\n",
    "<img src=\"./img/0003.png\"/>"
   ],
   "metadata": {}
  },
  {
   "cell_type": "markdown",
   "source": [
    "## **VideoIndexer**\r\n",
    "\r\n",
    "**Azure 视频分析器媒体版（以前称为视频索引器）是构建在 Azure 媒体服务和 Azure 认知服务（如人脸检测、翻译器、计算机视觉和语音）基础之上的一个云应用程序，属于 Azure 应用 AI 服务。 借助该服务，可以使用视频分析器媒体版视频和音频模型从视频中提取见解。**\r\n",
    "\r\n",
    "<a href=\"https://videoindexer.ai\">https://videoindexer.ai</a>\r\n",
    "\r\n",
    "<img src=\"./img/000.png\"/>"
   ],
   "metadata": {}
  },
  {
   "cell_type": "markdown",
   "source": [
    "## **通过拆分，打造自己的VideoIndexer**\r\n",
    "\r\n",
    "通过微软认知服务中的语音转文字，文字翻译器，以及文字分析功能，模拟完成Video Indexer的相关功能，并通过SpaCy优化提取关键字内容。\r\n",
    "\r\n",
    "<img src=\"./img/0002.png\"/>\r\n",
    "\r\n",
    "具体效果你可以访问:\r\n",
    "\r\n",
    "<a href=\"http://jpkc.gdou.com/wechatlive/html/demo.html\">点击查看</a>"
   ],
   "metadata": {}
  }
 ],
 "metadata": {
  "orig_nbformat": 4,
  "language_info": {
   "name": "python"
  }
 },
 "nbformat": 4,
 "nbformat_minor": 2
}