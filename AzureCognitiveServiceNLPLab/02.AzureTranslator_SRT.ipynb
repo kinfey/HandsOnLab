{
 "cells": [
  {
   "cell_type": "markdown",
   "source": [
    "# **通过Azure 翻译器生成多语言字幕**"
   ],
   "metadata": {}
  },
  {
   "cell_type": "code",
   "execution_count": 1,
   "source": [
    "!pip3 install pysubs2"
   ],
   "outputs": [
    {
     "output_type": "stream",
     "name": "stdout",
     "text": [
      "Requirement already satisfied: pysubs2 in c:\\users\\kinfeylo\\appdata\\local\\programs\\python\\python38\\lib\\site-packages (1.2.0)\n"
     ]
    }
   ],
   "metadata": {}
  },
  {
   "cell_type": "code",
   "execution_count": 2,
   "source": [
    "import os\r\n",
    "import requests, uuid, json\r\n",
    "from pysubs2 import SSAFile, SSAEvent, make_time"
   ],
   "outputs": [],
   "metadata": {}
  },
  {
   "cell_type": "code",
   "execution_count": 3,
   "source": [
    "\r\n",
    "subs = SSAFile.load('./srt/cn_subtitle.srt')"
   ],
   "outputs": [],
   "metadata": {}
  },
  {
   "cell_type": "code",
   "execution_count": 4,
   "source": [
    "subscription_key = \"\"\r\n",
    "endpoint = \"https://api.cognitive.microsofttranslator.com\"\r\n",
    "location = \"eastasia\""
   ],
   "outputs": [],
   "metadata": {}
  },
  {
   "cell_type": "code",
   "execution_count": 5,
   "source": [
    "path = '/translate'\r\n",
    "constructed_url = endpoint + path"
   ],
   "outputs": [],
   "metadata": {}
  },
  {
   "cell_type": "code",
   "execution_count": 6,
   "source": [
    "params = {\r\n",
    "    'api-version': '3.0',\r\n",
    "    'from': 'zh-cn',\r\n",
    "    'to': 'en'\r\n",
    "}"
   ],
   "outputs": [],
   "metadata": {}
  },
  {
   "cell_type": "code",
   "execution_count": 7,
   "source": [
    "constructed_url = endpoint + path"
   ],
   "outputs": [],
   "metadata": {}
  },
  {
   "cell_type": "code",
   "execution_count": 8,
   "source": [
    "headers = {\r\n",
    "    'Ocp-Apim-Subscription-Key': subscription_key,\r\n",
    "    'Ocp-Apim-Subscription-Region': location,\r\n",
    "    'Content-type': 'application/json',\r\n",
    "    'X-ClientTraceId': str(uuid.uuid4())\r\n",
    "}"
   ],
   "outputs": [],
   "metadata": {}
  },
  {
   "cell_type": "code",
   "execution_count": 9,
   "source": [
    "def translate(txt):\r\n",
    "    body = [{\r\n",
    "    'text': txt\r\n",
    "    }]\r\n",
    "    request = requests.post(constructed_url, params=params, headers=headers, json=body)\r\n",
    "    response = request.json()\r\n",
    "    print(response[0]['translations'])\r\n",
    "    return response[0]['translations'][0]['text']\r\n"
   ],
   "outputs": [],
   "metadata": {}
  },
  {
   "cell_type": "code",
   "execution_count": 10,
   "source": [
    "for line in subs:\r\n",
    "    line.text = translate(line.text)\r\n",
    "\r\n",
    "\r\n",
    "with open(\"./srt/eng_subtitle.srt\", \"w\",encoding=\"utf-8\") as fp:\r\n",
    "    fp.write(subs.to_string(\"srt\"))\r\n",
    "    \r\n",
    "fp.close()\r\n",
    "\r\n"
   ],
   "outputs": [
    {
     "output_type": "stream",
     "name": "stdout",
     "text": [
      "[{'text': 'Oh oh, I think today', 'to': 'en'}]\n",
      "[{'text': 'Introduce azure machine learning to all your classmates', 'to': 'en'}]\n",
      "[{'text': 'part of that if everyone', 'to': 'en'}]\n",
      "[{'text': \"Uh, have to watch the little video above and you'll know above\", 'to': 'en'}]\n",
      "[{'text': 'There are some very, uh, powerful machine learning', 'to': 'en'}]\n",
      "[{'text': 'some features ah we uh before', 'to': 'en'}]\n",
      "[{'text': 'That introduces a zero code way to do it uh', 'to': 'en'}]\n",
      "[{'text': 'A computer vision task then what follows I think', 'to': 'en'}]\n",
      "[{'text': 'Give everyone a more professional part of everyone know what we do', 'to': 'en'}]\n",
      "[{'text': 'Machine learning will encounter a situation is er', 'to': 'en'}]\n",
      "[{'text': 'We may not have gpu or some', 'to': 'en'}]\n",
      "[{'text': 'Machine learning platforms are also very much built in the environment', 'to': 'en'}]\n",
      "[{'text': 'Inconvenient but if you get through the azure can be quick', 'to': 'en'}]\n",
      "[{'text': \"Go quickly to get the job done you can't\", 'to': 'en'}]\n",
      "[{'text': 'Need to pay attention to some of your entire uh platform', 'to': 'en'}]\n",
      "[{'text': 'Build the situation ah installation ah profile and so on', 'to': 'en'}]\n",
      "[{'text': 'You can start some machine learning above your azure', 'to': 'en'}]\n",
      "[{'text': 'Some services include saying logos include saying pythons', 'to': 'en'}]\n",
      "[{'text': 'The environment also has some gpu some calculation', 'to': 'en'}]\n",
      "[{'text': 'Some uh use here words I would like to introduce to you', 'to': 'en'}]\n",
      "[{'text': \"Azure's whole uh machine learning one of the services\", 'to': 'en'}]\n",
      "[{'text': 'Platform good first of all we go back to azure portal', 'to': 'en'}]\n",
      "[{'text': \"There's going to be a lot of it in this slope\", 'to': 'en'}]\n",
      "[{'text': 'Some uh resources some create us too', 'to': 'en'}]\n",
      "[{'text': \"First of all, we're going to create an azure and about the machine\", 'to': 'en'}]\n",
      "[{'text': 'Service uh resources we go to choose ai', 'to': 'en'}]\n",
      "[{'text': 'Add machine learning and then define it here', 'to': 'en'}]\n",
      "[{'text': 'Column uh inside uh the first one is us', 'to': 'en'}]\n",
      "[{'text': 'The machine learning service then clicks To create that one', 'to': 'en'}]\n",
      "[{'text': \"Take him and you'll be guided to a machine learning\", 'to': 'en'}]\n",
      "[{'text': 'One of the creations here faces you can', 'to': 'en'}]\n",
      "[{'text': 'Choose the original resource group or yourself', 'to': 'en'}]\n",
      "[{'text': 'You can create another one that you might want to create', 'to': 'en'}]\n",
      "[{'text': 'A machine learning name er is like ldemo', 'to': 'en'}]\n",
      "[{'text': 'Oh then you', 'to': 'en'}]\n",
      "[{'text': 'You can select your region then why your stored account should have', 'to': 'en'}]\n",
      "[{'text': \"Storage because, uh, it can help you if it's in there\", 'to': 'en'}]\n",
      "[{'text': \"To save your er Jubit's logo is also relevant\", 'to': 'en'}]\n",
      "[{'text': \"Some uh about the data sorting ah uh there's another\", 'to': 'en'}]\n",
      "[{'text': 'Some related er includes talking about some of the exercises of training', 'to': 'en'}]\n",
      "[{'text': 'And some uh keys', 'to': 'en'}]\n",
      "[{'text': 'These are all very useful of course you need not go', 'to': 'en'}]\n",
      "[{'text': 'Register a container ah can also default to not', 'to': 'en'}]\n",
      "[{'text': \"Use ah here we don't need to start then\", 'to': 'en'}]\n",
      "[{'text': 'Go and create that in the creation', 'to': 'en'}]\n",
      "[{'text': 'In the process he will go and do our verification', 'to': 'en'}]\n",
      "[{'text': 'Step a little if', 'to': 'en'}]\n",
      "[{'text': 'If the validation passes then you can go directly to create when', 'to': 'en'}]\n",
      "[{'text': \"Anne's\", 'to': 'en'}]\n",
      "[{'text': 'uh azuremachinelearning service up er', 'to': 'en'}]\n",
      "[{'text': \"Once it's been created, he'll tell you to go\", 'to': 'en'}]\n",
      "[{'text': 'Related resources inside that you can see', 'to': 'en'}]\n",
      "[{'text': 'Get oh here if he has put the resources you need', 'to': 'en'}]\n",
      "[{'text': 'The group has been bound to the space that is of course also stored', 'to': 'en'}]\n",
      "[{'text': 'There are positions above that have made some bindings ah here', 'to': 'en'}]\n",
      "[{'text': 'face you can go directly to use your azuremachine', 'to': 'en'}]\n",
      "[{'text': 'a platform for learning on this ah', 'to': 'en'}]\n",
      "[{'text': 'We can click on it depending on the situation', 'to': 'en'}]\n",
      "[{'text': 'Ah, the url in this studio', 'to': 'en'}]\n",
      "[{'text': 'Go and jump to our azure machine service', 'to': 'en'}]\n",
      "[{'text': 'One uh related one connects that one', 'to': 'en'}]\n",
      "[{'text': 'Then you can create love for you according to your needs', 'to': 'en'}]\n",
      "[{'text': 'Uh, some public, uh, some related to machine learning', 'to': 'en'}]\n",
      "[{'text': 'Work example uh we may need to do machine learning', 'to': 'en'}]\n",
      "[{'text': 'To logo then you this time you may be going to uh', 'to': 'en'}]\n",
      "[{'text': 'Do the operation of logo ah here you can go', 'to': 'en'}]\n",
      "[{'text': 'Add ah new logo can also be uh', 'to': 'en'}]\n",
      "[{'text': \"Go inside the sample because you're going to study then you can\", 'to': 'en'}]\n",
      "[{'text': 'Above go uh learn a uh add', 'to': 'en'}]\n",
      "[{'text': 'How about a er-related one going', 'to': 'en'}]\n",
      "[{'text': 'Use mlexperiment to operate that time', 'to': 'en'}]\n",
      "[{'text': 'You can go to a folder in xsample', 'to': 'en'}]\n",
      "[{'text': \"Clone it on top of your local like I'm in\", 'to': 'en'}]\n",
      "[{'text': 'Here is a catalogue of looking fees ah', 'to': 'en'}]\n",
      "[{'text': \"It's my name and then clone him\", 'to': 'en'}]\n",
      "[{'text': 'Put the file inside uhsample uh clone the truth uh', 'to': 'en'}]\n",
      "[{'text': 'One directory above and then the words below it seem', 'to': 'en'}]\n",
      "[{'text': 'Said I was going to er mess up one of my sdka', 'to': 'en'}]\n",
      "[{'text': 'ml sdk then I click on him', 'to': 'en'}]\n",
      "[{'text': 'file when you can find ah his ml', 'to': 'en'}]\n",
      "[{'text': 'Ah, English is relatively tall but not afraid', 'to': 'en'}]\n",
      "[{'text': 'Ah, uh, all of them', 'to': 'en'}]\n",
      "[{'text': 'How to go uh to take advantage of this', 'to': 'en'}]\n",
      "[{'text': 'Azuremachinelearning does some model training', 'to': 'en'}]\n",
      "[{'text': \"That's when people know you need to do something relevant\", 'to': 'en'}]\n",
      "[{'text': 'some of the calculations uh then you this take', 'to': 'en'}]\n",
      "[{'text': \"He'll tell you what to do if you don't do the calculation\", 'to': 'en'}]\n",
      "[{'text': 'Choose a er new one', 'to': 'en'}]\n",
      "[{'text': 'Here you can choose is gpu and cpu', 'to': 'en'}]\n",
      "[{'text': \"Thecomputer because I'm here for that\", 'to': 'en'}]\n",
      "[{'text': \"Uh there's one you can use called m\", 'to': 'en'}]\n",
      "[{'text': 'When choosing gpu you can choose is er', 'to': 'en'}]\n",
      "[{'text': 'm60 a gpu a calculation of course you', 'to': 'en'}]\n",
      "[{'text': \"If it's a little saving, because you have students\", 'to': 'en'}]\n",
      "[{'text': 'Account ah has a hundred knives of a uh calculation', 'to': 'en'}]\n",
      "[{'text': 'A support for that time you can choose ah one', 'to': 'en'}]\n",
      "[{'text': 'Gpu ah every hour to count 1.5', 'to': 'en'}]\n",
      "[{'text': 'Eight dollars, 1.5558 knives', 'to': 'en'}]\n",
      "[{'text': 'Ah, a calculation ah so here in the words', 'to': 'en'}]\n",
      "[{'text': 'Ah, you can do it according to your needs and this', 'to': 'en'}]\n",
      "[{'text': \"It doesn't cost you to stop it when you don't use it\", 'to': 'en'}]\n",
      "[{'text': 'So you have to look at your own reality of course you', 'to': 'en'}]\n",
      "[{'text': 'It can be used in the words of cpucpu it has a lot of cu', 'to': 'en'}]\n",
      "[{'text': 'Uh--- the arithmetic is on it like I am here', 'to': 'en'}]\n",
      "[{'text': 'Used a er plain called ds3v2', 'to': 'en'}]\n",
      "[{'text': 'A cpu it is zero one four knives ah', 'to': 'en'}]\n",
      "[{'text': 'Uh four-and-a-half knives ah as every hour', 'to': 'en'}]\n",
      "[{'text': 'The calculation of which I create here is also false', 'to': 'en'}]\n",
      "[{'text': 'uh to create ah uh it', 'to': 'en'}]\n",
      "[{'text': 'Will create a success will tell you oh this thing is how', 'to': 'en'}]\n",
      "[{'text': 'Son of the uh you can see ha', 'to': 'en'}]\n",
      "[{'text': \"Oh, and you don't need to put in your calculations\", 'to': 'en'}]\n",
      "[{'text': 'Itch and you can go uh do a lot', 'to': 'en'}]\n",
      "[{'text': 'Some machine learning-related work is else here', 'to': 'en'}]\n",
      "[{'text': 'Face I would like to introduce to you a very interesting', 'to': 'en'}]\n",
      "[{'text': \"The thing is his game and we're waiting to calculate\", 'to': 'en'}]\n",
      "[{'text': 'Well, this calculation er-creative start-up', 'to': 'en'}]\n",
      "[{'text': 'You can go to the game when you get up', 'to': 'en'}]\n",
      "[{'text': 'What is this third?', 'to': 'en'}]\n",
      "[{'text': 'Windows above well we can be very simple', 'to': 'en'}]\n",
      "[{'text': 'Go drag and drop some controls to complete some windows', 'to': 'en'}]\n",
      "[{'text': 'The interface ah here in the words you can', 'to': 'en'}]\n",
      "[{'text': 'Through ah related uh one', 'to': 'en'}]\n",
      "[{'text': 'uh drag uh to finish machine learning inside related', 'to': 'en'}]\n",
      "[{'text': 'Some knowledge of some creation as I am here for everyone', 'to': 'en'}]\n",
      "[{'text': 'You can see that I have selected an image recognition action', 'to': 'en'}]\n",
      "[{'text': 'And then, uh, if you choose this game you can watch', 'to': 'en'}]\n",
      "[{'text': 'to it from the graphic image hurry ah to the image', 'to': 'en'}]\n",
      "[{'text': 'Some transition to some categories of image pictures', 'to': 'en'}]\n",
      "[{'text': 'Training is done by dragging', 'to': 'en'}]\n",
      "[{'text': \"Then he'll make machine learning even more uh\", 'to': 'en'}]\n",
      "[{'text': 'Automation is so good', 'to': 'en'}]\n",
      "[{'text': 'Well, uh through azure machine learning service you can uh through', 'to': 'en'}]\n",
      "[{'text': 'Designer to complete the steps of your machine learning', 'to': 'en'}]\n",
      "[{'text': 'It is also another popular use in the industry', 'to': 'en'}]\n",
      "[{'text': 'automl to complete related tasks', 'to': 'en'}]\n",
      "[{'text': 'It is also very convenient to use then we go back', 'to': 'en'}]\n",
      "[{'text': \"Our logo to see if he's finished\", 'to': 'en'}]\n",
      "[{'text': 'Good when we calculate', 'to': 'en'}]\n",
      "[{'text': 'After the force is created ah you can see that he will go', 'to': 'en'}]\n",
      "[{'text': 'Remind you oh this calculation has been created successfully then', 'to': 'en'}]\n",
      "[{'text': 'At this time, uh, people will be worried', 'to': 'en'}]\n",
      "[{'text': 'Alas, my calculation is to use the three environment to give you an example', 'to': 'en'}]\n",
      "[{'text': 'You can use python 3.6', 'to': 'en'}]\n",
      "[{'text': 'Of course, the environment can also use 3.8 ah and there is another', 'to': 'en'}]\n",
      "[{'text': 'It also supports r as a support for this calculation force so', 'to': 'en'}]\n",
      "[{'text': \"It's very convenient to be here\", 'to': 'en'}]\n",
      "[{'text': 'You can go online through uhlogo', 'to': 'en'}]\n",
      "[{'text': 'This logo goes to add code and then runs so', 'to': 'en'}]\n",
      "[{'text': 'Services via auremachinelearning, uh', 'to': 'en'}]\n",
      "[{'text': 'can let your machine learn er uh learn', 'to': 'en'}]\n",
      "[{'text': 'Or the experimental environment gets a boost and', 'to': 'en'}]\n",
      "[{'text': \"It's going to be done without paying\", 'to': 'en'}]\n",
      "[{'text': 'Finish this thing ah hope that all the students ah immediately', 'to': 'en'}]\n",
      "[{'text': 'Go and try it, uh, through the azure', 'to': 'en'}]\n",
      "[{'text': 'Machine learning services to complete your uhai', 'to': 'en'}]\n",
      "[{'text': 'Learning ah can also be used as a learning environment ah', 'to': 'en'}]\n",
      "[{'text': 'Thank you', 'to': 'en'}]\n"
     ]
    }
   ],
   "metadata": {}
  },
  {
   "cell_type": "code",
   "execution_count": null,
   "source": [],
   "outputs": [],
   "metadata": {}
  }
 ],
 "metadata": {
  "interpreter": {
   "hash": "cd6c2d5b6def59a78dd4f60b7bebd73224da0fafd12459c3daf7ca8dc9395e3f"
  },
  "kernelspec": {
   "name": "python3",
   "display_name": "Python 3.8.8 64-bit"
  },
  "language_info": {
   "codemirror_mode": {
    "name": "ipython",
    "version": 3
   },
   "file_extension": ".py",
   "mimetype": "text/x-python",
   "name": "python",
   "nbconvert_exporter": "python",
   "pygments_lexer": "ipython3",
   "version": "3.8.8"
  }
 },
 "nbformat": 4,
 "nbformat_minor": 2
}