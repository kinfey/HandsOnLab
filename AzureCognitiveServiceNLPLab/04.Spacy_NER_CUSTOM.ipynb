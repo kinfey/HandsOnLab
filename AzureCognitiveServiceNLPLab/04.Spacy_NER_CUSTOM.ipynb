{
 "cells": [
  {
   "cell_type": "markdown",
   "source": [
    "# **spaCy可以自己训练模型**\r\n",
    "\r\n",
    "## **实体训练** ##\r\n",
    "\r\n",
    "**虽然 NLTK 提供了对许多算法的访问来完成某件事，但 spaCy 提供了最好的方法。 它为迄今为止发布的任何 NLP 库提供最快、最准确的句法分析。 它还提供对更易于定制的较大词向量的访问。**\r\n",
    "\r\n",
    "**命名实体识别 (NER) 是自动识别文本中讨论的实体并将它们分类为预定义类别的过程，例如“人”、“组织”、“位置”等。 spaCy 库允许您通过更新现有的 spacy 模型以适应文本文档的特定上下文以及从头开始训练新的 NER 模型来训练 NER 模型。**"
   ],
   "metadata": {}
  },
  {
   "cell_type": "code",
   "execution_count": 2,
   "source": [
    "from __future__ import unicode_literals, print_function\r\n",
    "import plac\r\n",
    "import random\r\n",
    "from pathlib import Path\r\n",
    "import spacy\r\n",
    "from spacy import displacy\r\n",
    "\r\n",
    "from tqdm import tqdm\r\n",
    "import zh_core_web_sm"
   ],
   "outputs": [],
   "metadata": {}
  },
  {
   "cell_type": "code",
   "execution_count": 3,
   "source": [
    "TRAIN_DATA = [\r\n",
    "    ('Azure因为即使超级英雄般的开发人员也需要搭档', {\r\n",
    "        'entities': [(0, 5, 'MicrosoftAzure')]\r\n",
    "    }),\r\n",
    "     ('开始使用Azure产品和服务将你的想法付诸行动', {\r\n",
    "        'entities': [(4, 9, 'MicrosoftAzure')]\r\n",
    "    }),\r\n",
    "    ('利用Azure打破限制', {\r\n",
    "        'entities': [(3, 8, 'MicrosoftAzure')]\r\n",
    "    }),\r\n",
    "    ('Azure好处', {\r\n",
    "        'entities': [(0, 5, 'MicrosoftAzure')]\r\n",
    "    }),\r\n",
    "    ('机器学习是一门多领域交叉学科，涉及概率论、统计学、逼近论、凸分析、算法复杂度理论等多门学科。', {\r\n",
    "        'entities': [(0, 5, 'MachineLearning')]\r\n",
    "    }),\r\n",
    "     ('现已成为机器学习领域里最为重要的发展方向之一', {\r\n",
    "        'entities': [(4, 8, 'MachineLearning')]\r\n",
    "    }),\r\n",
    "    ('在机器学习上的专利布局主要聚焦于图像处理、位置信息、视频帧、人脸图像、生成模型等专业技术领域', {\r\n",
    "        'entities': [(1, 5, 'MachineLearning')]\r\n",
    "    })\r\n",
    "]"
   ],
   "outputs": [],
   "metadata": {}
  },
  {
   "cell_type": "code",
   "execution_count": 4,
   "source": [
    "nlp = zh_core_web_sm.load()  "
   ],
   "outputs": [],
   "metadata": {}
  },
  {
   "cell_type": "code",
   "execution_count": 5,
   "source": [
    "nlp.pipe_names"
   ],
   "outputs": [
    {
     "output_type": "execute_result",
     "data": {
      "text/plain": [
       "['tagger', 'parser', 'ner']"
      ]
     },
     "metadata": {},
     "execution_count": 5
    }
   ],
   "metadata": {}
  },
  {
   "cell_type": "code",
   "execution_count": 6,
   "source": [
    "ner = nlp.get_pipe('ner')"
   ],
   "outputs": [],
   "metadata": {}
  },
  {
   "cell_type": "code",
   "execution_count": 7,
   "source": [
    "for _, annotations in TRAIN_DATA:\r\n",
    "    for ent in annotations.get('entities'):\r\n",
    "        ner.add_label(ent[2])\r\n",
    "\r\n",
    "n_iter=100\r\n",
    "\r\n",
    "other_pipes = [pipe for pipe in nlp.pipe_names if pipe != 'ner']\r\n",
    "with nlp.disable_pipes(*other_pipes):  # only train NER\r\n",
    "    optimizer = nlp.begin_training()\r\n",
    "    for itn in range(n_iter):\r\n",
    "        random.shuffle(TRAIN_DATA)\r\n",
    "        losses = {}\r\n",
    "        for text, annotations in tqdm(TRAIN_DATA):\r\n",
    "            nlp.update(\r\n",
    "                [text],  \r\n",
    "                [annotations],  \r\n",
    "                drop=0.5,  \r\n",
    "                sgd=optimizer,\r\n",
    "                losses=losses)\r\n",
    "        print(losses)"
   ],
   "outputs": [
    {
     "output_type": "stream",
     "name": "stderr",
     "text": [
      "  0%|          | 0/7 [00:00<?, ?it/s]Building prefix dict from the default dictionary ...\n",
      "Loading model from cache C:\\Users\\kinfeylo\\AppData\\Local\\Temp\\jieba.cache\n",
      "Loading model cost 0.519 seconds.\n",
      "Prefix dict has been built successfully.\n",
      "100%|██████████| 7/7 [00:00<00:00,  7.51it/s]\n"
     ]
    },
    {
     "output_type": "stream",
     "name": "stdout",
     "text": [
      "{'ner': 88.55623959278626}\n"
     ]
    },
    {
     "output_type": "stream",
     "name": "stderr",
     "text": [
      "100%|██████████| 7/7 [00:00<00:00, 17.35it/s]\n"
     ]
    },
    {
     "output_type": "stream",
     "name": "stdout",
     "text": [
      "{'ner': 69.15995130478404}\n"
     ]
    },
    {
     "output_type": "stream",
     "name": "stderr",
     "text": [
      "100%|██████████| 7/7 [00:00<00:00, 17.43it/s]\n"
     ]
    },
    {
     "output_type": "stream",
     "name": "stdout",
     "text": [
      "{'ner': 71.7078189542517}\n"
     ]
    },
    {
     "output_type": "stream",
     "name": "stderr",
     "text": [
      "100%|██████████| 7/7 [00:00<00:00, 17.42it/s]\n"
     ]
    },
    {
     "output_type": "stream",
     "name": "stdout",
     "text": [
      "{'ner': 72.39952572993934}\n"
     ]
    },
    {
     "output_type": "stream",
     "name": "stderr",
     "text": [
      "100%|██████████| 7/7 [00:00<00:00, 17.51it/s]\n"
     ]
    },
    {
     "output_type": "stream",
     "name": "stdout",
     "text": [
      "{'ner': 66.70221730857156}\n"
     ]
    },
    {
     "output_type": "stream",
     "name": "stderr",
     "text": [
      "100%|██████████| 7/7 [00:00<00:00, 17.26it/s]\n"
     ]
    },
    {
     "output_type": "stream",
     "name": "stdout",
     "text": [
      "{'ner': 73.05261127058475}\n"
     ]
    },
    {
     "output_type": "stream",
     "name": "stderr",
     "text": [
      "100%|██████████| 7/7 [00:00<00:00, 17.48it/s]\n"
     ]
    },
    {
     "output_type": "stream",
     "name": "stdout",
     "text": [
      "{'ner': 72.86903484963113}\n"
     ]
    },
    {
     "output_type": "stream",
     "name": "stderr",
     "text": [
      "100%|██████████| 7/7 [00:00<00:00, 17.33it/s]\n"
     ]
    },
    {
     "output_type": "stream",
     "name": "stdout",
     "text": [
      "{'ner': 74.61417748685926}\n"
     ]
    },
    {
     "output_type": "stream",
     "name": "stderr",
     "text": [
      "100%|██████████| 7/7 [00:00<00:00, 17.28it/s]\n"
     ]
    },
    {
     "output_type": "stream",
     "name": "stdout",
     "text": [
      "{'ner': 69.39729756029556}\n"
     ]
    },
    {
     "output_type": "stream",
     "name": "stderr",
     "text": [
      "100%|██████████| 7/7 [00:00<00:00, 17.51it/s]\n"
     ]
    },
    {
     "output_type": "stream",
     "name": "stdout",
     "text": [
      "{'ner': 75.46562055498362}\n"
     ]
    },
    {
     "output_type": "stream",
     "name": "stderr",
     "text": [
      "100%|██████████| 7/7 [00:00<00:00, 17.48it/s]\n"
     ]
    },
    {
     "output_type": "stream",
     "name": "stdout",
     "text": [
      "{'ner': 68.2240765588358}\n"
     ]
    },
    {
     "output_type": "stream",
     "name": "stderr",
     "text": [
      "100%|██████████| 7/7 [00:00<00:00, 17.61it/s]\n"
     ]
    },
    {
     "output_type": "stream",
     "name": "stdout",
     "text": [
      "{'ner': 66.39334602374583}\n"
     ]
    },
    {
     "output_type": "stream",
     "name": "stderr",
     "text": [
      "100%|██████████| 7/7 [00:00<00:00, 17.43it/s]\n"
     ]
    },
    {
     "output_type": "stream",
     "name": "stdout",
     "text": [
      "{'ner': 66.3781146146357}\n"
     ]
    },
    {
     "output_type": "stream",
     "name": "stderr",
     "text": [
      "100%|██████████| 7/7 [00:00<00:00, 17.36it/s]\n"
     ]
    },
    {
     "output_type": "stream",
     "name": "stdout",
     "text": [
      "{'ner': 76.18413234967738}\n"
     ]
    },
    {
     "output_type": "stream",
     "name": "stderr",
     "text": [
      "100%|██████████| 7/7 [00:00<00:00, 17.41it/s]\n"
     ]
    },
    {
     "output_type": "stream",
     "name": "stdout",
     "text": [
      "{'ner': 67.89993572281674}\n"
     ]
    },
    {
     "output_type": "stream",
     "name": "stderr",
     "text": [
      "100%|██████████| 7/7 [00:00<00:00, 17.40it/s]\n"
     ]
    },
    {
     "output_type": "stream",
     "name": "stdout",
     "text": [
      "{'ner': 72.53648485071608}\n"
     ]
    },
    {
     "output_type": "stream",
     "name": "stderr",
     "text": [
      "100%|██████████| 7/7 [00:00<00:00, 17.22it/s]\n"
     ]
    },
    {
     "output_type": "stream",
     "name": "stdout",
     "text": [
      "{'ner': 63.25748456886504}\n"
     ]
    },
    {
     "output_type": "stream",
     "name": "stderr",
     "text": [
      "100%|██████████| 7/7 [00:00<00:00, 17.25it/s]\n"
     ]
    },
    {
     "output_type": "stream",
     "name": "stdout",
     "text": [
      "{'ner': 59.640455696964636}\n"
     ]
    },
    {
     "output_type": "stream",
     "name": "stderr",
     "text": [
      "100%|██████████| 7/7 [00:00<00:00, 17.32it/s]\n"
     ]
    },
    {
     "output_type": "stream",
     "name": "stdout",
     "text": [
      "{'ner': 67.21376272430643}\n"
     ]
    },
    {
     "output_type": "stream",
     "name": "stderr",
     "text": [
      "100%|██████████| 7/7 [00:00<00:00, 17.49it/s]\n"
     ]
    },
    {
     "output_type": "stream",
     "name": "stdout",
     "text": [
      "{'ner': 60.324499360935306}\n"
     ]
    },
    {
     "output_type": "stream",
     "name": "stderr",
     "text": [
      "100%|██████████| 7/7 [00:00<00:00, 17.39it/s]\n"
     ]
    },
    {
     "output_type": "stream",
     "name": "stdout",
     "text": [
      "{'ner': 77.5920566209661}\n"
     ]
    },
    {
     "output_type": "stream",
     "name": "stderr",
     "text": [
      "100%|██████████| 7/7 [00:00<00:00, 17.03it/s]\n"
     ]
    },
    {
     "output_type": "stream",
     "name": "stdout",
     "text": [
      "{'ner': 67.50922330166806}\n"
     ]
    },
    {
     "output_type": "stream",
     "name": "stderr",
     "text": [
      "100%|██████████| 7/7 [00:00<00:00, 16.52it/s]\n"
     ]
    },
    {
     "output_type": "stream",
     "name": "stdout",
     "text": [
      "{'ner': 68.62945436721202}\n"
     ]
    },
    {
     "output_type": "stream",
     "name": "stderr",
     "text": [
      "100%|██████████| 7/7 [00:00<00:00, 16.71it/s]\n"
     ]
    },
    {
     "output_type": "stream",
     "name": "stdout",
     "text": [
      "{'ner': 68.26408635498956}\n"
     ]
    },
    {
     "output_type": "stream",
     "name": "stderr",
     "text": [
      "100%|██████████| 7/7 [00:00<00:00, 16.49it/s]\n"
     ]
    },
    {
     "output_type": "stream",
     "name": "stdout",
     "text": [
      "{'ner': 69.53731467598118}\n"
     ]
    },
    {
     "output_type": "stream",
     "name": "stderr",
     "text": [
      "100%|██████████| 7/7 [00:00<00:00, 16.73it/s]\n"
     ]
    },
    {
     "output_type": "stream",
     "name": "stdout",
     "text": [
      "{'ner': 67.45312087005004}\n"
     ]
    },
    {
     "output_type": "stream",
     "name": "stderr",
     "text": [
      "100%|██████████| 7/7 [00:00<00:00, 16.49it/s]\n"
     ]
    },
    {
     "output_type": "stream",
     "name": "stdout",
     "text": [
      "{'ner': 65.79852221241526}\n"
     ]
    },
    {
     "output_type": "stream",
     "name": "stderr",
     "text": [
      "100%|██████████| 7/7 [00:00<00:00, 16.54it/s]\n"
     ]
    },
    {
     "output_type": "stream",
     "name": "stdout",
     "text": [
      "{'ner': 67.71812726571625}\n"
     ]
    },
    {
     "output_type": "stream",
     "name": "stderr",
     "text": [
      "100%|██████████| 7/7 [00:00<00:00, 16.89it/s]\n"
     ]
    },
    {
     "output_type": "stream",
     "name": "stdout",
     "text": [
      "{'ner': 68.84006180974211}\n"
     ]
    },
    {
     "output_type": "stream",
     "name": "stderr",
     "text": [
      "100%|██████████| 7/7 [00:00<00:00, 17.77it/s]\n"
     ]
    },
    {
     "output_type": "stream",
     "name": "stdout",
     "text": [
      "{'ner': 68.16274349362357}\n"
     ]
    },
    {
     "output_type": "stream",
     "name": "stderr",
     "text": [
      "100%|██████████| 7/7 [00:00<00:00, 17.45it/s]\n"
     ]
    },
    {
     "output_type": "stream",
     "name": "stdout",
     "text": [
      "{'ner': 68.12204250218929}\n"
     ]
    },
    {
     "output_type": "stream",
     "name": "stderr",
     "text": [
      "100%|██████████| 7/7 [00:00<00:00, 17.93it/s]\n"
     ]
    },
    {
     "output_type": "stream",
     "name": "stdout",
     "text": [
      "{'ner': 69.83590519956579}\n"
     ]
    },
    {
     "output_type": "stream",
     "name": "stderr",
     "text": [
      "100%|██████████| 7/7 [00:00<00:00, 17.55it/s]\n"
     ]
    },
    {
     "output_type": "stream",
     "name": "stdout",
     "text": [
      "{'ner': 69.52411936205748}\n"
     ]
    },
    {
     "output_type": "stream",
     "name": "stderr",
     "text": [
      "100%|██████████| 7/7 [00:00<00:00, 18.06it/s]\n"
     ]
    },
    {
     "output_type": "stream",
     "name": "stdout",
     "text": [
      "{'ner': 72.1227676984854}\n"
     ]
    },
    {
     "output_type": "stream",
     "name": "stderr",
     "text": [
      "100%|██████████| 7/7 [00:00<00:00, 18.03it/s]\n"
     ]
    },
    {
     "output_type": "stream",
     "name": "stdout",
     "text": [
      "{'ner': 69.00178468390368}\n"
     ]
    },
    {
     "output_type": "stream",
     "name": "stderr",
     "text": [
      "100%|██████████| 7/7 [00:00<00:00, 17.84it/s]\n"
     ]
    },
    {
     "output_type": "stream",
     "name": "stdout",
     "text": [
      "{'ner': 61.465223854305805}\n"
     ]
    },
    {
     "output_type": "stream",
     "name": "stderr",
     "text": [
      "100%|██████████| 7/7 [00:00<00:00, 16.72it/s]\n"
     ]
    },
    {
     "output_type": "stream",
     "name": "stdout",
     "text": [
      "{'ner': 67.0426831274735}\n"
     ]
    },
    {
     "output_type": "stream",
     "name": "stderr",
     "text": [
      "100%|██████████| 7/7 [00:00<00:00, 16.91it/s]\n"
     ]
    },
    {
     "output_type": "stream",
     "name": "stdout",
     "text": [
      "{'ner': 67.48509230216587}\n"
     ]
    },
    {
     "output_type": "stream",
     "name": "stderr",
     "text": [
      "100%|██████████| 7/7 [00:00<00:00, 16.93it/s]\n"
     ]
    },
    {
     "output_type": "stream",
     "name": "stdout",
     "text": [
      "{'ner': 67.38022407744484}\n"
     ]
    },
    {
     "output_type": "stream",
     "name": "stderr",
     "text": [
      "100%|██████████| 7/7 [00:00<00:00, 16.91it/s]\n"
     ]
    },
    {
     "output_type": "stream",
     "name": "stdout",
     "text": [
      "{'ner': 62.23931321545851}\n"
     ]
    },
    {
     "output_type": "stream",
     "name": "stderr",
     "text": [
      "100%|██████████| 7/7 [00:00<00:00, 16.83it/s]\n"
     ]
    },
    {
     "output_type": "stream",
     "name": "stdout",
     "text": [
      "{'ner': 70.73858526498043}\n"
     ]
    },
    {
     "output_type": "stream",
     "name": "stderr",
     "text": [
      "100%|██████████| 7/7 [00:00<00:00, 16.24it/s]\n"
     ]
    },
    {
     "output_type": "stream",
     "name": "stdout",
     "text": [
      "{'ner': 67.99859462404856}\n"
     ]
    },
    {
     "output_type": "stream",
     "name": "stderr",
     "text": [
      "100%|██████████| 7/7 [00:00<00:00, 17.23it/s]\n"
     ]
    },
    {
     "output_type": "stream",
     "name": "stdout",
     "text": [
      "{'ner': 69.71125107146895}\n"
     ]
    },
    {
     "output_type": "stream",
     "name": "stderr",
     "text": [
      "100%|██████████| 7/7 [00:00<00:00, 16.51it/s]\n"
     ]
    },
    {
     "output_type": "stream",
     "name": "stdout",
     "text": [
      "{'ner': 70.57669449722744}\n"
     ]
    },
    {
     "output_type": "stream",
     "name": "stderr",
     "text": [
      "100%|██████████| 7/7 [00:00<00:00, 17.60it/s]\n"
     ]
    },
    {
     "output_type": "stream",
     "name": "stdout",
     "text": [
      "{'ner': 67.70058338833041}\n"
     ]
    },
    {
     "output_type": "stream",
     "name": "stderr",
     "text": [
      "100%|██████████| 7/7 [00:00<00:00, 17.48it/s]\n"
     ]
    },
    {
     "output_type": "stream",
     "name": "stdout",
     "text": [
      "{'ner': 73.3539145886898}\n"
     ]
    },
    {
     "output_type": "stream",
     "name": "stderr",
     "text": [
      "100%|██████████| 7/7 [00:00<00:00, 17.35it/s]\n"
     ]
    },
    {
     "output_type": "stream",
     "name": "stdout",
     "text": [
      "{'ner': 67.25617240811698}\n"
     ]
    },
    {
     "output_type": "stream",
     "name": "stderr",
     "text": [
      "100%|██████████| 7/7 [00:00<00:00, 17.59it/s]\n"
     ]
    },
    {
     "output_type": "stream",
     "name": "stdout",
     "text": [
      "{'ner': 65.00567885860801}\n"
     ]
    },
    {
     "output_type": "stream",
     "name": "stderr",
     "text": [
      "100%|██████████| 7/7 [00:00<00:00, 17.59it/s]\n"
     ]
    },
    {
     "output_type": "stream",
     "name": "stdout",
     "text": [
      "{'ner': 58.22887910083955}\n"
     ]
    },
    {
     "output_type": "stream",
     "name": "stderr",
     "text": [
      "100%|██████████| 7/7 [00:00<00:00, 17.45it/s]\n"
     ]
    },
    {
     "output_type": "stream",
     "name": "stdout",
     "text": [
      "{'ner': 74.08091578379663}\n"
     ]
    },
    {
     "output_type": "stream",
     "name": "stderr",
     "text": [
      "100%|██████████| 7/7 [00:00<00:00, 16.22it/s]\n"
     ]
    },
    {
     "output_type": "stream",
     "name": "stdout",
     "text": [
      "{'ner': 67.79037870606408}\n"
     ]
    },
    {
     "output_type": "stream",
     "name": "stderr",
     "text": [
      "100%|██████████| 7/7 [00:00<00:00, 16.45it/s]\n"
     ]
    },
    {
     "output_type": "stream",
     "name": "stdout",
     "text": [
      "{'ner': 68.49019408756472}\n"
     ]
    },
    {
     "output_type": "stream",
     "name": "stderr",
     "text": [
      "100%|██████████| 7/7 [00:00<00:00, 16.09it/s]\n"
     ]
    },
    {
     "output_type": "stream",
     "name": "stdout",
     "text": [
      "{'ner': 68.74533488095767}\n"
     ]
    },
    {
     "output_type": "stream",
     "name": "stderr",
     "text": [
      "100%|██████████| 7/7 [00:00<00:00, 16.82it/s]\n"
     ]
    },
    {
     "output_type": "stream",
     "name": "stdout",
     "text": [
      "{'ner': 59.19904063261055}\n"
     ]
    },
    {
     "output_type": "stream",
     "name": "stderr",
     "text": [
      "100%|██████████| 7/7 [00:00<00:00, 17.63it/s]\n"
     ]
    },
    {
     "output_type": "stream",
     "name": "stdout",
     "text": [
      "{'ner': 69.25671134887169}\n"
     ]
    },
    {
     "output_type": "stream",
     "name": "stderr",
     "text": [
      "100%|██████████| 7/7 [00:00<00:00, 17.44it/s]\n"
     ]
    },
    {
     "output_type": "stream",
     "name": "stdout",
     "text": [
      "{'ner': 70.3994761351496}\n"
     ]
    },
    {
     "output_type": "stream",
     "name": "stderr",
     "text": [
      "100%|██████████| 7/7 [00:00<00:00, 17.56it/s]\n"
     ]
    },
    {
     "output_type": "stream",
     "name": "stdout",
     "text": [
      "{'ner': 65.82506303369541}\n"
     ]
    },
    {
     "output_type": "stream",
     "name": "stderr",
     "text": [
      "100%|██████████| 7/7 [00:00<00:00, 17.73it/s]\n"
     ]
    },
    {
     "output_type": "stream",
     "name": "stdout",
     "text": [
      "{'ner': 64.57004616962308}\n"
     ]
    },
    {
     "output_type": "stream",
     "name": "stderr",
     "text": [
      "100%|██████████| 7/7 [00:00<00:00, 16.41it/s]\n"
     ]
    },
    {
     "output_type": "stream",
     "name": "stdout",
     "text": [
      "{'ner': 70.19378702482209}\n"
     ]
    },
    {
     "output_type": "stream",
     "name": "stderr",
     "text": [
      "100%|██████████| 7/7 [00:00<00:00, 17.21it/s]\n"
     ]
    },
    {
     "output_type": "stream",
     "name": "stdout",
     "text": [
      "{'ner': 74.69052042736439}\n"
     ]
    },
    {
     "output_type": "stream",
     "name": "stderr",
     "text": [
      "100%|██████████| 7/7 [00:00<00:00, 17.07it/s]\n"
     ]
    },
    {
     "output_type": "stream",
     "name": "stdout",
     "text": [
      "{'ner': 64.72550914690471}\n"
     ]
    },
    {
     "output_type": "stream",
     "name": "stderr",
     "text": [
      "100%|██████████| 7/7 [00:00<00:00, 17.16it/s]\n"
     ]
    },
    {
     "output_type": "stream",
     "name": "stdout",
     "text": [
      "{'ner': 63.98614677682053}\n"
     ]
    },
    {
     "output_type": "stream",
     "name": "stderr",
     "text": [
      "100%|██████████| 7/7 [00:00<00:00, 17.59it/s]\n"
     ]
    },
    {
     "output_type": "stream",
     "name": "stdout",
     "text": [
      "{'ner': 70.25237037113439}\n"
     ]
    },
    {
     "output_type": "stream",
     "name": "stderr",
     "text": [
      "100%|██████████| 7/7 [00:00<00:00, 17.72it/s]\n"
     ]
    },
    {
     "output_type": "stream",
     "name": "stdout",
     "text": [
      "{'ner': 67.89008776750416}\n"
     ]
    },
    {
     "output_type": "stream",
     "name": "stderr",
     "text": [
      "100%|██████████| 7/7 [00:00<00:00, 17.59it/s]\n"
     ]
    },
    {
     "output_type": "stream",
     "name": "stdout",
     "text": [
      "{'ner': 68.62007940752198}\n"
     ]
    },
    {
     "output_type": "stream",
     "name": "stderr",
     "text": [
      "100%|██████████| 7/7 [00:00<00:00, 17.40it/s]\n"
     ]
    },
    {
     "output_type": "stream",
     "name": "stdout",
     "text": [
      "{'ner': 65.53391522357155}\n"
     ]
    },
    {
     "output_type": "stream",
     "name": "stderr",
     "text": [
      "100%|██████████| 7/7 [00:00<00:00, 16.81it/s]\n"
     ]
    },
    {
     "output_type": "stream",
     "name": "stdout",
     "text": [
      "{'ner': 67.65024240981084}\n"
     ]
    },
    {
     "output_type": "stream",
     "name": "stderr",
     "text": [
      "100%|██████████| 7/7 [00:00<00:00, 17.48it/s]\n"
     ]
    },
    {
     "output_type": "stream",
     "name": "stdout",
     "text": [
      "{'ner': 68.33479708904633}\n"
     ]
    },
    {
     "output_type": "stream",
     "name": "stderr",
     "text": [
      "100%|██████████| 7/7 [00:00<00:00, 17.16it/s]\n"
     ]
    },
    {
     "output_type": "stream",
     "name": "stdout",
     "text": [
      "{'ner': 64.31370332093138}\n"
     ]
    },
    {
     "output_type": "stream",
     "name": "stderr",
     "text": [
      "100%|██████████| 7/7 [00:00<00:00, 17.54it/s]\n"
     ]
    },
    {
     "output_type": "stream",
     "name": "stdout",
     "text": [
      "{'ner': 68.99759635400255}\n"
     ]
    },
    {
     "output_type": "stream",
     "name": "stderr",
     "text": [
      "100%|██████████| 7/7 [00:00<00:00, 17.54it/s]\n"
     ]
    },
    {
     "output_type": "stream",
     "name": "stdout",
     "text": [
      "{'ner': 67.388890890933}\n"
     ]
    },
    {
     "output_type": "stream",
     "name": "stderr",
     "text": [
      "100%|██████████| 7/7 [00:00<00:00, 17.35it/s]\n"
     ]
    },
    {
     "output_type": "stream",
     "name": "stdout",
     "text": [
      "{'ner': 71.31665840011556}\n"
     ]
    },
    {
     "output_type": "stream",
     "name": "stderr",
     "text": [
      "100%|██████████| 7/7 [00:00<00:00, 17.06it/s]\n"
     ]
    },
    {
     "output_type": "stream",
     "name": "stdout",
     "text": [
      "{'ner': 71.45469857752323}\n"
     ]
    },
    {
     "output_type": "stream",
     "name": "stderr",
     "text": [
      "100%|██████████| 7/7 [00:00<00:00, 17.38it/s]\n"
     ]
    },
    {
     "output_type": "stream",
     "name": "stdout",
     "text": [
      "{'ner': 66.21089613876757}\n"
     ]
    },
    {
     "output_type": "stream",
     "name": "stderr",
     "text": [
      "100%|██████████| 7/7 [00:00<00:00, 17.01it/s]\n"
     ]
    },
    {
     "output_type": "stream",
     "name": "stdout",
     "text": [
      "{'ner': 66.7742991782335}\n"
     ]
    },
    {
     "output_type": "stream",
     "name": "stderr",
     "text": [
      "100%|██████████| 7/7 [00:00<00:00, 16.22it/s]\n"
     ]
    },
    {
     "output_type": "stream",
     "name": "stdout",
     "text": [
      "{'ner': 70.36546586151235}\n"
     ]
    },
    {
     "output_type": "stream",
     "name": "stderr",
     "text": [
      "100%|██████████| 7/7 [00:00<00:00, 17.16it/s]\n"
     ]
    },
    {
     "output_type": "stream",
     "name": "stdout",
     "text": [
      "{'ner': 62.497150021293464}\n"
     ]
    },
    {
     "output_type": "stream",
     "name": "stderr",
     "text": [
      "100%|██████████| 7/7 [00:00<00:00, 17.20it/s]\n"
     ]
    },
    {
     "output_type": "stream",
     "name": "stdout",
     "text": [
      "{'ner': 70.33422500354936}\n"
     ]
    },
    {
     "output_type": "stream",
     "name": "stderr",
     "text": [
      "100%|██████████| 7/7 [00:00<00:00, 17.41it/s]\n"
     ]
    },
    {
     "output_type": "stream",
     "name": "stdout",
     "text": [
      "{'ner': 61.135407813755066}\n"
     ]
    },
    {
     "output_type": "stream",
     "name": "stderr",
     "text": [
      "100%|██████████| 7/7 [00:00<00:00, 17.51it/s]\n"
     ]
    },
    {
     "output_type": "stream",
     "name": "stdout",
     "text": [
      "{'ner': 80.8323437508561}\n"
     ]
    },
    {
     "output_type": "stream",
     "name": "stderr",
     "text": [
      "100%|██████████| 7/7 [00:00<00:00, 17.57it/s]\n"
     ]
    },
    {
     "output_type": "stream",
     "name": "stdout",
     "text": [
      "{'ner': 69.3858350077644}\n"
     ]
    },
    {
     "output_type": "stream",
     "name": "stderr",
     "text": [
      "100%|██████████| 7/7 [00:00<00:00, 17.56it/s]\n"
     ]
    },
    {
     "output_type": "stream",
     "name": "stdout",
     "text": [
      "{'ner': 69.5236373138614}\n"
     ]
    },
    {
     "output_type": "stream",
     "name": "stderr",
     "text": [
      "100%|██████████| 7/7 [00:00<00:00, 17.51it/s]\n"
     ]
    },
    {
     "output_type": "stream",
     "name": "stdout",
     "text": [
      "{'ner': 68.19308916045156}\n"
     ]
    },
    {
     "output_type": "stream",
     "name": "stderr",
     "text": [
      "100%|██████████| 7/7 [00:00<00:00, 16.85it/s]\n"
     ]
    },
    {
     "output_type": "stream",
     "name": "stdout",
     "text": [
      "{'ner': 64.56668545422144}\n"
     ]
    },
    {
     "output_type": "stream",
     "name": "stderr",
     "text": [
      "100%|██████████| 7/7 [00:00<00:00, 16.80it/s]\n"
     ]
    },
    {
     "output_type": "stream",
     "name": "stdout",
     "text": [
      "{'ner': 63.660891166462534}\n"
     ]
    },
    {
     "output_type": "stream",
     "name": "stderr",
     "text": [
      "100%|██████████| 7/7 [00:00<00:00, 16.85it/s]\n"
     ]
    },
    {
     "output_type": "stream",
     "name": "stdout",
     "text": [
      "{'ner': 70.27928657626762}\n"
     ]
    },
    {
     "output_type": "stream",
     "name": "stderr",
     "text": [
      "100%|██████████| 7/7 [00:00<00:00, 17.26it/s]\n"
     ]
    },
    {
     "output_type": "stream",
     "name": "stdout",
     "text": [
      "{'ner': 61.42331577132802}\n"
     ]
    },
    {
     "output_type": "stream",
     "name": "stderr",
     "text": [
      "100%|██████████| 7/7 [00:00<00:00, 17.15it/s]\n"
     ]
    },
    {
     "output_type": "stream",
     "name": "stdout",
     "text": [
      "{'ner': 65.10195870738244}\n"
     ]
    },
    {
     "output_type": "stream",
     "name": "stderr",
     "text": [
      "100%|██████████| 7/7 [00:00<00:00, 17.03it/s]\n"
     ]
    },
    {
     "output_type": "stream",
     "name": "stdout",
     "text": [
      "{'ner': 65.70145178110033}\n"
     ]
    },
    {
     "output_type": "stream",
     "name": "stderr",
     "text": [
      "100%|██████████| 7/7 [00:00<00:00, 17.27it/s]\n"
     ]
    },
    {
     "output_type": "stream",
     "name": "stdout",
     "text": [
      "{'ner': 64.47408954775233}\n"
     ]
    },
    {
     "output_type": "stream",
     "name": "stderr",
     "text": [
      "100%|██████████| 7/7 [00:00<00:00, 17.26it/s]\n"
     ]
    },
    {
     "output_type": "stream",
     "name": "stdout",
     "text": [
      "{'ner': 58.90845112695983}\n"
     ]
    },
    {
     "output_type": "stream",
     "name": "stderr",
     "text": [
      "100%|██████████| 7/7 [00:00<00:00, 17.23it/s]\n"
     ]
    },
    {
     "output_type": "stream",
     "name": "stdout",
     "text": [
      "{'ner': 60.463864968962305}\n"
     ]
    },
    {
     "output_type": "stream",
     "name": "stderr",
     "text": [
      "100%|██████████| 7/7 [00:00<00:00, 17.03it/s]\n"
     ]
    },
    {
     "output_type": "stream",
     "name": "stdout",
     "text": [
      "{'ner': 63.94272614285944}\n"
     ]
    },
    {
     "output_type": "stream",
     "name": "stderr",
     "text": [
      "100%|██████████| 7/7 [00:00<00:00, 16.80it/s]\n"
     ]
    },
    {
     "output_type": "stream",
     "name": "stdout",
     "text": [
      "{'ner': 63.994870555124244}\n"
     ]
    },
    {
     "output_type": "stream",
     "name": "stderr",
     "text": [
      "100%|██████████| 7/7 [00:00<00:00, 16.74it/s]\n"
     ]
    },
    {
     "output_type": "stream",
     "name": "stdout",
     "text": [
      "{'ner': 66.13170483904253}\n"
     ]
    },
    {
     "output_type": "stream",
     "name": "stderr",
     "text": [
      "100%|██████████| 7/7 [00:00<00:00, 16.14it/s]\n"
     ]
    },
    {
     "output_type": "stream",
     "name": "stdout",
     "text": [
      "{'ner': 63.3496629600794}\n"
     ]
    },
    {
     "output_type": "stream",
     "name": "stderr",
     "text": [
      "100%|██████████| 7/7 [00:00<00:00, 16.26it/s]\n"
     ]
    },
    {
     "output_type": "stream",
     "name": "stdout",
     "text": [
      "{'ner': 64.21229771903886}\n"
     ]
    },
    {
     "output_type": "stream",
     "name": "stderr",
     "text": [
      "100%|██████████| 7/7 [00:00<00:00, 16.44it/s]\n"
     ]
    },
    {
     "output_type": "stream",
     "name": "stdout",
     "text": [
      "{'ner': 68.44236477290178}\n"
     ]
    },
    {
     "output_type": "stream",
     "name": "stderr",
     "text": [
      "100%|██████████| 7/7 [00:00<00:00, 16.41it/s]\n"
     ]
    },
    {
     "output_type": "stream",
     "name": "stdout",
     "text": [
      "{'ner': 67.71506939196794}\n"
     ]
    },
    {
     "output_type": "stream",
     "name": "stderr",
     "text": [
      "100%|██████████| 7/7 [00:00<00:00, 16.37it/s]"
     ]
    },
    {
     "output_type": "stream",
     "name": "stdout",
     "text": [
      "{'ner': 67.66482525204145}\n"
     ]
    },
    {
     "output_type": "stream",
     "name": "stderr",
     "text": [
      "\n"
     ]
    }
   ],
   "metadata": {}
  },
  {
   "cell_type": "code",
   "execution_count": 8,
   "source": [
    "for text, _ in TRAIN_DATA:\r\n",
    "    doc = nlp(\"哦哦今天我想给各位同学来介绍一下Azure机器学习的一个部分。那如果大家呢，呃，有看上面的小视频呢？大家会知道，Azure上面呢，有非常呃，强大的一些机器学习的一些功能啊啊。我们，呃，之前呢就介绍过一个零代码的方式去做。呃，一个计算机视觉的任务，那接下来呢？我想给大家更专业的部分，大家知道我们做机器学习的时候呢，会遇到一个状况，就是，呃，我们可能没有GPU。或者是没有一些机器学习的平台，还有搭建环境的时候非常不方便。但是如果你通过Azure了，可以很快速的去完成相关的工作，你可以不需要关注你的整个。呃，平台的一些搭建情况啊啊，安装啊，配置文件之类的就可以启动你的Azure的一些机器学习上面的一些服务，包括说logo，包括说Python的环境，还有就是一些GPU的一些算力的一些呃，使用在这里面的话呢，我想给大家介绍一下。Azure的整个，呃，机器学习的一个服务的一个平台好。首先呢，我们回到Azure的portal里面，在这个坡头里面呢？呃，会有很多的一些呃资资源的一些创建，我们呢，首先还是要去创建一个Azure，去关于机器服务的，呃，资源，我们去选择AI加机器学习，然后呢在这里面定义列，呃，里面的。呃，第一个就是我们的机器学习服务，然后点击创建，那这个收了它就会引导你去做一个Azure的一个机器学习的一个。创建在这里面的话，你可以选择的是原有的资源组或者是自己可以新建一个另外的你可能是要去创建一个机器学习的一个名字。呃，像L demo。哦然后呢，你可以选择你的区域，然后你的存储的账户为什么要有存储呢？因为呃，在里面的话，它可以帮你去保存你的。呃，朱比特的logo还有相关的一些，呃，关于数据的整理啊，呃还有另外的一些相关的。呃，包括说训练的一些操作。还有就是一些，呃，密钥啊啊，这些都是一个非常有用的。当然你需不需要去注册一个容器了啊，也可以默认可以不用啊，在这里我们先不用，然后就开始去创建了。那在创建的过程当中，他会去也是做我们的验证的步骤。稍等，如果验证通过的话你就可以直接的去创建了。当然你的。呃。Azure machine Learning的服务呢呃，已经创建好之后呢，他就会可以告诉你去转到相关的资源里面。那大家可以看得到呃，在这里面的话，他已经把你需要的资源组已经绑定了，当然也在存储的空间还有位置上面都做了一些绑定啊，在这里面你就可以直接的去使用你的Azure machine Learning的一个平台，在这上面的话啊，我们可以根据呃情况呢去点击啊啊，这个工作室里面的URL啊，去跳转到我们的Azure机器服务的一个呃相关的一个连接，那这个时候你就可以根据你的需要。去创建爱你的呃一些公呃，跟机器学习相关的一些工作。举个例子，呃，我们做机器学习可能需要到logo。那你这个时候你可能是要去。呃。做logo的操作啊，在这里面你可以去添加啊新的logo也可以呢。呃，去在sample里面，因为你是要去学习，那你可以在上面去，呃，学习一个，呃，添加一个呃。相关的一个怎么样子去用ml experiment的操作，那这个时候呢，你可以去X sample的一个文件夹里面。啊，去把它克隆到你的本地上面。像举个例子，我在这里是一个Looking费的一个目录啊，是我的名字，然后就克隆。他就可以把呃，sample里面的文件，呃，克隆道理的呃，一个目录上面然后呢在这下面的话好像说我要去。呃，乱我的一个SDK AML的SDK，那我点击他的文件的时候大家可以发现啊，他的M啊，都是英文，比较高大上，但是不怕啊啊。在上面的话呢，呃，都是一些怎么样子去，呃，利用。嗯，这个Azure machine Learning去做一些模型训练的，那这个时候大家知道你需要去做一些相关的一些算力。呃，那你这个收了，他会告诉你你没有去做算力怎么办呢？你要去选择一个，呃，新的一个compute啊啊。在这里面你可以选择的是GPU跟CPU的compute，因为我在这里的话啊，是，呃，有你可以用一个叫做M选择GPU的时候，你可以选择的是，呃，一个M60的一个GPU的一个算力。当然你如果是节省一点的话，因为你有学生账号啊，有100刀的一个，呃，算力的一个支持。那这个时候呢，你可以选择啊，一个GPU啊啊，每个小时来算就1.58美金啊，1.5百558刀啊啊的一个算力啊。所以在这里面的话啊，你可以根据你的需要去做，而且这个呢，你不用的时候把它停掉，它是不算任何费用的。所以呢，你要看你自己的实际情况，当然你可以用CPU CPU的话呢，它有很多的cu的，呃，算力在上面像我在这里的话，我就用了一个叫做DS3 V2的一个。呃，普通的一个CPU，它是0.14刀啊呃四一刀啊呃，作为每个小时的算力那我就在这里创建创建也是虚实，呃，去创建啊。呃，它会创建成功之后就会告诉你哦，这个东西是怎么样子的，嗯。大家可以看得到哈哦你的算力也不需要去投入啊。而且呢，你可以去呃，做很多的一些机器学习相关的工作。另外呢，在这里面我想介绍给大家一个非常好玩的东西，就是他的比赛呢，我们在等待计算嗯的这个算力呃，创启动起来的时候呢，你就可以去看一下这个比赛了，这个比赛呢是什么东西呢？大家知道在Windows上面，嗯，我们可以。很简单的去拖拽一些控件去完成一些Windows的界面啊。在这里面的话呢，你可以通过啊相关的，呃，一个，呃，拖拽呃去完成机器学习里面相关的一些知识的一些创建，像我在这里的话，大家可以看到我，我选择了一个图像识别的操作之后呢，呃，如果你选择这个比赛呢，你可以看到它从图图像集啊到图像的一些转变到图像图片的一些分类。爱到训练，都是通过拖拽去完成的。这样子的话呢，他就让机器学习更加的呃，自动化啊可视化啊。呃，所以呢？呃，通过Azure的机器学习服务了你可以，呃，通过设计器去完成你的机器学习的步骤。另外的也还可以用业界最受欢迎的auto ml去完成相关的任务，也是非常方便可用的。然后我们回到我们的logo去看一下他是不是已经创建完了。好，当我们的算力创建完之后啊，大家可以看得到他会去提醒你哦，这个算力已经创建成功了然后在这个时候呢？呃，大家会担心的是，哎呀我这个算力究竟是用三者环境举个例子，你可以用的是Python 3.6的环境，当然也可以用3.8啊，还有另外的它也支持R的这种算力的一个支持。所以呢，在这里面呢是非常方便的啊，而且你可以通过呃logo的去线上的这个logo呢去添加代码。然后运行。所以呢，通过Azure machine Learning的服务呢？呃，可以让你的机器学习了的呃，学习或者实验的环境呢，得到一个提升。而且是在，呃，不用付费的前提下去完成这个事啊。希望各位同学了啊，马上去尝试一下啊。呃，通过Azure的机器学习服务去完成你的，呃，AI的学习啊，也可以作为学习的环境啊，谢谢大家。\")\r\n",
    "    # doc = nlp(text)\r\n",
    "    print('Entities', [(ent.text, ent.label_) for ent in doc.ents])"
   ],
   "outputs": [
    {
     "output_type": "stream",
     "name": "stdout",
     "text": [
      "Entities [('Azure', 'MicrosoftAzure'), ('机器学习', 'MachineLearning'), ('Azure', 'MicrosoftAzure'), ('机器学习', 'MachineLearning'), ('机器学习', 'MachineLearning'), ('机器学习', 'MachineLearning'), ('Azure', 'MicrosoftAzure'), ('Azure', 'MicrosoftAzure'), ('机器学习', 'MachineLearning'), ('Azure', 'MicrosoftAzure'), ('机器学习', 'MachineLearning'), ('Azure', 'MicrosoftAzure'), ('Azure', 'MicrosoftAzure'), ('机器学习', 'MachineLearning'), ('机器学习', 'MachineLearning'), ('Azure', 'MicrosoftAzure'), ('机器学习', 'MachineLearning'), ('机器学习', 'MachineLearning'), ('Azure', 'MicrosoftAzure'), ('机器学习', 'MachineLearning'), ('机器学习', 'MachineLearning'), ('Looking费的一个目录', 'MachineLearning'), ('Azure', 'MicrosoftAzure'), ('机器学习', 'MachineLearning'), ('机器学习', 'MachineLearning'), ('爱到训练，', 'MachineLearning'), ('机器学习', 'MachineLearning'), ('Azure', 'MicrosoftAzure'), ('机器学习', 'MachineLearning'), ('机器学习', 'MachineLearning'), ('Azure', 'MicrosoftAzure'), ('机器学习', 'MachineLearning'), ('Azure', 'MicrosoftAzure'), ('机器学习', 'MachineLearning')]\n",
      "Entities [('Azure', 'MicrosoftAzure'), ('机器学习', 'MachineLearning'), ('Azure', 'MicrosoftAzure'), ('机器学习', 'MachineLearning'), ('机器学习', 'MachineLearning'), ('机器学习', 'MachineLearning'), ('Azure', 'MicrosoftAzure'), ('Azure', 'MicrosoftAzure'), ('机器学习', 'MachineLearning'), ('Azure', 'MicrosoftAzure'), ('机器学习', 'MachineLearning'), ('Azure', 'MicrosoftAzure'), ('Azure', 'MicrosoftAzure'), ('机器学习', 'MachineLearning'), ('机器学习', 'MachineLearning'), ('Azure', 'MicrosoftAzure'), ('机器学习', 'MachineLearning'), ('机器学习', 'MachineLearning'), ('Azure', 'MicrosoftAzure'), ('机器学习', 'MachineLearning'), ('机器学习', 'MachineLearning'), ('Looking费的一个目录', 'MachineLearning'), ('Azure', 'MicrosoftAzure'), ('机器学习', 'MachineLearning'), ('机器学习', 'MachineLearning'), ('爱到训练，', 'MachineLearning'), ('机器学习', 'MachineLearning'), ('Azure', 'MicrosoftAzure'), ('机器学习', 'MachineLearning'), ('机器学习', 'MachineLearning'), ('Azure', 'MicrosoftAzure'), ('机器学习', 'MachineLearning'), ('Azure', 'MicrosoftAzure'), ('机器学习', 'MachineLearning')]\n",
      "Entities [('Azure', 'MicrosoftAzure'), ('机器学习', 'MachineLearning'), ('Azure', 'MicrosoftAzure'), ('机器学习', 'MachineLearning'), ('机器学习', 'MachineLearning'), ('机器学习', 'MachineLearning'), ('Azure', 'MicrosoftAzure'), ('Azure', 'MicrosoftAzure'), ('机器学习', 'MachineLearning'), ('Azure', 'MicrosoftAzure'), ('机器学习', 'MachineLearning'), ('Azure', 'MicrosoftAzure'), ('Azure', 'MicrosoftAzure'), ('机器学习', 'MachineLearning'), ('机器学习', 'MachineLearning'), ('Azure', 'MicrosoftAzure'), ('机器学习', 'MachineLearning'), ('机器学习', 'MachineLearning'), ('Azure', 'MicrosoftAzure'), ('机器学习', 'MachineLearning'), ('机器学习', 'MachineLearning'), ('Looking费的一个目录', 'MachineLearning'), ('Azure', 'MicrosoftAzure'), ('机器学习', 'MachineLearning'), ('机器学习', 'MachineLearning'), ('爱到训练，', 'MachineLearning'), ('机器学习', 'MachineLearning'), ('Azure', 'MicrosoftAzure'), ('机器学习', 'MachineLearning'), ('机器学习', 'MachineLearning'), ('Azure', 'MicrosoftAzure'), ('机器学习', 'MachineLearning'), ('Azure', 'MicrosoftAzure'), ('机器学习', 'MachineLearning')]\n",
      "Entities [('Azure', 'MicrosoftAzure'), ('机器学习', 'MachineLearning'), ('Azure', 'MicrosoftAzure'), ('机器学习', 'MachineLearning'), ('机器学习', 'MachineLearning'), ('机器学习', 'MachineLearning'), ('Azure', 'MicrosoftAzure'), ('Azure', 'MicrosoftAzure'), ('机器学习', 'MachineLearning'), ('Azure', 'MicrosoftAzure'), ('机器学习', 'MachineLearning'), ('Azure', 'MicrosoftAzure'), ('Azure', 'MicrosoftAzure'), ('机器学习', 'MachineLearning'), ('机器学习', 'MachineLearning'), ('Azure', 'MicrosoftAzure'), ('机器学习', 'MachineLearning'), ('机器学习', 'MachineLearning'), ('Azure', 'MicrosoftAzure'), ('机器学习', 'MachineLearning'), ('机器学习', 'MachineLearning'), ('Looking费的一个目录', 'MachineLearning'), ('Azure', 'MicrosoftAzure'), ('机器学习', 'MachineLearning'), ('机器学习', 'MachineLearning'), ('爱到训练，', 'MachineLearning'), ('机器学习', 'MachineLearning'), ('Azure', 'MicrosoftAzure'), ('机器学习', 'MachineLearning'), ('机器学习', 'MachineLearning'), ('Azure', 'MicrosoftAzure'), ('机器学习', 'MachineLearning'), ('Azure', 'MicrosoftAzure'), ('机器学习', 'MachineLearning')]\n",
      "Entities [('Azure', 'MicrosoftAzure'), ('机器学习', 'MachineLearning'), ('Azure', 'MicrosoftAzure'), ('机器学习', 'MachineLearning'), ('机器学习', 'MachineLearning'), ('机器学习', 'MachineLearning'), ('Azure', 'MicrosoftAzure'), ('Azure', 'MicrosoftAzure'), ('机器学习', 'MachineLearning'), ('Azure', 'MicrosoftAzure'), ('机器学习', 'MachineLearning'), ('Azure', 'MicrosoftAzure'), ('Azure', 'MicrosoftAzure'), ('机器学习', 'MachineLearning'), ('机器学习', 'MachineLearning'), ('Azure', 'MicrosoftAzure'), ('机器学习', 'MachineLearning'), ('机器学习', 'MachineLearning'), ('Azure', 'MicrosoftAzure'), ('机器学习', 'MachineLearning'), ('机器学习', 'MachineLearning'), ('Looking费的一个目录', 'MachineLearning'), ('Azure', 'MicrosoftAzure'), ('机器学习', 'MachineLearning'), ('机器学习', 'MachineLearning'), ('爱到训练，', 'MachineLearning'), ('机器学习', 'MachineLearning'), ('Azure', 'MicrosoftAzure'), ('机器学习', 'MachineLearning'), ('机器学习', 'MachineLearning'), ('Azure', 'MicrosoftAzure'), ('机器学习', 'MachineLearning'), ('Azure', 'MicrosoftAzure'), ('机器学习', 'MachineLearning')]\n",
      "Entities [('Azure', 'MicrosoftAzure'), ('机器学习', 'MachineLearning'), ('Azure', 'MicrosoftAzure'), ('机器学习', 'MachineLearning'), ('机器学习', 'MachineLearning'), ('机器学习', 'MachineLearning'), ('Azure', 'MicrosoftAzure'), ('Azure', 'MicrosoftAzure'), ('机器学习', 'MachineLearning'), ('Azure', 'MicrosoftAzure'), ('机器学习', 'MachineLearning'), ('Azure', 'MicrosoftAzure'), ('Azure', 'MicrosoftAzure'), ('机器学习', 'MachineLearning'), ('机器学习', 'MachineLearning'), ('Azure', 'MicrosoftAzure'), ('机器学习', 'MachineLearning'), ('机器学习', 'MachineLearning'), ('Azure', 'MicrosoftAzure'), ('机器学习', 'MachineLearning'), ('机器学习', 'MachineLearning'), ('Looking费的一个目录', 'MachineLearning'), ('Azure', 'MicrosoftAzure'), ('机器学习', 'MachineLearning'), ('机器学习', 'MachineLearning'), ('爱到训练，', 'MachineLearning'), ('机器学习', 'MachineLearning'), ('Azure', 'MicrosoftAzure'), ('机器学习', 'MachineLearning'), ('机器学习', 'MachineLearning'), ('Azure', 'MicrosoftAzure'), ('机器学习', 'MachineLearning'), ('Azure', 'MicrosoftAzure'), ('机器学习', 'MachineLearning')]\n",
      "Entities [('Azure', 'MicrosoftAzure'), ('机器学习', 'MachineLearning'), ('Azure', 'MicrosoftAzure'), ('机器学习', 'MachineLearning'), ('机器学习', 'MachineLearning'), ('机器学习', 'MachineLearning'), ('Azure', 'MicrosoftAzure'), ('Azure', 'MicrosoftAzure'), ('机器学习', 'MachineLearning'), ('Azure', 'MicrosoftAzure'), ('机器学习', 'MachineLearning'), ('Azure', 'MicrosoftAzure'), ('Azure', 'MicrosoftAzure'), ('机器学习', 'MachineLearning'), ('机器学习', 'MachineLearning'), ('Azure', 'MicrosoftAzure'), ('机器学习', 'MachineLearning'), ('机器学习', 'MachineLearning'), ('Azure', 'MicrosoftAzure'), ('机器学习', 'MachineLearning'), ('机器学习', 'MachineLearning'), ('Looking费的一个目录', 'MachineLearning'), ('Azure', 'MicrosoftAzure'), ('机器学习', 'MachineLearning'), ('机器学习', 'MachineLearning'), ('爱到训练，', 'MachineLearning'), ('机器学习', 'MachineLearning'), ('Azure', 'MicrosoftAzure'), ('机器学习', 'MachineLearning'), ('机器学习', 'MachineLearning'), ('Azure', 'MicrosoftAzure'), ('机器学习', 'MachineLearning'), ('Azure', 'MicrosoftAzure'), ('机器学习', 'MachineLearning')]\n"
     ]
    }
   ],
   "metadata": {}
  },
  {
   "cell_type": "code",
   "execution_count": 9,
   "source": [
    "displacy.render(doc, jupyter=True, style='ent')"
   ],
   "outputs": [
    {
     "output_type": "display_data",
     "data": {
      "text/html": [
       "<span class=\"tex2jax_ignore\"><div class=\"entities\" style=\"line-height: 2.5; direction: ltr\">哦哦今天我想给各位同学来介绍一下\n",
       "<mark class=\"entity\" style=\"background: #ddd; padding: 0.45em 0.6em; margin: 0 0.25em; line-height: 1; border-radius: 0.35em;\">\n",
       "    Azure\n",
       "    <span style=\"font-size: 0.8em; font-weight: bold; line-height: 1; border-radius: 0.35em; text-transform: uppercase; vertical-align: middle; margin-left: 0.5rem\">MicrosoftAzure</span>\n",
       "</mark>\n",
       "\n",
       "<mark class=\"entity\" style=\"background: #ddd; padding: 0.45em 0.6em; margin: 0 0.25em; line-height: 1; border-radius: 0.35em;\">\n",
       "    机器学习\n",
       "    <span style=\"font-size: 0.8em; font-weight: bold; line-height: 1; border-radius: 0.35em; text-transform: uppercase; vertical-align: middle; margin-left: 0.5rem\">MachineLearning</span>\n",
       "</mark>\n",
       "的一个部分。那如果大家呢，呃，有看上面的小视频呢？大家会知道，\n",
       "<mark class=\"entity\" style=\"background: #ddd; padding: 0.45em 0.6em; margin: 0 0.25em; line-height: 1; border-radius: 0.35em;\">\n",
       "    Azure\n",
       "    <span style=\"font-size: 0.8em; font-weight: bold; line-height: 1; border-radius: 0.35em; text-transform: uppercase; vertical-align: middle; margin-left: 0.5rem\">MicrosoftAzure</span>\n",
       "</mark>\n",
       "上面呢，有非常呃，强大的一些\n",
       "<mark class=\"entity\" style=\"background: #ddd; padding: 0.45em 0.6em; margin: 0 0.25em; line-height: 1; border-radius: 0.35em;\">\n",
       "    机器学习\n",
       "    <span style=\"font-size: 0.8em; font-weight: bold; line-height: 1; border-radius: 0.35em; text-transform: uppercase; vertical-align: middle; margin-left: 0.5rem\">MachineLearning</span>\n",
       "</mark>\n",
       "的一些功能啊啊。我们，呃，之前呢就介绍过一个零代码的方式去做。呃，一个计算机视觉的任务，那接下来呢？我想给大家更专业的部分，大家知道我们做\n",
       "<mark class=\"entity\" style=\"background: #ddd; padding: 0.45em 0.6em; margin: 0 0.25em; line-height: 1; border-radius: 0.35em;\">\n",
       "    机器学习\n",
       "    <span style=\"font-size: 0.8em; font-weight: bold; line-height: 1; border-radius: 0.35em; text-transform: uppercase; vertical-align: middle; margin-left: 0.5rem\">MachineLearning</span>\n",
       "</mark>\n",
       "的时候呢，会遇到一个状况，就是，呃，我们可能没有GPU。或者是没有一些\n",
       "<mark class=\"entity\" style=\"background: #ddd; padding: 0.45em 0.6em; margin: 0 0.25em; line-height: 1; border-radius: 0.35em;\">\n",
       "    机器学习\n",
       "    <span style=\"font-size: 0.8em; font-weight: bold; line-height: 1; border-radius: 0.35em; text-transform: uppercase; vertical-align: middle; margin-left: 0.5rem\">MachineLearning</span>\n",
       "</mark>\n",
       "的平台，还有搭建环境的时候非常不方便。但是如果你通过\n",
       "<mark class=\"entity\" style=\"background: #ddd; padding: 0.45em 0.6em; margin: 0 0.25em; line-height: 1; border-radius: 0.35em;\">\n",
       "    Azure\n",
       "    <span style=\"font-size: 0.8em; font-weight: bold; line-height: 1; border-radius: 0.35em; text-transform: uppercase; vertical-align: middle; margin-left: 0.5rem\">MicrosoftAzure</span>\n",
       "</mark>\n",
       "了，可以很快速的去完成相关的工作，你可以不需要关注你的整个。呃，平台的一些搭建情况啊啊，安装啊，配置文件之类的就可以启动你的\n",
       "<mark class=\"entity\" style=\"background: #ddd; padding: 0.45em 0.6em; margin: 0 0.25em; line-height: 1; border-radius: 0.35em;\">\n",
       "    Azure\n",
       "    <span style=\"font-size: 0.8em; font-weight: bold; line-height: 1; border-radius: 0.35em; text-transform: uppercase; vertical-align: middle; margin-left: 0.5rem\">MicrosoftAzure</span>\n",
       "</mark>\n",
       "的一些\n",
       "<mark class=\"entity\" style=\"background: #ddd; padding: 0.45em 0.6em; margin: 0 0.25em; line-height: 1; border-radius: 0.35em;\">\n",
       "    机器学习\n",
       "    <span style=\"font-size: 0.8em; font-weight: bold; line-height: 1; border-radius: 0.35em; text-transform: uppercase; vertical-align: middle; margin-left: 0.5rem\">MachineLearning</span>\n",
       "</mark>\n",
       "上面的一些服务，包括说logo，包括说Python的环境，还有就是一些GPU的一些算力的一些呃，使用在这里面的话呢，我想给大家介绍一下。\n",
       "<mark class=\"entity\" style=\"background: #ddd; padding: 0.45em 0.6em; margin: 0 0.25em; line-height: 1; border-radius: 0.35em;\">\n",
       "    Azure\n",
       "    <span style=\"font-size: 0.8em; font-weight: bold; line-height: 1; border-radius: 0.35em; text-transform: uppercase; vertical-align: middle; margin-left: 0.5rem\">MicrosoftAzure</span>\n",
       "</mark>\n",
       "的整个，呃，\n",
       "<mark class=\"entity\" style=\"background: #ddd; padding: 0.45em 0.6em; margin: 0 0.25em; line-height: 1; border-radius: 0.35em;\">\n",
       "    机器学习\n",
       "    <span style=\"font-size: 0.8em; font-weight: bold; line-height: 1; border-radius: 0.35em; text-transform: uppercase; vertical-align: middle; margin-left: 0.5rem\">MachineLearning</span>\n",
       "</mark>\n",
       "的一个服务的一个平台好。首先呢，我们回到\n",
       "<mark class=\"entity\" style=\"background: #ddd; padding: 0.45em 0.6em; margin: 0 0.25em; line-height: 1; border-radius: 0.35em;\">\n",
       "    Azure\n",
       "    <span style=\"font-size: 0.8em; font-weight: bold; line-height: 1; border-radius: 0.35em; text-transform: uppercase; vertical-align: middle; margin-left: 0.5rem\">MicrosoftAzure</span>\n",
       "</mark>\n",
       "的portal里面，在这个坡头里面呢？呃，会有很多的一些呃资资源的一些创建，我们呢，首先还是要去创建一个\n",
       "<mark class=\"entity\" style=\"background: #ddd; padding: 0.45em 0.6em; margin: 0 0.25em; line-height: 1; border-radius: 0.35em;\">\n",
       "    Azure\n",
       "    <span style=\"font-size: 0.8em; font-weight: bold; line-height: 1; border-radius: 0.35em; text-transform: uppercase; vertical-align: middle; margin-left: 0.5rem\">MicrosoftAzure</span>\n",
       "</mark>\n",
       "，去关于机器服务的，呃，资源，我们去选择AI加\n",
       "<mark class=\"entity\" style=\"background: #ddd; padding: 0.45em 0.6em; margin: 0 0.25em; line-height: 1; border-radius: 0.35em;\">\n",
       "    机器学习\n",
       "    <span style=\"font-size: 0.8em; font-weight: bold; line-height: 1; border-radius: 0.35em; text-transform: uppercase; vertical-align: middle; margin-left: 0.5rem\">MachineLearning</span>\n",
       "</mark>\n",
       "，然后呢在这里面定义列，呃，里面的。呃，第一个就是我们的\n",
       "<mark class=\"entity\" style=\"background: #ddd; padding: 0.45em 0.6em; margin: 0 0.25em; line-height: 1; border-radius: 0.35em;\">\n",
       "    机器学习\n",
       "    <span style=\"font-size: 0.8em; font-weight: bold; line-height: 1; border-radius: 0.35em; text-transform: uppercase; vertical-align: middle; margin-left: 0.5rem\">MachineLearning</span>\n",
       "</mark>\n",
       "服务，然后点击创建，那这个收了它就会引导你去做一个\n",
       "<mark class=\"entity\" style=\"background: #ddd; padding: 0.45em 0.6em; margin: 0 0.25em; line-height: 1; border-radius: 0.35em;\">\n",
       "    Azure\n",
       "    <span style=\"font-size: 0.8em; font-weight: bold; line-height: 1; border-radius: 0.35em; text-transform: uppercase; vertical-align: middle; margin-left: 0.5rem\">MicrosoftAzure</span>\n",
       "</mark>\n",
       "的一个\n",
       "<mark class=\"entity\" style=\"background: #ddd; padding: 0.45em 0.6em; margin: 0 0.25em; line-height: 1; border-radius: 0.35em;\">\n",
       "    机器学习\n",
       "    <span style=\"font-size: 0.8em; font-weight: bold; line-height: 1; border-radius: 0.35em; text-transform: uppercase; vertical-align: middle; margin-left: 0.5rem\">MachineLearning</span>\n",
       "</mark>\n",
       "的一个。创建在这里面的话，你可以选择的是原有的资源组或者是自己可以新建一个另外的你可能是要去创建一个\n",
       "<mark class=\"entity\" style=\"background: #ddd; padding: 0.45em 0.6em; margin: 0 0.25em; line-height: 1; border-radius: 0.35em;\">\n",
       "    机器学习\n",
       "    <span style=\"font-size: 0.8em; font-weight: bold; line-height: 1; border-radius: 0.35em; text-transform: uppercase; vertical-align: middle; margin-left: 0.5rem\">MachineLearning</span>\n",
       "</mark>\n",
       "的一个名字。呃，像L demo。哦然后呢，你可以选择你的区域，然后你的存储的账户为什么要有存储呢？因为呃，在里面的话，它可以帮你去保存你的。呃，朱比特的logo还有相关的一些，呃，关于数据的整理啊，呃还有另外的一些相关的。呃，包括说训练的一些操作。还有就是一些，呃，密钥啊啊，这些都是一个非常有用的。当然你需不需要去注册一个容器了啊，也可以默认可以不用啊，在这里我们先不用，然后就开始去创建了。那在创建的过程当中，他会去也是做我们的验证的步骤。稍等，如果验证通过的话你就可以直接的去创建了。当然你的。呃。\n",
       "<mark class=\"entity\" style=\"background: #ddd; padding: 0.45em 0.6em; margin: 0 0.25em; line-height: 1; border-radius: 0.35em;\">\n",
       "    Azure\n",
       "    <span style=\"font-size: 0.8em; font-weight: bold; line-height: 1; border-radius: 0.35em; text-transform: uppercase; vertical-align: middle; margin-left: 0.5rem\">MicrosoftAzure</span>\n",
       "</mark>\n",
       " machine Learning的服务呢呃，已经创建好之后呢，他就会可以告诉你去转到相关的资源里面。那大家可以看得到呃，在这里面的话，他已经把你需要的资源组已经绑定了，当然也在存储的空间还有位置上面都做了一些绑定啊，在这里面你就可以直接的去使用你的Azure machine Learning的一个平台，在这上面的话啊，我们可以根据呃情况呢去点击啊啊，这个工作室里面的URL啊，去跳转到我们的Azure机器服务的一个呃相关的一个连接，那这个时候你就可以根据你的需要。去创建爱你的呃一些公呃，跟\n",
       "<mark class=\"entity\" style=\"background: #ddd; padding: 0.45em 0.6em; margin: 0 0.25em; line-height: 1; border-radius: 0.35em;\">\n",
       "    机器学习\n",
       "    <span style=\"font-size: 0.8em; font-weight: bold; line-height: 1; border-radius: 0.35em; text-transform: uppercase; vertical-align: middle; margin-left: 0.5rem\">MachineLearning</span>\n",
       "</mark>\n",
       "相关的一些工作。举个例子，呃，我们做\n",
       "<mark class=\"entity\" style=\"background: #ddd; padding: 0.45em 0.6em; margin: 0 0.25em; line-height: 1; border-radius: 0.35em;\">\n",
       "    机器学习\n",
       "    <span style=\"font-size: 0.8em; font-weight: bold; line-height: 1; border-radius: 0.35em; text-transform: uppercase; vertical-align: middle; margin-left: 0.5rem\">MachineLearning</span>\n",
       "</mark>\n",
       "可能需要到logo。那你这个时候你可能是要去。呃。做logo的操作啊，在这里面你可以去添加啊新的logo也可以呢。呃，去在sample里面，因为你是要去学习，那你可以在上面去，呃，学习一个，呃，添加一个呃。相关的一个怎么样子去用ml experiment的操作，那这个时候呢，你可以去X sample的一个文件夹里面。啊，去把它克隆到你的本地上面。像举个例子，我在这里是一个\n",
       "<mark class=\"entity\" style=\"background: #ddd; padding: 0.45em 0.6em; margin: 0 0.25em; line-height: 1; border-radius: 0.35em;\">\n",
       "    Looking费的一个目录\n",
       "    <span style=\"font-size: 0.8em; font-weight: bold; line-height: 1; border-radius: 0.35em; text-transform: uppercase; vertical-align: middle; margin-left: 0.5rem\">MachineLearning</span>\n",
       "</mark>\n",
       "啊，是我的名字，然后就克隆。他就可以把呃，sample里面的文件，呃，克隆道理的呃，一个目录上面然后呢在这下面的话好像说我要去。呃，乱我的一个SDK AML的SDK，那我点击他的文件的时候大家可以发现啊，他的M啊，都是英文，比较高大上，但是不怕啊啊。在上面的话呢，呃，都是一些怎么样子去，呃，利用。嗯，这个\n",
       "<mark class=\"entity\" style=\"background: #ddd; padding: 0.45em 0.6em; margin: 0 0.25em; line-height: 1; border-radius: 0.35em;\">\n",
       "    Azure\n",
       "    <span style=\"font-size: 0.8em; font-weight: bold; line-height: 1; border-radius: 0.35em; text-transform: uppercase; vertical-align: middle; margin-left: 0.5rem\">MicrosoftAzure</span>\n",
       "</mark>\n",
       " machine Learning去做一些模型训练的，那这个时候大家知道你需要去做一些相关的一些算力。呃，那你这个收了，他会告诉你你没有去做算力怎么办呢？你要去选择一个，呃，新的一个compute啊啊。在这里面你可以选择的是GPU跟CPU的compute，因为我在这里的话啊，是，呃，有你可以用一个叫做M选择GPU的时候，你可以选择的是，呃，一个M60的一个GPU的一个算力。当然你如果是节省一点的话，因为你有学生账号啊，有100刀的一个，呃，算力的一个支持。那这个时候呢，你可以选择啊，一个GPU啊啊，每个小时来算就1.58美金啊，1.5百558刀啊啊的一个算力啊。所以在这里面的话啊，你可以根据你的需要去做，而且这个呢，你不用的时候把它停掉，它是不算任何费用的。所以呢，你要看你自己的实际情况，当然你可以用CPU CPU的话呢，它有很多的cu的，呃，算力在上面像我在这里的话，我就用了一个叫做DS3 V2的一个。呃，普通的一个CPU，它是0.14刀啊呃四一刀啊呃，作为每个小时的算力那我就在这里创建创建也是虚实，呃，去创建啊。呃，它会创建成功之后就会告诉你哦，这个东西是怎么样子的，嗯。大家可以看得到哈哦你的算力也不需要去投入啊。而且呢，你可以去呃，做很多的一些\n",
       "<mark class=\"entity\" style=\"background: #ddd; padding: 0.45em 0.6em; margin: 0 0.25em; line-height: 1; border-radius: 0.35em;\">\n",
       "    机器学习\n",
       "    <span style=\"font-size: 0.8em; font-weight: bold; line-height: 1; border-radius: 0.35em; text-transform: uppercase; vertical-align: middle; margin-left: 0.5rem\">MachineLearning</span>\n",
       "</mark>\n",
       "相关的工作。另外呢，在这里面我想介绍给大家一个非常好玩的东西，就是他的比赛呢，我们在等待计算嗯的这个算力呃，创启动起来的时候呢，你就可以去看一下这个比赛了，这个比赛呢是什么东西呢？大家知道在Windows上面，嗯，我们可以。很简单的去拖拽一些控件去完成一些Windows的界面啊。在这里面的话呢，你可以通过啊相关的，呃，一个，呃，拖拽呃去完成\n",
       "<mark class=\"entity\" style=\"background: #ddd; padding: 0.45em 0.6em; margin: 0 0.25em; line-height: 1; border-radius: 0.35em;\">\n",
       "    机器学习\n",
       "    <span style=\"font-size: 0.8em; font-weight: bold; line-height: 1; border-radius: 0.35em; text-transform: uppercase; vertical-align: middle; margin-left: 0.5rem\">MachineLearning</span>\n",
       "</mark>\n",
       "里面相关的一些知识的一些创建，像我在这里的话，大家可以看到我，我选择了一个图像识别的操作之后呢，呃，如果你选择这个比赛呢，你可以看到它从图图像集啊到图像的一些转变到图像图片的一些分类。\n",
       "<mark class=\"entity\" style=\"background: #ddd; padding: 0.45em 0.6em; margin: 0 0.25em; line-height: 1; border-radius: 0.35em;\">\n",
       "    爱到训练，\n",
       "    <span style=\"font-size: 0.8em; font-weight: bold; line-height: 1; border-radius: 0.35em; text-transform: uppercase; vertical-align: middle; margin-left: 0.5rem\">MachineLearning</span>\n",
       "</mark>\n",
       "都是通过拖拽去完成的。这样子的话呢，他就让\n",
       "<mark class=\"entity\" style=\"background: #ddd; padding: 0.45em 0.6em; margin: 0 0.25em; line-height: 1; border-radius: 0.35em;\">\n",
       "    机器学习\n",
       "    <span style=\"font-size: 0.8em; font-weight: bold; line-height: 1; border-radius: 0.35em; text-transform: uppercase; vertical-align: middle; margin-left: 0.5rem\">MachineLearning</span>\n",
       "</mark>\n",
       "更加的呃，自动化啊可视化啊。呃，所以呢？呃，通过\n",
       "<mark class=\"entity\" style=\"background: #ddd; padding: 0.45em 0.6em; margin: 0 0.25em; line-height: 1; border-radius: 0.35em;\">\n",
       "    Azure\n",
       "    <span style=\"font-size: 0.8em; font-weight: bold; line-height: 1; border-radius: 0.35em; text-transform: uppercase; vertical-align: middle; margin-left: 0.5rem\">MicrosoftAzure</span>\n",
       "</mark>\n",
       "的\n",
       "<mark class=\"entity\" style=\"background: #ddd; padding: 0.45em 0.6em; margin: 0 0.25em; line-height: 1; border-radius: 0.35em;\">\n",
       "    机器学习\n",
       "    <span style=\"font-size: 0.8em; font-weight: bold; line-height: 1; border-radius: 0.35em; text-transform: uppercase; vertical-align: middle; margin-left: 0.5rem\">MachineLearning</span>\n",
       "</mark>\n",
       "服务了你可以，呃，通过设计器去完成你的\n",
       "<mark class=\"entity\" style=\"background: #ddd; padding: 0.45em 0.6em; margin: 0 0.25em; line-height: 1; border-radius: 0.35em;\">\n",
       "    机器学习\n",
       "    <span style=\"font-size: 0.8em; font-weight: bold; line-height: 1; border-radius: 0.35em; text-transform: uppercase; vertical-align: middle; margin-left: 0.5rem\">MachineLearning</span>\n",
       "</mark>\n",
       "的步骤。另外的也还可以用业界最受欢迎的auto ml去完成相关的任务，也是非常方便可用的。然后我们回到我们的logo去看一下他是不是已经创建完了。好，当我们的算力创建完之后啊，大家可以看得到他会去提醒你哦，这个算力已经创建成功了然后在这个时候呢？呃，大家会担心的是，哎呀我这个算力究竟是用三者环境举个例子，你可以用的是Python 3.6的环境，当然也可以用3.8啊，还有另外的它也支持R的这种算力的一个支持。所以呢，在这里面呢是非常方便的啊，而且你可以通过呃logo的去线上的这个logo呢去添加代码。然后运行。所以呢，通过\n",
       "<mark class=\"entity\" style=\"background: #ddd; padding: 0.45em 0.6em; margin: 0 0.25em; line-height: 1; border-radius: 0.35em;\">\n",
       "    Azure\n",
       "    <span style=\"font-size: 0.8em; font-weight: bold; line-height: 1; border-radius: 0.35em; text-transform: uppercase; vertical-align: middle; margin-left: 0.5rem\">MicrosoftAzure</span>\n",
       "</mark>\n",
       " machine Learning的服务呢？呃，可以让你的\n",
       "<mark class=\"entity\" style=\"background: #ddd; padding: 0.45em 0.6em; margin: 0 0.25em; line-height: 1; border-radius: 0.35em;\">\n",
       "    机器学习\n",
       "    <span style=\"font-size: 0.8em; font-weight: bold; line-height: 1; border-radius: 0.35em; text-transform: uppercase; vertical-align: middle; margin-left: 0.5rem\">MachineLearning</span>\n",
       "</mark>\n",
       "了的呃，学习或者实验的环境呢，得到一个提升。而且是在，呃，不用付费的前提下去完成这个事啊。希望各位同学了啊，马上去尝试一下啊。呃，通过\n",
       "<mark class=\"entity\" style=\"background: #ddd; padding: 0.45em 0.6em; margin: 0 0.25em; line-height: 1; border-radius: 0.35em;\">\n",
       "    Azure\n",
       "    <span style=\"font-size: 0.8em; font-weight: bold; line-height: 1; border-radius: 0.35em; text-transform: uppercase; vertical-align: middle; margin-left: 0.5rem\">MicrosoftAzure</span>\n",
       "</mark>\n",
       "的\n",
       "<mark class=\"entity\" style=\"background: #ddd; padding: 0.45em 0.6em; margin: 0 0.25em; line-height: 1; border-radius: 0.35em;\">\n",
       "    机器学习\n",
       "    <span style=\"font-size: 0.8em; font-weight: bold; line-height: 1; border-radius: 0.35em; text-transform: uppercase; vertical-align: middle; margin-left: 0.5rem\">MachineLearning</span>\n",
       "</mark>\n",
       "服务去完成你的，呃，AI的学习啊，也可以作为学习的环境啊，谢谢大家。</div></span>"
      ],
      "text/plain": [
       "<IPython.core.display.HTML object>"
      ]
     },
     "metadata": {}
    }
   ],
   "metadata": {}
  },
  {
   "cell_type": "code",
   "execution_count": 12,
   "source": [
    "    nlp.to_disk('./ner_model/')"
   ],
   "outputs": [],
   "metadata": {}
  }
 ],
 "metadata": {
  "orig_nbformat": 4,
  "language_info": {
   "name": "python",
   "version": "3.8.8",
   "mimetype": "text/x-python",
   "codemirror_mode": {
    "name": "ipython",
    "version": 3
   },
   "pygments_lexer": "ipython3",
   "nbconvert_exporter": "python",
   "file_extension": ".py"
  },
  "kernelspec": {
   "name": "python3",
   "display_name": "Python 3.8.8 64-bit"
  },
  "interpreter": {
   "hash": "cd6c2d5b6def59a78dd4f60b7bebd73224da0fafd12459c3daf7ca8dc9395e3f"
  }
 },
 "nbformat": 4,
 "nbformat_minor": 2
}