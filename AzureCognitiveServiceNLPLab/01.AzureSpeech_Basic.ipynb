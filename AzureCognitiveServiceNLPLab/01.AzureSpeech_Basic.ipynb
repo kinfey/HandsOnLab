{
 "cells": [
  {
   "cell_type": "markdown",
   "source": [
    "# **Azure 语音服务**\r\n",
    "\r\n",
    "**将音频转换为文本，使用统一语音服务执行语音翻译和文本转语音的操作**\r\n",
    "\r\n",
    "语音转文本服务默认使用通用语言模型。 此模型已使用 Microsoft 自有的数据训练，部署在云中。 它非常适合用于对话和听写方案。 使用语音转文本在独特的环境中进行识别和听录时，可以创建并训练自定义的声学、语言和发音模型。 自定义有助于解决环境干扰或特定于行业的词汇的问题。在使用前请先安装SDK\r\n",
    "\r\n",
    "<a href=\"https://azure.microsoft.com/zh-cn/services/cognitive-services/speech-to-text/\">https://azure.microsoft.com/zh-cn/services/cognitive-services/speech-to-text/</a>\r\n",
    "\r\n",
    "\r\n",
    "<img src=\"./img/001.png\"/>\r\n",
    "\r\n",
    "```bash\r\n",
    "pip3 install azure.cognitiveservices.speech\r\n",
    "```\r\n",
    "\r\n",
    "通过Azure Portal 创建语音服务\r\n",
    "\r\n",
    "<img src=\"./img/0011.png\"/>"
   ],
   "metadata": {}
  },
  {
   "cell_type": "code",
   "execution_count": 1,
   "source": [
    "import azure.cognitiveservices.speech as speechsdk"
   ],
   "outputs": [],
   "metadata": {}
  },
  {
   "cell_type": "code",
   "execution_count": 2,
   "source": [
    "speech_config = speechsdk.SpeechConfig(subscription=\"\", region=\"eastasia\")"
   ],
   "outputs": [],
   "metadata": {}
  },
  {
   "cell_type": "code",
   "execution_count": 3,
   "source": [
    "audio_input = speechsdk.AudioConfig(filename=\"./wav/demo01.wav\") "
   ],
   "outputs": [],
   "metadata": {}
  },
  {
   "cell_type": "code",
   "execution_count": 4,
   "source": [
    "speech_recognizer = speechsdk.SpeechRecognizer(speech_config=speech_config,  language=\"zh-CN\", audio_config=audio_input) "
   ],
   "outputs": [],
   "metadata": {}
  },
  {
   "cell_type": "code",
   "execution_count": 5,
   "source": [
    "speech = speech_recognizer.recognize_once_async().get()"
   ],
   "outputs": [],
   "metadata": {}
  },
  {
   "cell_type": "code",
   "execution_count": 6,
   "source": [
    "if speech.reason == speechsdk.ResultReason.RecognizedSpeech:\r\n",
    "    command = speech.text\r\n",
    "    print(command)\r\n",
    "else:\r\n",
    "    print(speech.reason)\r\n",
    "    if speech.reason == speechsdk.ResultReason.Canceled:\r\n",
    "        cancellation = speech.cancellation_details\r\n",
    "        print(cancellation.reason)\r\n",
    "        print(cancellation.error_details)"
   ],
   "outputs": [
    {
     "output_type": "stream",
     "name": "stdout",
     "text": [
      "欢迎来到上海。\n"
     ]
    }
   ],
   "metadata": {}
  }
 ],
 "metadata": {
  "kernelspec": {
   "name": "python3",
   "display_name": "Python 3.8.8 64-bit"
  },
  "language_info": {
   "codemirror_mode": {
    "name": "ipython",
    "version": 3
   },
   "file_extension": ".py",
   "mimetype": "text/x-python",
   "name": "python",
   "nbconvert_exporter": "python",
   "pygments_lexer": "ipython3",
   "version": "3.8.8"
  },
  "interpreter": {
   "hash": "cd6c2d5b6def59a78dd4f60b7bebd73224da0fafd12459c3daf7ca8dc9395e3f"
  }
 },
 "nbformat": 4,
 "nbformat_minor": 5
}