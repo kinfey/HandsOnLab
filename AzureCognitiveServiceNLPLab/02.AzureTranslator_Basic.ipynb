{
 "cells": [
  {
   "cell_type": "markdown",
   "source": [
    "# **Azure 文本翻译**\r\n",
    "\r\n",
    "**Microsoft 翻译工具是一项基于云的机器翻译服务，支持多种语言，其支持的语言覆盖全球国内生产总值 (GDP) 95% 以上的区域。使用 Translator 可构建应用程序、网站、工具或任何需要多语言支持的解决方案。**\r\n",
    "\r\n",
    "<a href=\"https://azure.microsoft.com/zh-cn/services/cognitive-services/translator\">https://azure.microsoft.com/zh-cn/services/cognitive-services/translator/</a>\r\n",
    "\r\n",
    "<img src=\"./img/002.png\"/>\r\n",
    "\r\n",
    "通过Azure Portal 创建\r\n",
    "\r\n",
    "<img src=\"./img/0021.png\"/>"
   ],
   "metadata": {}
  },
  {
   "cell_type": "code",
   "execution_count": 1,
   "source": [
    "import requests, uuid, json"
   ],
   "outputs": [],
   "metadata": {}
  },
  {
   "cell_type": "code",
   "execution_count": 2,
   "source": [
    "subscription_key = \"\"\r\n",
    "endpoint = \"https://api.cognitive.microsofttranslator.com\"\r\n",
    "location = \"eastasia\""
   ],
   "outputs": [],
   "metadata": {}
  },
  {
   "cell_type": "code",
   "execution_count": 3,
   "source": [
    "path = '/translate'\r\n",
    "constructed_url = endpoint + path"
   ],
   "outputs": [],
   "metadata": {}
  },
  {
   "cell_type": "code",
   "execution_count": 4,
   "source": [
    "params = {\r\n",
    "    'api-version': '3.0',\r\n",
    "    'from': 'zh-cn',\r\n",
    "    'to': 'en'\r\n",
    "}"
   ],
   "outputs": [],
   "metadata": {}
  },
  {
   "cell_type": "code",
   "execution_count": 5,
   "source": [
    "constructed_url = endpoint + path"
   ],
   "outputs": [],
   "metadata": {}
  },
  {
   "cell_type": "code",
   "execution_count": 6,
   "source": [
    "headers = {\r\n",
    "    'Ocp-Apim-Subscription-Key': subscription_key,\r\n",
    "    'Ocp-Apim-Subscription-Region': location,\r\n",
    "    'Content-type': 'application/json',\r\n",
    "    'X-ClientTraceId': str(uuid.uuid4())\r\n",
    "}"
   ],
   "outputs": [],
   "metadata": {}
  },
  {
   "cell_type": "code",
   "execution_count": 7,
   "source": [
    "body = [{\r\n",
    "    'text': '哦哦今天我想给各位同学来介绍一下Azure机器学习的一个部分。那如果大家呢，呃，有看上面的小视频呢？大家会知道，Azure上面呢，有非常呃，强大的一些机器学习的一些功能啊啊。我们，呃，之前呢就介绍过一个零代码的方式去做。呃，一个计算机视觉的任务，那接下来呢？我想给大家更专业的部分，大家知道我们做机器学习的时候呢，会遇到一个状况，就是，呃，我们可能没有GPU。'\r\n",
    "}]"
   ],
   "outputs": [],
   "metadata": {}
  },
  {
   "cell_type": "code",
   "execution_count": 8,
   "source": [
    "request = requests.post(constructed_url, params=params, headers=headers, json=body)\r\n",
    "response = request.json()\r\n",
    "print(response)\r\n",
    "print(json.dumps(response, sort_keys=True, ensure_ascii=False, indent=4, separators=(',', ': ')))"
   ],
   "outputs": [
    {
     "output_type": "stream",
     "name": "stdout",
     "text": [
      "[{'translations': [{'text': \"Oh, oh, today I want to introduce you to a part of Azure machine learning. What if everybody, uh, has a little video on it? As you'll know, azure above, there are some very, very powerful machine learning features ah. We, uh, have previously introduced a zero-code approach to doing it. Well, a computer vision task, so what's next? I want to give you a more professional part, you know when we do machine learning, there will be a situation, that is, er, we may not have a GPU.\", 'to': 'en'}]}]\n",
      "[\n",
      "    {\n",
      "        \"translations\": [\n",
      "            {\n",
      "                \"text\": \"Oh, oh, today I want to introduce you to a part of Azure machine learning. What if everybody, uh, has a little video on it? As you'll know, azure above, there are some very, very powerful machine learning features ah. We, uh, have previously introduced a zero-code approach to doing it. Well, a computer vision task, so what's next? I want to give you a more professional part, you know when we do machine learning, there will be a situation, that is, er, we may not have a GPU.\",\n",
      "                \"to\": \"en\"\n",
      "            }\n",
      "        ]\n",
      "    }\n",
      "]\n"
     ]
    }
   ],
   "metadata": {}
  }
 ],
 "metadata": {
  "orig_nbformat": 4,
  "language_info": {
   "name": "python",
   "version": "3.8.8",
   "mimetype": "text/x-python",
   "codemirror_mode": {
    "name": "ipython",
    "version": 3
   },
   "pygments_lexer": "ipython3",
   "nbconvert_exporter": "python",
   "file_extension": ".py"
  },
  "kernelspec": {
   "name": "python3",
   "display_name": "Python 3.8.8 64-bit"
  },
  "interpreter": {
   "hash": "cd6c2d5b6def59a78dd4f60b7bebd73224da0fafd12459c3daf7ca8dc9395e3f"
  }
 },
 "nbformat": 4,
 "nbformat_minor": 2
}