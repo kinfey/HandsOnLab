{
 "cells": [
  {
   "cell_type": "markdown",
   "source": [
    "<h1><b>关于CustomVision</b></h1>\r\n",
    "\r\n",
    "### **微软的认知服务接口，让你可以在零机器学习的知识下，用不同编程语言完成相关的机器学习工作**\r\n",
    "\r\n",
    "### **CustomVision就更进一步，让你在没有编程技术下，完成图像识别和物体识别的工作，他是一个零代码解决方案，你只需要一堆图片集就可以完成goon工作了，对比起认知服务，你还可以直接导出训练模型，直接部署到不同的场景上**\r\n",
    "\r\n",
    "<b>输入以下地址可以进入customvision <a href=\"https://www.customvision.ai/\">https://www.customvision.ai/</a><font style=\"color:Red\">(使用Custom Vision你需要有Azure账户，如果没有可以参考本次动手实验OCR部分开通)</font></b>\r\n",
    "\r\n",
    "<img src=\"./img/001.png\"/>"
   ],
   "metadata": {}
  },
  {
   "cell_type": "markdown",
   "source": [
    "## **通过低代码方式完成的相关步骤**\r\n",
    "\r\n",
    "### **1. Azure Portal 通过添加资源组，从AI+Machine Learning 创建 Custom Vision**\r\n",
    "\r\n",
    "<img src=\"./img/002.png\"/><br/><br/>\r\n",
    "<img src=\"./img/003.png\"/>"
   ],
   "metadata": {}
  },
  {
   "cell_type": "markdown",
   "source": [
    "### **2. 打开Custom Vision网站，登录进入Custom Vision 门户** ### \r\n",
    "<img src=\"./img/004.png\"/>"
   ],
   "metadata": {}
  },
  {
   "cell_type": "markdown",
   "source": [
    "### **3. 点击New Project创建你的计算机视觉项目** ###\r\n",
    "\r\n",
    "<img src=\"./img/005.png\"/>"
   ],
   "metadata": {}
  },
  {
   "cell_type": "markdown",
   "source": [
    "### **Custom Vision支持图像分类和实体识别，你可以根据自己的需要选择，这里选择图像分类(Classification)** ###\r\n",
    "\r\n",
    "### **选择识别多类型单标签(Single tag per image)** ###\r\n",
    "\r\n",
    "### **建议选择General(compact),这个选项支持多种模型类型的导出，如TensorFlow, ONNX, CoreML等，适应部署到不同终端** ###\r\n",
    "\r\n"
   ],
   "metadata": {}
  },
  {
   "cell_type": "markdown",
   "source": [
    "### **4.创建好后进入项目，并添加你需要分类的tag,这里针对bb8,c3po,r2d2三个标签(你可以通过项目的image标签上传对应图片),并针对标签上传基础图片数据** ####\r\n",
    "\r\n",
    "<img src=\"./img/006.png\"/><br/><br/>\r\n",
    "<img src=\"./img/007.png\"/><br/><br/>\r\n"
   ],
   "metadata": {}
  },
  {
   "cell_type": "markdown",
   "source": [
    "### **5.上传好后，就可以按Train按钮进行训练即可,选择Quick Training** ###\r\n",
    "\r\n",
    "<img src=\"./img/008.png\"/><br/><br/>\r\n",
    "<img src=\"./img/009.png\"/><br/><br/>"
   ],
   "metadata": {}
  },
  {
   "cell_type": "markdown",
   "source": [
    "###  **7. 稍等片刻，你就可以完成相关的训练** ####\r\n",
    "\r\n",
    "<img src=\"./img/010.png\">"
   ],
   "metadata": {}
  },
  {
   "cell_type": "markdown",
   "source": [
    "### **8.你可以通过Export方式导出你所需要的离线模型** ###\r\n",
    "\r\n",
    "<img src=\"./img/011.png\"/>"
   ],
   "metadata": {}
  },
  {
   "cell_type": "markdown",
   "source": [
    "### **9. 你可以通过Quick Test完成测试** ###\r\n",
    "\r\n",
    "<img src=\"./img/012.png\"/>"
   ],
   "metadata": {}
  },
  {
   "cell_type": "markdown",
   "source": [
    "<h1 style=\"color:Red\">你现在一行代码都没有写过，哈哈做计算机视觉也不是很难</h1>"
   ],
   "metadata": {}
  }
 ],
 "metadata": {
  "orig_nbformat": 4,
  "language_info": {
   "name": "python"
  }
 },
 "nbformat": 4,
 "nbformat_minor": 2
}