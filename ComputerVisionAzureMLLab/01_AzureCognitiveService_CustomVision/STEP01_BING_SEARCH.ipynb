{
 "cells": [
  {
   "cell_type": "code",
   "execution_count": null,
   "source": [
    "from requests import exceptions\r\n",
    "import requests\r\n",
    "import cv2\r\n",
    "import os\r\n",
    "import gevent"
   ],
   "outputs": [],
   "metadata": {}
  },
  {
   "cell_type": "code",
   "execution_count": null,
   "source": [
    "searchengine = 'c3po'\r\n",
    "output = 'download/c3po1'"
   ],
   "outputs": [],
   "metadata": {}
  },
  {
   "cell_type": "code",
   "execution_count": null,
   "source": [
    "API_KEY = \"Input your key\"\r\n",
    "MAX_RESULTS = 50\r\n",
    "GROUP_SIZE = 250"
   ],
   "outputs": [],
   "metadata": {}
  },
  {
   "cell_type": "code",
   "execution_count": null,
   "source": [
    "URL = \"https://api.bing.microsoft.com/v7.0/images/search\"\r\n",
    "       \r\n",
    "\r\n",
    "\r\n",
    "EXCEPTIONS = {IOError, FileNotFoundError, exceptions.RequestException, exceptions.HTTPError, exceptions.ConnectionError,\r\n",
    "              exceptions.Timeout}"
   ],
   "outputs": [],
   "metadata": {}
  },
  {
   "cell_type": "code",
   "execution_count": null,
   "source": [
    "term = searchengine\r\n",
    "headers = {\"Ocp-Apim-Subscription-Key\": API_KEY}\r\n",
    "params = {\"q\": term, \"offset\": 0, \"count\": GROUP_SIZE}"
   ],
   "outputs": [],
   "metadata": {}
  },
  {
   "cell_type": "code",
   "execution_count": null,
   "source": [
    "print(\"[INFO] searching Bing API for '{}'\".format(term))\r\n",
    "search = requests.get(URL, headers=headers, params=params)\r\n",
    "search.raise_for_status()"
   ],
   "outputs": [],
   "metadata": {}
  },
  {
   "cell_type": "code",
   "execution_count": null,
   "source": [
    "total = 0\r\n",
    "results = search.json()\r\n",
    "estNumResults = min(results[\"totalEstimatedMatches\"], MAX_RESULTS)\r\n",
    "print(\"[INFO] {} total results for '{}'\".format(estNumResults, term))"
   ],
   "outputs": [],
   "metadata": {}
  },
  {
   "cell_type": "code",
   "execution_count": null,
   "source": [
    "def grab_page(url, ext, total):\r\n",
    "\r\n",
    "    try:\r\n",
    "        print(\"[INFO] fetching: {}\".format(url))\r\n",
    "        r = requests.get(url, timeout=30)\r\n",
    "        p = os.path.sep.join([output, \"{}{}\".format(\r\n",
    "            str(total).zfill(8), ext)])\r\n",
    "\r\n",
    "        f = open(p, \"wb\")\r\n",
    "        f.write(r.content)\r\n",
    "        f.close()\r\n",
    "\r\n",
    "        image = cv2.imread(p)\r\n",
    "\r\n",
    "        if image is None:\r\n",
    "            print(\"[INFO] deleting: {}\".format(p))\r\n",
    "            os.remove(p)\r\n",
    "            return\r\n",
    "\r\n",
    "    except Exception as e:\r\n",
    "        if type(e) in EXCEPTIONS:\r\n",
    "            print(\"[INFO] skipping: {}\".format(url))\r\n",
    "            return"
   ],
   "outputs": [],
   "metadata": {}
  },
  {
   "cell_type": "code",
   "execution_count": null,
   "source": [
    "for offset in range(0, estNumResults, GROUP_SIZE):\r\n",
    "    print(\"[INFO] making request for group {}-{} of {}...\".format(\r\n",
    "        offset, offset + GROUP_SIZE, estNumResults))\r\n",
    "    params[\"offset\"] = offset\r\n",
    "    search = requests.get(URL, headers=headers, params=params)\r\n",
    "    search.raise_for_status()\r\n",
    "    results = search.json()\r\n",
    "    print(\"[INFO] saving images for group {}-{} of {}...\".format(\r\n",
    "        offset, offset + GROUP_SIZE, estNumResults))\r\n",
    "    jobs = []\r\n",
    "    for v in results[\"value\"]:\r\n",
    "        total += 1\r\n",
    "        ext = v[\"contentUrl\"][v[\"contentUrl\"].rfind(\".\"):]\r\n",
    "        url = v[\"contentUrl\"]\r\n",
    "        \r\n",
    "        jobs.append(gevent.spawn(grab_page, url, ext, total))\r\n",
    "\r\n",
    "    gevent.joinall(jobs, timeout=10)\r\n",
    "    print(total)"
   ],
   "outputs": [],
   "metadata": {}
  }
 ],
 "metadata": {
  "orig_nbformat": 4,
  "language_info": {
   "name": "python",
   "version": "3.8.8",
   "mimetype": "text/x-python",
   "codemirror_mode": {
    "name": "ipython",
    "version": 3
   },
   "pygments_lexer": "ipython3",
   "nbconvert_exporter": "python",
   "file_extension": ".py"
  },
  "kernelspec": {
   "name": "python3",
   "display_name": "Python 3.8.8 64-bit"
  },
  "interpreter": {
   "hash": "cd6c2d5b6def59a78dd4f60b7bebd73224da0fafd12459c3daf7ca8dc9395e3f"
  }
 },
 "nbformat": 4,
 "nbformat_minor": 2
}