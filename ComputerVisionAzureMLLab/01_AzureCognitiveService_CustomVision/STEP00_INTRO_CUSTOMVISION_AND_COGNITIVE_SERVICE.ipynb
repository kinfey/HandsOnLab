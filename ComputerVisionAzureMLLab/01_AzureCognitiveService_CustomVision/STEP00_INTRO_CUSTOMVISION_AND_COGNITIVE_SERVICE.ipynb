{
 "cells": [
  {
   "cell_type": "markdown",
   "source": [
    "# **关于认知服务案例** #\r\n",
    "\r\n",
    "**通过学习STEP0_INTRO_CUSTOMVISION 你了解到自定义计算机视觉的低代码方式完成相关的计算机视觉工作 ，结合本次课程我们学习到认知服务打通机器学习的最后一公里**\r\n",
    "\r\n",
    "**接下来的STEP01-03就是一个完整案例**\r\n",
    "\r\n",
    "**从数据采集到数据整理再到训练，一个完整的流程，希望大家有进一步的了解**"
   ],
   "metadata": {}
  },
  {
   "cell_type": "markdown",
   "source": [
    "## **Image Search API v7** ##\r\n",
    "\r\n",
    "**Bing搜索 API 为您的应用程序添加智能搜索，将数千亿个网页、图像、视频和新闻组合在一起，提供无广告的相关结果。结果可以根据用户的位置或市场自动定制，通过保持本地化来增加相关性。它包括5个功能：**\r\n",
    "\r\n",
    "**Bing 图像搜索** - 搜索图像并获得全面的结果。帮助用户在网络上搜索图像。结果包括缩略图、完整图像 URL、发布网站信息、图像元数据等。\r\n",
    "\r\n",
    "**Bing 新闻搜索** - 搜索新闻并获得全面的结果。在网络上搜索新闻文章。结果包括新闻文章的权威图像、相关新闻和类别、提供商信息、文章 URL 和添加日期等详细信息。\r\n",
    "\r\n",
    "**Bing 视频搜索** - 搜索视频并获得全面的结果。在网络上查找视频。结果提供有用的元数据，包括创建者、编码格式、视频长度、观看次数等。\r\n",
    "\r\n",
    "**Bing Visual Search** - Bing Visual Search 可在一次调用中提供 Bing 的所有智能图像理解功能，使开发人员能够在他们选择的设备上构建引人注目的图像应用程序。解释视觉内容以查找相关产品或图像、阅读名片、识别条形码、查找图像来源或识别流行艺术品、纪念碑、名人和常见物体。\r\n",
    "\r\n",
    "**Bing Web Search** - 从数十亿个 Web 文档中获取增强的搜索详细信息。检索由 Bing 索引的 Web 文档，并按结果类型、新鲜度等缩小结果范围。"
   ],
   "metadata": {}
  },
  {
   "cell_type": "markdown",
   "source": [
    "通过Azure Portal 创建Bing Search V7服务，为图像识别查找相关图片\r\n",
    "\r\n",
    "<img src='./img/013.png'/>"
   ],
   "metadata": {}
  },
  {
   "cell_type": "markdown",
   "source": [
    "下载后的图片，存放在download 对应的文件夹下，需要调整好大小，和相关的数据清晰，大家可以看STEP2_RESIZE_IMAGE"
   ],
   "metadata": {}
  },
  {
   "cell_type": "markdown",
   "source": [
    "## **通过Python代码控制CustomVision** ##\r\n",
    "\r\n",
    "这里需要绑定相关的endpoint,key ,resourceID去调用CustomVIsion\r\n",
    "\r\n",
    "<img src='./img/014.png'>\r\n",
    "\r\n",
    "<h2>具体请参考STEP03_CUSTOMVISION</h2>"
   ],
   "metadata": {}
  }
 ],
 "metadata": {
  "orig_nbformat": 4,
  "language_info": {
   "name": "python"
  }
 },
 "nbformat": 4,
 "nbformat_minor": 2
}