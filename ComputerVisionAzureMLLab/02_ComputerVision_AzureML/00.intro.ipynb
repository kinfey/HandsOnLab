{
 "cells": [
  {
   "cell_type": "markdown",
   "source": [
    "# **Azure Machine Learning 服务** #\r\n",
    "\r\n",
    "**看看我们传统的AI开发**\r\n",
    "\r\n",
    "<img src=\"./img/001.png\"/>\r\n",
    "\r\n",
    "**机器学习，从数据开始，经历数据整理，模型训练，分发，模型部署等不断迭代的过程，Azure Machine Learning 服务就是为整个机器学习的开发周期而生，通过Azure Machine Learning Service 为你提供非常舒适的机器学习开发环境**\r\n",
    "\r\n",
    "<img src=\"./img/002.png\"/>"
   ],
   "metadata": {}
  },
  {
   "cell_type": "markdown",
   "source": [
    "通过<a href=\"https://ml.azure.com/\">https://ml.azure.com/</a>你可以进入Azure Machine Learning Portal \r\n",
    "\r\n",
    "<img src=\"./img/003.png\"/>"
   ],
   "metadata": {}
  },
  {
   "cell_type": "markdown",
   "source": [
    "如果你要创建一个Azure Machine Learning 服务，需要在你的Azure Portal 上创建一个Machine Learning 服务，然后才能在ml.azure.com上开始使用Azure Machine Learning 服务\r\n",
    "\r\n",
    "<img src=\"./img/004.png\"/>"
   ],
   "metadata": {}
  },
  {
   "cell_type": "markdown",
   "source": [
    "Azure Machine Learning 提供了Notebook， 自动化学习，和设计器，让数据科学家能通过云端完成相关的代码调用，也可以让团队简单地通过设计器拖拽的方式完成机器学习的流程设计并自动化生成代码，更厉害是配合了业界很受欢迎的AutoML业务"
   ],
   "metadata": {}
  },
  {
   "cell_type": "markdown",
   "source": [
    "### **Notebook** ###\r\n",
    "\r\n",
    "<img src=\"./img/005.png\"/>"
   ],
   "metadata": {}
  },
  {
   "cell_type": "markdown",
   "source": [
    "### **AutoML** ###\r\n",
    "\r\n",
    "<img src=\"./img/008.png\"/><br/><br/>\r\n",
    "\r\n",
    "\r\n",
    "<img src=\"./img/006.png\"/>"
   ],
   "metadata": {}
  },
  {
   "cell_type": "markdown",
   "source": [
    "### **机器学习设计器**  ###\r\n",
    "\r\n",
    "让你像做Windows应用一样通过拖拽方式完成机器学习的工作，并为你自动生成代码\r\n",
    "\r\n",
    "<img src=\"./img/007.png\" />"
   ],
   "metadata": {}
  },
  {
   "cell_type": "markdown",
   "source": [
    "## **Azure Machine Learning 服务** ##\r\n",
    "\r\n",
    "<img src=\"./img/009.png\" />"
   ],
   "metadata": {}
  },
  {
   "cell_type": "markdown",
   "source": [
    "ComputerVision_Notebook为你展示了通过Azure Machine Learning 完成机器学习的完整流程如果你有兴趣，可以看看，如果你是本地运行，别忘记去Azure Portal 下载config.json到工作文件夹"
   ],
   "metadata": {}
  }
 ],
 "metadata": {
  "orig_nbformat": 4,
  "language_info": {
   "name": "python"
  }
 },
 "nbformat": 4,
 "nbformat_minor": 2
}