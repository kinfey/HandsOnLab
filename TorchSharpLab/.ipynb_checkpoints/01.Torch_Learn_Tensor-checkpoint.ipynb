{
 "cells": [
  {
   "cell_type": "markdown",
   "metadata": {},
   "source": [
    "# **二. 张量**"
   ]
  },
  {
   "cell_type": "code",
   "execution_count": null,
   "metadata": {
    "dotnet_interactive": {
     "language": "csharp"
    },
    "vscode": {
     "languageId": "dotnet-interactive.csharp"
    }
   },
   "outputs": [
    {
     "data": {
      "text/html": [
       "<div><div></div><div></div><div><strong>Installed Packages</strong><ul><li><span>TorchSharp, 0.96.7</span></li></ul></div></div>"
      ]
     },
     "metadata": {},
     "output_type": "display_data"
    }
   ],
   "source": [
    "#r \"nuget: TorchSharp\""
   ]
  },
  {
   "cell_type": "markdown",
   "metadata": {},
   "source": [
    "# **Tensors**\n",
    "\n",
    "在 TorchSharp 中，与所有深度学习一样，基本数据类型是“张量”，它只是一个广义矩阵。 在线性代数中，一维数组称为“向量”，而二维数组称为“矩阵”。 概括地说，张量只是一个 N 维数组。\n",
    "\n",
    "请注意这里过度使用了“维度”这个词——在物理学中，一个具有三个元素的向量（一维）用于表示空间中的一个点，每个空间维度一个元素。 当我们在这些教程中谈到“维度”时，我们感兴趣的是张量维度的数量。\n",
    "\n",
    "所以，让我们通过创建一些张量开始。"
   ]
  },
  {
   "cell_type": "markdown",
   "metadata": {},
   "source": [
    "### **常量填充张量**\n",
    "\n",
    "最简单的张量创建原语只是将张量的所有元素初始化为 0 或 1。 传入的参数是每个维度的大小。 将第一个维度视为表格的行，将第二个维度视为列，然后您只需在头脑中概括事物即可。 在下面的示例中，为简单起见，我们将主要创建 3x4 矩阵。\n",
    "\n",
    "需要注意的一点是，当您在笔记本单元格的末尾说“t”时，.NET Interactive 将显示对象及其字段等。 我们希望张量显示内容，并且有一个特殊版本的 ToString() 采用布尔值，不仅显示张量的大小和类型，还显示其内容。 位于笔记本顶部的特殊 .NET 交互式格式化程序（应该位于所有使用 TorchSharp 的笔记本的顶部）使用 TorString(true)。"
   ]
  },
  {
   "cell_type": "markdown",
   "metadata": {},
   "source": [
    "注意： NET Interactive 适配"
   ]
  },
  {
   "cell_type": "code",
   "execution_count": null,
   "metadata": {
    "dotnet_interactive": {
     "language": "csharp"
    },
    "vscode": {
     "languageId": "dotnet-interactive.csharp"
    }
   },
   "outputs": [],
   "source": [
    "using TorchSharp;\n",
    "using static TorchSharp.TensorExtensionMethods;\n",
    "using Microsoft.DotNet.Interactive.Formatting;\n",
    "\n",
    "var style = TensorStringStyle.Julia;\n",
    "\n",
    "Formatter.SetPreferredMimeTypesFor(typeof(torch.Tensor), \"text/plain\");\n",
    "Formatter.Register<torch.Tensor>((torch.Tensor x) => x.ToString(style, newLine: \"\\n\"));"
   ]
  },
  {
   "cell_type": "code",
   "execution_count": null,
   "metadata": {
    "dotnet_interactive": {
     "language": "csharp"
    },
    "vscode": {
     "languageId": "dotnet-interactive.csharp"
    }
   },
   "outputs": [
    {
     "data": {
      "text/plain": [
       "[3x4], type = Float32, device = cpu\n",
       " 1 1 1 1\n",
       " 1 1 1 1\n",
       " 1 1 1 1\n"
      ]
     },
     "metadata": {},
     "output_type": "display_data"
    }
   ],
   "source": [
    "var t = torch.ones(3,4);\n",
    "t"
   ]
  },
  {
   "cell_type": "markdown",
   "metadata": {},
   "source": [
    "如果您有两个以上的维度，则 ToString(t) 的特殊版本将尝试以对人类有意义的方式对其进行格式化："
   ]
  },
  {
   "cell_type": "code",
   "execution_count": null,
   "metadata": {
    "dotnet_interactive": {
     "language": "csharp"
    },
    "vscode": {
     "languageId": "dotnet-interactive.csharp"
    }
   },
   "outputs": [
    {
     "data": {
      "text/plain": [
       "[2x4x4], type = Float32, device = cpu\n",
       "[0,..,..] =\n",
       " 1 1 1 1\n",
       " 1 1 1 1\n",
       " 1 1 1 1\n",
       " 1 1 1 1\n",
       "\n",
       "[1,..,..] =\n",
       " 1 1 1 1\n",
       " 1 1 1 1\n",
       " 1 1 1 1\n",
       " 1 1 1 1\n"
      ]
     },
     "metadata": {},
     "output_type": "display_data"
    }
   ],
   "source": [
    "torch.ones(2,4,4)"
   ]
  },
  {
   "cell_type": "markdown",
   "metadata": {},
   "source": [
    "如果您打算用其他地方的值填充张量，换句话说，因为您预先分配了它，那么有一个“空”工厂，它比使用其他任何东西都快。 这些值就是创建张量时在内存中找到的任何值。"
   ]
  },
  {
   "cell_type": "code",
   "execution_count": null,
   "metadata": {
    "dotnet_interactive": {
     "language": "csharp"
    },
    "vscode": {
     "languageId": "dotnet-interactive.csharp"
    }
   },
   "outputs": [
    {
     "data": {
      "text/plain": [
       "[4x4], type = Float32, device = cpu\n",
       " 0 0 0 0\n",
       " 0 0 0 0\n",
       " 0 0 0 0\n",
       " 0 0 0 0\n"
      ]
     },
     "metadata": {},
     "output_type": "display_data"
    }
   ],
   "source": [
    "torch.empty(4,4)"
   ]
  },
  {
   "cell_type": "markdown",
   "metadata": {},
   "source": [
    "您还可以从您想要的任何值创建张量："
   ]
  },
  {
   "cell_type": "code",
   "execution_count": null,
   "metadata": {
    "dotnet_interactive": {
     "language": "csharp"
    },
    "vscode": {
     "languageId": "dotnet-interactive.csharp"
    }
   },
   "outputs": [
    {
     "data": {
      "text/plain": [
       "[4x4], type = Float32, device = cpu\n",
       " 3.14 3.14 3.14 3.14\n",
       " 3.14 3.14 3.14 3.14\n",
       " 3.14 3.14 3.14 3.14\n",
       " 3.14 3.14 3.14 3.14\n"
      ]
     },
     "metadata": {},
     "output_type": "display_data"
    }
   ],
   "source": [
    "torch.full(4,4,3.14f)"
   ]
  },
  {
   "cell_type": "markdown",
   "metadata": {},
   "source": [
    "有时，您希望在一个单元格中显示多个值。 为此，老式的打印："
   ]
  },
  {
   "cell_type": "code",
   "execution_count": null,
   "metadata": {
    "dotnet_interactive": {
     "language": "csharp"
    },
    "vscode": {
     "languageId": "dotnet-interactive.csharp"
    }
   },
   "outputs": [
    {
     "name": "stdout",
     "output_type": "stream",
     "text": [
      "[4x4], type = Float32, device = cpu\n",
      " 0 0 0 0\n",
      " 0 0 0 0\n",
      " 0 0 0 0\n",
      " 0 0 0 0\n",
      "\n",
      "[4x4], type = Float32, device = cpu\n",
      " 1 1 1 1\n",
      " 1 1 1 1\n",
      " 1 1 1 1\n",
      " 1 1 1 1\n"
     ]
    }
   ],
   "source": [
    "Console.WriteLine(torch.zeros(4,4).ToString(style, newLine: \"\\n\"));\n",
    "Console.Write(torch.ones(4,4).ToString(style, newLine: \"\\n\"));"
   ]
  },
  {
   "cell_type": "markdown",
   "metadata": {},
   "source": [
    "所有这些输入都会变得非常乏味，因此我们添加了一个扩展方法 print()，它可以更快地输入。"
   ]
  },
  {
   "cell_type": "code",
   "execution_count": null,
   "metadata": {
    "dotnet_interactive": {
     "language": "csharp"
    },
    "vscode": {
     "languageId": "dotnet-interactive.csharp"
    }
   },
   "outputs": [
    {
     "name": "stdout",
     "output_type": "stream",
     "text": [
      "[4x4], type = Float32, device = cpu\n",
      " 0 0 0 0\n",
      " 0 0 0 0\n",
      " 0 0 0 0\n",
      " 0 0 0 0\n",
      "\n",
      "[4x4], type = Float32, device = cpu\n",
      " 1 1 1 1\n",
      " 1 1 1 1\n",
      " 1 1 1 1\n",
      " 1 1 1 1\n",
      "\n"
     ]
    }
   ],
   "source": [
    "torch.zeros(4,4).print(style);\n",
    "torch.ones(4,4).print(style);"
   ]
  },
  {
   "cell_type": "markdown",
   "metadata": {},
   "source": [
    "您可能已经注意到每个张量都有一个“type = Float32”属性。 这是 TorchSharp 张量类型的一个特点——元素类型没有出现在类型中，Tensor 不是 Tensor\\<T>。 之所以如此，是因为底层 C++/CUDA 运行时以这种方式表示张量，并且它也使得从 Python 移植代码变得更加容易。\n",
    "\n",
    "您可能还注意到张量是使用工厂创建的，而不是构造函数。 此外，命名约定看起来一点也不像 .NET。 我们选择远离 .NET 约定，以便更轻松地从 Python 移植代码。 我们知道这会让一些人感到不安，也让一些人感到高兴，但这是我们经过长时间考虑后做出的决定。\n",
    "\n",
    "无论如何，'Float32' 是默认值，但您也可以创建其他类型的张量，包括复杂张量："
   ]
  },
  {
   "cell_type": "code",
   "execution_count": null,
   "metadata": {
    "dotnet_interactive": {
     "language": "csharp"
    },
    "vscode": {
     "languageId": "dotnet-interactive.csharp"
    }
   },
   "outputs": [
    {
     "data": {
      "text/plain": [
       "[4x15], type = Int32, device = cpu\n",
       " 0 0 0 0 0 0 0 0 0 0 0 0 0 0 0\n",
       " 0 0 0 0 0 0 0 0 0 0 0 0 0 0 0\n",
       " 0 0 0 0 0 0 0 0 0 0 0 0 0 0 0\n",
       " 0 0 0 0 0 0 0 0 0 0 0 0 0 0 0\n"
      ]
     },
     "metadata": {},
     "output_type": "display_data"
    }
   ],
   "source": [
    "torch.zeros(4,15, dtype: torch.int32)"
   ]
  },
  {
   "cell_type": "markdown",
   "metadata": {},
   "source": [
    "要访问张量的内容，请将其视为多维数组（请注意，维数也不是类型本身的一部分）。 当你这样做时，你会惊讶地发现索引运算符的结果是另一个张量，一个没有形状的张量——这就是 TorchSharp 表示标量值的方式。 在本教程的后面，我们将看到原因。 现在，只知道您必须使用函数提取值，基于您希望得到的类型。\n",
    "\n",
    "在 PyTorch 中，有一个方法 '.item()' 用于此目的。 在 TorchSharp 中，它是一种模板化方法："
   ]
  },
  {
   "cell_type": "code",
   "execution_count": null,
   "metadata": {
    "dotnet_interactive": {
     "language": "csharp"
    },
    "vscode": {
     "languageId": "dotnet-interactive.csharp"
    }
   },
   "outputs": [
    {
     "data": {
      "text/plain": [
       "[4x4], type = ComplexFloat32, device = cpu\n",
       " 0 0 0 0\n",
       " 0 0 0 0\n",
       " 0 0 0 0\n",
       " 0 0 0 0\n"
      ]
     },
     "metadata": {},
     "output_type": "display_data"
    }
   ],
   "source": [
    "t = torch.zeros(4,4, dtype: torch.complex64)"
   ]
  },
  {
   "cell_type": "code",
   "execution_count": null,
   "metadata": {
    "dotnet_interactive": {
     "language": "csharp"
    },
    "vscode": {
     "languageId": "dotnet-interactive.csharp"
    }
   },
   "outputs": [
    {
     "name": "stdout",
     "output_type": "stream",
     "text": [
      "[], type = Int32, device = cpu"
     ]
    },
    {
     "data": {
      "text/html": [
       "<div class=\"dni-plaintext\">0</div>"
      ]
     },
     "metadata": {},
     "output_type": "display_data"
    }
   ],
   "source": [
    "t = torch.zeros(4,4, dtype: torch.int32);\n",
    "Console.Write(t[0,0]);\n",
    "t[0,0].item<int>()"
   ]
  },
  {
   "cell_type": "code",
   "execution_count": null,
   "metadata": {
    "dotnet_interactive": {
     "language": "csharp"
    },
    "vscode": {
     "languageId": "dotnet-interactive.csharp"
    }
   },
   "outputs": [
    {
     "data": {
      "text/plain": [
       "[4x4], type = Int32, device = cpu\n",
       " 35 0 0 0\n",
       "  0 0 0 0\n",
       "  0 0 0 0\n",
       "  0 0 0 0\n"
      ]
     },
     "metadata": {},
     "output_type": "display_data"
    }
   ],
   "source": [
    "t[0,0] = torch.tensor(35);\n",
    "t"
   ]
  },
  {
   "cell_type": "code",
   "execution_count": null,
   "metadata": {
    "dotnet_interactive": {
     "language": "csharp"
    },
    "vscode": {
     "languageId": "dotnet-interactive.csharp"
    }
   },
   "outputs": [
    {
     "data": {
      "text/plain": [
       "[3x4], type = Float32, device = cpu\n",
       "   0.0466   1.5172 -0.74807  0.79056\n",
       " -0.48818  0.93328 -0.38119   0.8577\n",
       " -0.61721 -0.46137 -0.38967 -0.57855\n"
      ]
     },
     "metadata": {},
     "output_type": "display_data"
    }
   ],
   "source": [
    "torch.randn(3,4)"
   ]
  },
  {
   "cell_type": "code",
   "execution_count": null,
   "metadata": {
    "dotnet_interactive": {
     "language": "csharp"
    },
    "vscode": {
     "languageId": "dotnet-interactive.csharp"
    }
   },
   "outputs": [
    {
     "data": {
      "text/plain": [
       "[3x4], type = Float32, device = cpu\n",
       " 0.84476 0.59467 0.048663 0.88139\n",
       " 0.27395 0.39467  0.43786   0.917\n",
       " 0.40158 0.61339  0.46068 0.98693\n"
      ]
     },
     "metadata": {},
     "output_type": "display_data"
    }
   ],
   "source": [
    "torch.rand(3,4)"
   ]
  },
  {
   "cell_type": "code",
   "execution_count": null,
   "metadata": {
    "dotnet_interactive": {
     "language": "csharp"
    },
    "vscode": {
     "languageId": "dotnet-interactive.csharp"
    }
   },
   "outputs": [
    {
     "data": {
      "text/plain": [
       "[3x4], type = Float32, device = cpu\n",
       " 109.11 102.62 100.73 102.38\n",
       " 108.51 103.05 108.99 104.07\n",
       " 103.72 102.65 100.47 102.18\n"
      ]
     },
     "metadata": {},
     "output_type": "display_data"
    }
   ],
   "source": [
    "(torch.rand(3,4) * 10 + 100)"
   ]
  },
  {
   "cell_type": "code",
   "execution_count": null,
   "metadata": {
    "dotnet_interactive": {
     "language": "csharp"
    },
    "vscode": {
     "languageId": "dotnet-interactive.csharp"
    }
   },
   "outputs": [
    {
     "data": {
      "text/plain": [
       "[3x4], type = Int64, device = cpu\n",
       " 0 7 1 7\n",
       " 6 6 5 9\n",
       " 3 2 9 9\n"
      ]
     },
     "metadata": {},
     "output_type": "display_data"
    }
   ],
   "source": [
    "torch.randint(10, (3,4))"
   ]
  },
  {
   "cell_type": "code",
   "execution_count": null,
   "metadata": {
    "dotnet_interactive": {
     "language": "csharp"
    },
    "vscode": {
     "languageId": "dotnet-interactive.csharp"
    }
   },
   "outputs": [
    {
     "data": {
      "text/plain": [
       "[16], type = Int64, device = cpu\n",
       " 3 4 5 6 7 8 9 10 11 12 13 14 15 16 17 18\n"
      ]
     },
     "metadata": {},
     "output_type": "display_data"
    }
   ],
   "source": [
    "torch.arange(3,19)"
   ]
  },
  {
   "cell_type": "code",
   "execution_count": null,
   "metadata": {
    "dotnet_interactive": {
     "language": "csharp"
    },
    "vscode": {
     "languageId": "dotnet-interactive.csharp"
    }
   },
   "outputs": [
    {
     "data": {
      "text/plain": [
       "[11], type = Float32, device = cpu\n",
       " 3 4 5 6 7 8 9 10 11 12 13\n"
      ]
     },
     "metadata": {},
     "output_type": "display_data"
    }
   ],
   "source": [
    "torch.arange(3.0f, 14.0f)"
   ]
  },
  {
   "cell_type": "code",
   "execution_count": null,
   "metadata": {
    "dotnet_interactive": {
     "language": "csharp"
    },
    "vscode": {
     "languageId": "dotnet-interactive.csharp"
    }
   },
   "outputs": [
    {
     "data": {
      "text/plain": [
       "[20], type = Float32, device = cpu\n",
       " 3 3.1 3.2 3.3 3.4 3.5 3.6 3.7 3.8 3.9 4 4.1 4.2 4.3 4.4 4.5 4.6 4.7 4.8 4.9\n"
      ]
     },
     "metadata": {},
     "output_type": "display_data"
    }
   ],
   "source": [
    "torch.arange(3.0f, 5.0f, step: 0.1f)"
   ]
  },
  {
   "cell_type": "code",
   "execution_count": null,
   "metadata": {
    "dotnet_interactive": {
     "language": "csharp"
    },
    "vscode": {
     "languageId": "dotnet-interactive.csharp"
    }
   },
   "outputs": [
    {
     "data": {
      "text/plain": [
       "[4x5], type = Float32, device = cpu\n",
       "   3 3.1 3.2 3.3 3.4\n",
       " 3.5 3.6 3.7 3.8 3.9\n",
       "   4 4.1 4.2 4.3 4.4\n",
       " 4.5 4.6 4.7 4.8 4.9\n"
      ]
     },
     "metadata": {},
     "output_type": "display_data"
    }
   ],
   "source": [
    "torch.arange(3.0f, 5.0f, step: 0.1f).reshape(4,5)"
   ]
  },
  {
   "cell_type": "code",
   "execution_count": null,
   "metadata": {
    "dotnet_interactive": {
     "language": "csharp"
    },
    "vscode": {
     "languageId": "dotnet-interactive.csharp"
    }
   },
   "outputs": [
    {
     "data": {
      "text/plain": [
       "[4x5], type = Float32, device = cpu\n",
       " 3.00 3.10 3.20 3.30 3.40\n",
       " 3.50 3.60 3.70 3.80 3.90\n",
       " 4.00 4.10 4.20 4.30 4.40\n",
       " 4.50 4.60 4.70 4.80 4.90\n"
      ]
     },
     "metadata": {},
     "output_type": "display_data"
    }
   ],
   "source": [
    "torch.arange(3.0f, 5.0f, step: 0.1f).reshape(4,5).str(fltFormat: \"0.00\")"
   ]
  },
  {
   "cell_type": "code",
   "execution_count": null,
   "metadata": {
    "dotnet_interactive": {
     "language": "csharp"
    },
    "vscode": {
     "languageId": "dotnet-interactive.csharp"
    }
   },
   "outputs": [
    {
     "data": {
      "text/plain": [
       "[12x4x4], type = Float32, device = cpu"
      ]
     },
     "metadata": {},
     "output_type": "display_data"
    }
   ],
   "source": [
    "t = torch.rand(3,4,4,4);\n",
    "t.reshape(12, 4, 4).ToString()"
   ]
  },
  {
   "cell_type": "code",
   "execution_count": null,
   "metadata": {
    "dotnet_interactive": {
     "language": "csharp"
    },
    "vscode": {
     "languageId": "dotnet-interactive.csharp"
    }
   },
   "outputs": [
    {
     "data": {
      "text/plain": [
       "[12x4x4], type = Float32, device = cpu"
      ]
     },
     "metadata": {},
     "output_type": "display_data"
    }
   ],
   "source": [
    "t.reshape(-1,4,4).ToString()"
   ]
  },
  {
   "cell_type": "code",
   "execution_count": null,
   "metadata": {
    "dotnet_interactive": {
     "language": "csharp"
    },
    "vscode": {
     "languageId": "dotnet-interactive.csharp"
    }
   },
   "outputs": [
    {
     "data": {
      "text/plain": [
       "[4x8x6], type = Float32, device = cpu"
      ]
     },
     "metadata": {},
     "output_type": "display_data"
    }
   ],
   "source": [
    "t.reshape(4,-1,6).ToString()"
   ]
  },
  {
   "cell_type": "code",
   "execution_count": null,
   "metadata": {
    "dotnet_interactive": {
     "language": "csharp"
    },
    "vscode": {
     "languageId": "dotnet-interactive.csharp"
    }
   },
   "outputs": [
    {
     "data": {
      "text/html": [
       "<table><thead><tr><th><i>index</i></th><th>value</th></tr></thead><tbody><tr><td>0</td><td><div class=\"dni-plaintext\">2</div></td></tr><tr><td>1</td><td><div class=\"dni-plaintext\">2</div></td></tr><tr><td>2</td><td><div class=\"dni-plaintext\">5</div></td></tr></tbody></table>"
      ]
     },
     "metadata": {},
     "output_type": "display_data"
    }
   ],
   "source": [
    "t = torch.arange(3.0f, 5.0f, step: 0.1f).reshape(2,2,5);\n",
    "\n",
    "// The overall shape of the tensor:\n",
    "t.shape"
   ]
  },
  {
   "cell_type": "code",
   "execution_count": null,
   "metadata": {
    "dotnet_interactive": {
     "language": "csharp"
    },
    "vscode": {
     "languageId": "dotnet-interactive.csharp"
    }
   },
   "outputs": [
    {
     "data": {
      "text/html": [
       "<div class=\"dni-plaintext\">3</div>"
      ]
     },
     "metadata": {},
     "output_type": "display_data"
    }
   ],
   "source": [
    "t.ndim"
   ]
  },
  {
   "cell_type": "code",
   "execution_count": null,
   "metadata": {
    "dotnet_interactive": {
     "language": "csharp"
    },
    "vscode": {
     "languageId": "dotnet-interactive.csharp"
    }
   },
   "outputs": [
    {
     "data": {
      "text/html": [
       "<div class=\"dni-plaintext\">20</div>"
      ]
     },
     "metadata": {},
     "output_type": "display_data"
    }
   ],
   "source": [
    "t.numel()"
   ]
  },
  {
   "cell_type": "code",
   "execution_count": null,
   "metadata": {
    "dotnet_interactive": {
     "language": "csharp"
    },
    "vscode": {
     "languageId": "dotnet-interactive.csharp"
    }
   },
   "outputs": [
    {
     "data": {
      "text/plain": [
       "[2x2x5], type = Float32, device = cpu\n",
       "[0,..,..] =\n",
       "   3 3.1 3.2 3.3 3.4\n",
       " 3.5 3.6 3.7 3.8 3.9\n",
       "\n",
       "[1,..,..] =\n",
       "   4 4.1 4.2 4.3 4.4\n",
       " 4.5 4.6 4.7 4.8 4.9\n"
      ]
     },
     "metadata": {},
     "output_type": "display_data"
    }
   ],
   "source": [
    "t.cpu()"
   ]
  },
  {
   "cell_type": "code",
   "execution_count": null,
   "metadata": {
    "dotnet_interactive": {
     "language": "csharp"
    },
    "vscode": {
     "languageId": "dotnet-interactive.csharp"
    }
   },
   "outputs": [
    {
     "name": "stdout",
     "output_type": "stream",
     "text": [
      "[4x5], type = Float32, device = cpu\n",
      "   3 3.1 3.2 3.3 3.4\n",
      " 3.5 3.6 3.7 3.8 3.9\n",
      "   4 4.1 4.2 4.3 4.4\n",
      " 4.5 4.6 4.7 4.8 4.9\n",
      "\n",
      "[5x4], type = Float32, device = cpu\n",
      "   3 3.5   4 4.5\n",
      " 3.1 3.6 4.1 4.6\n",
      " 3.2 3.7 4.2 4.7\n",
      " 3.3 3.8 4.3 4.8\n",
      " 3.4 3.9 4.4 4.9\n",
      "\n"
     ]
    }
   ],
   "source": [
    "torch.arange(3.0f, 5.0f, step: 0.1f).reshape(4,5).print();\n",
    "torch.arange(3.0f, 5.0f, step: 0.1f).reshape(4,5).T.print();"
   ]
  },
  {
   "cell_type": "code",
   "execution_count": null,
   "metadata": {
    "dotnet_interactive": {
     "language": "csharp"
    },
    "vscode": {
     "languageId": "dotnet-interactive.csharp"
    }
   },
   "outputs": [
    {
     "name": "stdout",
     "output_type": "stream",
     "text": [
      "[5x4], type = Float32, device = cpu\n",
      " 3.00 3.10 3.20 3.30\n",
      " 3.40 3.50 3.60 3.70\n",
      " 3.80 3.90 4.00 4.10\n",
      " 4.20 4.30 4.40 4.50\n",
      " 4.60 4.70 4.80 4.90\n",
      "\n",
      "[5x4], type = Float32, device = cpu\n",
      " 3.00 3.50 4.00 4.50\n",
      " 3.10 3.60 4.10 4.60\n",
      " 3.20 3.70 4.20 4.70\n",
      " 3.30 3.80 4.30 4.80\n",
      " 3.40 3.90 4.40 4.90\n",
      "\n"
     ]
    }
   ],
   "source": [
    "torch.arange(3.0f, 5.0f, step: 0.1f).reshape(5,4).print(fltFormat: \"0.00\");\n",
    "torch.arange(3.0f, 5.0f, step: 0.1f).reshape(4,5).T.print(fltFormat: \"0.00\");"
   ]
  },
  {
   "cell_type": "code",
   "execution_count": null,
   "metadata": {
    "dotnet_interactive": {
     "language": "csharp"
    },
    "vscode": {
     "languageId": "dotnet-interactive.csharp"
    }
   },
   "outputs": [
    {
     "data": {
      "text/html": [
       "<div class=\"dni-plaintext\">638</div>"
      ]
     },
     "metadata": {},
     "output_type": "display_data"
    }
   ],
   "source": [
    "torch.Tensor.TotalCount\n"
   ]
  },
  {
   "cell_type": "code",
   "execution_count": null,
   "metadata": {
    "dotnet_interactive": {
     "language": "csharp"
    },
    "vscode": {
     "languageId": "dotnet-interactive.csharp"
    }
   },
   "outputs": [
    {
     "data": {
      "text/html": [
       "<div class=\"dni-plaintext\">3812</div>"
      ]
     },
     "metadata": {},
     "output_type": "display_data"
    }
   ],
   "source": [
    "torch.Tensor.PeakCount"
   ]
  },
  {
   "cell_type": "code",
   "execution_count": null,
   "metadata": {
    "dotnet_interactive": {
     "language": "csharp"
    },
    "vscode": {
     "languageId": "dotnet-interactive.csharp"
    }
   },
   "outputs": [
    {
     "name": "stdout",
     "output_type": "stream",
     "text": [
      "[2x2x5], type = Float32, device = cpu\n",
      "[0,..,..] =\n",
      "   3 375 3.2 3.3 3.4\n",
      " 3.5 3.6 3.7 3.8 3.9\n",
      "\n",
      "[1,..,..] =\n",
      "   4 4.1 4.2 4.3 4.4\n",
      " 4.5 4.6 4.7 4.8 4.9\n",
      "\n"
     ]
    },
    {
     "data": {
      "text/plain": [
       "[2x2x5], type = Float32, device = cpu\n",
       "[0,..,..] =\n",
       "   3 3.1 3.2 3.3 3.4\n",
       " 3.5 3.6 3.7 3.8 3.9\n",
       "\n",
       "[1,..,..] =\n",
       "   4 4.1 4.2 4.3 4.4\n",
       " 4.5 4.6 4.7 4.8 4.9\n"
      ]
     },
     "metadata": {},
     "output_type": "display_data"
    }
   ],
   "source": [
    "// Clone a tensor:\n",
    "var s = t.clone();\n",
    "s[0,0,1] = torch.tensor(375);\n",
    "s.print();\n",
    "t"
   ]
  },
  {
   "cell_type": "code",
   "execution_count": null,
   "metadata": {
    "dotnet_interactive": {
     "language": "csharp"
    },
    "vscode": {
     "languageId": "dotnet-interactive.csharp"
    }
   },
   "outputs": [
    {
     "data": {
      "text/plain": [
       "[2x2x5], type = Float32, device = cpu\n",
       "[0,..,..] =\n",
       "   3 250 3.2 3.3 3.4\n",
       " 3.5 3.6 3.7 3.8 3.9\n",
       "\n",
       "[1,..,..] =\n",
       "   4 4.1 4.2 4.3 4.4\n",
       " 4.5 4.6 4.7 4.8 4.9\n"
      ]
     },
     "metadata": {},
     "output_type": "display_data"
    }
   ],
   "source": [
    "var a = t.alias();\n",
    "a[0,0,1] = torch.tensor(250);\n",
    "t"
   ]
  },
  {
   "cell_type": "code",
   "execution_count": null,
   "metadata": {
    "dotnet_interactive": {
     "language": "csharp"
    },
    "vscode": {
     "languageId": "dotnet-interactive.csharp"
    }
   },
   "outputs": [
    {
     "data": {
      "text/plain": [
       "[3x4], type = ComplexFloat32, device = cpu\n",
       " 0.92+0.79i 0.71+0.65i 0.54+0.36i 0.30+0.41i\n",
       " 0.92+0.85i 0.97+0.54i 0.47+0.49i 0.21+0.84i\n",
       " 0.50+0.64i 0.01+0.94i 0.82+0.09i 0.09+0.25i\n"
      ]
     },
     "metadata": {},
     "output_type": "display_data"
    }
   ],
   "source": [
    "var ct = torch.rand(3,4,dtype:torch.ScalarType.ComplexFloat32);\n",
    "ct.str(fltFormat:\"0.00\")"
   ]
  },
  {
   "cell_type": "code",
   "execution_count": null,
   "metadata": {
    "dotnet_interactive": {
     "language": "csharp"
    },
    "vscode": {
     "languageId": "dotnet-interactive.csharp"
    }
   },
   "outputs": [
    {
     "data": {
      "text/plain": [
       "[3x4], type = Float32, device = cpu\n",
       " 0.91828  0.71431 0.54335  0.30379\n",
       " 0.91944  0.96949 0.46685  0.20997\n",
       " 0.49879 0.008265 0.81813 0.087883\n"
      ]
     },
     "metadata": {},
     "output_type": "display_data"
    }
   ],
   "source": [
    "ct.real"
   ]
  },
  {
   "cell_type": "code",
   "execution_count": null,
   "metadata": {
    "dotnet_interactive": {
     "language": "csharp"
    },
    "vscode": {
     "languageId": "dotnet-interactive.csharp"
    }
   },
   "outputs": [
    {
     "data": {
      "text/plain": [
       "[3x4], type = Float32, device = cpu\n",
       " 0.79254 0.65346  0.36257 0.40828\n",
       " 0.84718 0.53583  0.48775 0.83911\n",
       " 0.63595 0.93814 0.085096 0.25157\n"
      ]
     },
     "metadata": {},
     "output_type": "display_data"
    }
   ],
   "source": [
    "ct.imag"
   ]
  },
  {
   "cell_type": "code",
   "execution_count": null,
   "metadata": {
    "dotnet_interactive": {
     "language": "csharp"
    },
    "vscode": {
     "languageId": "dotnet-interactive.csharp"
    }
   },
   "outputs": [
    {
     "data": {
      "text/plain": [
       "[3x4], type = ComplexFloat32, device = cpu\n",
       " 1 1 1 1\n",
       " 1 1 1 1\n",
       " 1 1 1 1\n"
      ]
     },
     "metadata": {},
     "output_type": "display_data"
    }
   ],
   "source": [
    "torch.ones(3,4,dtype:torch.ScalarType.ComplexFloat32)"
   ]
  }
 ],
 "metadata": {
  "kernelspec": {
   "display_name": ".NET (C#)",
   "language": "C#",
   "name": ".net-csharp"
  },
  "language_info": {
   "file_extension": ".cs",
   "mimetype": "text/x-csharp",
   "name": "C#",
   "pygments_lexer": "csharp",
   "version": "10.0"
  }
 },
 "nbformat": 4,
 "nbformat_minor": 2
}
