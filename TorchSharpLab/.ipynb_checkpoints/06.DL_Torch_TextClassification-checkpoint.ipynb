{
 "cells": [
  {
   "cell_type": "code",
   "execution_count": null,
   "metadata": {
    "dotnet_interactive": {
     "language": "csharp"
    },
    "vscode": {
     "languageId": "dotnet-interactive.csharp"
    }
   },
   "outputs": [
    {
     "data": {
      "text/html": [
       "<div><div></div><div></div><div><strong>Installed Packages</strong><ul><li><span>TorchSharp, 0.96.7</span></li></ul></div></div>"
      ]
     },
     "metadata": {},
     "output_type": "display_data"
    }
   ],
   "source": [
    "#r \"nuget: TorchSharp\""
   ]
  },
  {
   "cell_type": "code",
   "execution_count": null,
   "metadata": {
    "dotnet_interactive": {
     "language": "csharp"
    },
    "vscode": {
     "languageId": "dotnet-interactive.csharp"
    }
   },
   "outputs": [
    {
     "data": {
      "text/html": [
       "<div><div></div><div></div><div><strong>Installed Packages</strong><ul><li><span>libtorch-cuda-11.3-linux-x64, 1.11.0.1</span></li></ul></div></div>"
      ]
     },
     "metadata": {},
     "output_type": "display_data"
    }
   ],
   "source": [
    "#r \"nuget: libtorch-cuda-11.3-linux-x64\""
   ]
  },
  {
   "cell_type": "code",
   "execution_count": null,
   "metadata": {
    "dotnet_interactive": {
     "language": "csharp"
    },
    "vscode": {
     "languageId": "dotnet-interactive.csharp"
    }
   },
   "outputs": [],
   "source": [
    "using System;\n",
    "using System.IO;\n",
    "using System.Collections.Generic;\n",
    "using System.Diagnostics;\n",
    "using System.Diagnostics.CodeAnalysis;\n",
    "\n",
    "using System.Linq;\n",
    "using System.Threading;\n",
    "using System.Threading.Tasks;\n",
    "using System.Text.RegularExpressions;"
   ]
  },
  {
   "cell_type": "code",
   "execution_count": null,
   "metadata": {
    "dotnet_interactive": {
     "language": "csharp"
    },
    "vscode": {
     "languageId": "dotnet-interactive.csharp"
    }
   },
   "outputs": [],
   "source": [
    "string newsPath = Environment.CurrentDirectory + \"/data/ag_news/\" ;\n",
    "\n",
    "long emsize = 200;\n",
    "\n",
    "long batch_size = 128;\n",
    "long eval_batch_size = 128;\n",
    "\n",
    "int epochs = 15;"
   ]
  },
  {
   "cell_type": "code",
   "execution_count": null,
   "metadata": {
    "dotnet_interactive": {
     "language": "csharp"
    },
    "vscode": {
     "languageId": "dotnet-interactive.csharp"
    }
   },
   "outputs": [],
   "source": [
    "using TorchSharp;\n",
    "using static TorchSharp.torch;\n",
    "\n",
    "using static TorchSharp.torch.nn;\n",
    "using static TorchSharp.torch.nn.functional;"
   ]
  },
  {
   "cell_type": "code",
   "execution_count": null,
   "metadata": {
    "dotnet_interactive": {
     "language": "csharp"
    },
    "vscode": {
     "languageId": "dotnet-interactive.csharp"
    }
   },
   "outputs": [],
   "source": [
    "var device = torch.cuda.is_available() ? torch.CUDA : torch.CPU;"
   ]
  },
  {
   "cell_type": "code",
   "execution_count": null,
   "metadata": {
    "dotnet_interactive": {
     "language": "csharp"
    },
    "vscode": {
     "languageId": "dotnet-interactive.csharp"
    }
   },
   "outputs": [
    {
     "data": {
      "text/html": [
       "<table><thead><tr><th>type</th><th>index</th></tr></thead><tbody><tr><td><div class=\"dni-plaintext\">CUDA</div></td><td><div class=\"dni-plaintext\">-1</div></td></tr></tbody></table>"
      ]
     },
     "metadata": {},
     "output_type": "display_data"
    }
   ],
   "source": [
    "device"
   ]
  },
  {
   "cell_type": "code",
   "execution_count": null,
   "metadata": {
    "dotnet_interactive": {
     "language": "csharp"
    },
    "vscode": {
     "languageId": "dotnet-interactive.csharp"
    }
   },
   "outputs": [],
   "source": [
    "public static class Utils\n",
    "{\n",
    "    public static Func<string, IEnumerable<string>> get_tokenizer(string name)\n",
    "    {\n",
    "        if (name == \"basic_english\") return BasicEnglish;\n",
    "        throw new NotImplementedException($\"The '{name}' text tokenizer is not implemented.\");\n",
    "    }\n",
    "\n",
    "    private static string[] _patterns = new string []{\n",
    "         \"\\'\",\n",
    "         \"\\\"\",\n",
    "         \"\\\\.\",\n",
    "         \"<br \\\\/>\",\n",
    "         \",\",\n",
    "         \"\\\\(\",\n",
    "         \"\\\\)\",\n",
    "         \"\\\\!\",\n",
    "         \"\\\\?\",\n",
    "         \"\\\\;\",\n",
    "         \"\\\\:\",\n",
    "         \"\\\\\\\\\",\n",
    "         \"\\\\s+\",\n",
    "    };\n",
    "    private static string[] _replacements = new string[] {\n",
    "        \" \\\\'  \",\n",
    "        \"\",\n",
    "        \" . \",\n",
    "        \" \",\n",
    "        \" , \",\n",
    "        \" ( \",\n",
    "        \" ) \",\n",
    "        \" ! \",\n",
    "        \" ? \",\n",
    "        \" \",\n",
    "        \" \",\n",
    "        \" \",\n",
    "        \" \"\n",
    "    };\n",
    "\n",
    "    private static IEnumerable<string> BasicEnglish(string input)\n",
    "    {\n",
    "        if (_patterns.Length != _replacements.Length)\n",
    "            throw new InvalidProgramException(\"internal error: patterns and replacements are not the same length\");\n",
    "\n",
    "        input = input.Trim().ToLowerInvariant();\n",
    "\n",
    "        for (var i = 0; i < _patterns.Length; ++i) {\n",
    "            input = Regex.Replace(input, _patterns[i], _replacements[i]);\n",
    "        }\n",
    "        return input.Split(' ');\n",
    "    }\n",
    "}"
   ]
  },
  {
   "cell_type": "code",
   "execution_count": null,
   "metadata": {
    "dotnet_interactive": {
     "language": "csharp"
    },
    "vscode": {
     "languageId": "dotnet-interactive.csharp"
    }
   },
   "outputs": [],
   "source": [
    "public class Counter<T> : IEnumerable<KeyValuePair<T, int>>\n",
    "{\n",
    "        private Dictionary<T, int> _dict = new Dictionary<T, int>();\n",
    "\n",
    "        public void update(T key)\n",
    "        {\n",
    "            if (_dict.TryGetValue(key, out int count)) {\n",
    "                _dict[key] = count + 1;\n",
    "            } else {\n",
    "                _dict[key] = 1;\n",
    "            }\n",
    "        }\n",
    "        public void update(IEnumerable<T> keys)\n",
    "        {\n",
    "            foreach (T key in keys) {\n",
    "                update(key);\n",
    "            }\n",
    "        }\n",
    "        public int this[T key] { get => _dict[key]; }\n",
    "\n",
    "        public IEnumerator<KeyValuePair<T, int>> GetEnumerator()\n",
    "        {\n",
    "            return _dict.GetEnumerator();\n",
    "        }\n",
    "\n",
    "        IEnumerator IEnumerable.GetEnumerator()\n",
    "        {\n",
    "            return GetEnumerator();\n",
    "        }\n",
    "}\n",
    "\n",
    "\n",
    "public class Vocab\n",
    "{\n",
    "        public Vocab(Counter<string> counter, int? maxSize = null, int minFreq = 1, string[] specials = null, Func<torch.Tensor, torch.Tensor> unkInit = null, bool specialsFirst = true)\n",
    "        {\n",
    "            if (specials == null) specials = new string[] { \"<unk>\", \"<pad>\" };\n",
    "            if (unkInit == null) unkInit = (t => init.zeros_(t.clone()));\n",
    "            if (specialsFirst) {\n",
    "                foreach (var sp in specials) {\n",
    "                    _dict.Add(sp, _last++);\n",
    "                }\n",
    "            }\n",
    "            foreach (var kv in counter.Where(kv => kv.Value >= minFreq)) {\n",
    "                if (!specials.Contains(kv.Key)) {\n",
    "                    _dict.Add(kv.Key, _last++);\n",
    "                }\n",
    "                if (_last > (maxSize ?? int.MaxValue))\n",
    "                    break;\n",
    "            }\n",
    "            if (!specialsFirst) {\n",
    "                foreach (var sp in specials) {\n",
    "                    _dict.Add(sp, _last++);\n",
    "                }\n",
    "            }\n",
    "        }\n",
    "\n",
    "        public int this[string key] { get => _dict.TryGetValue(key, out int value) ? value : _dict[\"<unk>\"]; }\n",
    "\n",
    "        public int Count => _dict.Count;\n",
    "\n",
    "        public void Add(string key, int value)\n",
    "        {\n",
    "            _dict.Add(key, value);\n",
    "        }\n",
    "\n",
    "        public void Add(KeyValuePair<string, int> item)\n",
    "        {\n",
    "            Add(item.Key, item.Value);\n",
    "        }\n",
    "\n",
    "        public bool TryGetValue(string key, [MaybeNullWhen(false)] out int value)\n",
    "        {\n",
    "            return _dict.TryGetValue(key, out value);\n",
    "        }\n",
    "\n",
    "        private Dictionary<string, int> _dict = new Dictionary<string, int>();\n",
    "        private int _last = 0;\n",
    "}"
   ]
  },
  {
   "cell_type": "code",
   "execution_count": null,
   "metadata": {
    "dotnet_interactive": {
     "language": "csharp"
    },
    "vscode": {
     "languageId": "dotnet-interactive.csharp"
    }
   },
   "outputs": [],
   "source": [
    "public class AG_NEWSReader : IDisposable\n",
    "{\n",
    "        public static AG_NEWSReader AG_NEWS(string split, Device device, string root = \".data\")\n",
    "        {\n",
    "            var dataPath = Path.Combine(root, $\"{split}.csv\");\n",
    "            Console.WriteLine(dataPath);\n",
    "            return new AG_NEWSReader(dataPath, device);\n",
    "        }\n",
    "\n",
    "        private AG_NEWSReader(string path, Device device)\n",
    "        {\n",
    "            _path = path;\n",
    "            _device = device;\n",
    "        }\n",
    "\n",
    "        private string _path;\n",
    "        private Device _device;\n",
    "\n",
    "        public IEnumerable<(int, string)> Enumerate()\n",
    "        {\n",
    "            return File.ReadLines(_path).Select(line => ParseLine(line));\n",
    "        }\n",
    "\n",
    "        public IEnumerable<(Tensor, Tensor, Tensor)> GetBatches(Func<string, IEnumerable<string>> tokenizer, Vocab vocab, long batch_size)\n",
    "        {\n",
    "\n",
    "            var inputs = new List<(int, string)>();\n",
    "\n",
    "            if (_data == null) {\n",
    "\n",
    "                _data = new List<(Tensor, Tensor, Tensor)>();\n",
    "\n",
    "                var counter = 0;\n",
    "                var lines = Enumerate().ToList();\n",
    "                var left = lines.Count;\n",
    "\n",
    "                foreach (var line in lines) {\n",
    "\n",
    "                    inputs.Add(line);\n",
    "                    left -= 1;\n",
    "\n",
    "                    if (++counter == batch_size || left == 0) {\n",
    "                        _data.Add(Batchifier(inputs, tokenizer, vocab));\n",
    "                        inputs.Clear();\n",
    "                        counter = 0;\n",
    "                    }\n",
    "                }\n",
    "            }\n",
    "\n",
    "            return _data;\n",
    "        }\n",
    "\n",
    "        private List<(Tensor, Tensor, Tensor)> _data;\n",
    "        private bool disposedValue;\n",
    "\n",
    "        private (Tensor, Tensor, Tensor) Batchifier(IEnumerable<(int, string)> input, Func<string, IEnumerable<string>> tokenizer, Vocab vocab)\n",
    "        {\n",
    "            var label_list = new List<long>();\n",
    "            var text_list = new List<Tensor>();\n",
    "            var offsets = new List<long>();\n",
    "            offsets.Add(0);\n",
    "\n",
    "            long last = 0;\n",
    "\n",
    "            foreach (var (label, text) in input) {\n",
    "                label_list.Add(label);\n",
    "                var processed_text = torch.tensor(tokenizer(text).Select(t => (long)vocab[t]).ToArray(),dtype:torch.int64);\n",
    "                text_list.Add(processed_text);\n",
    "                last += processed_text.size(0);\n",
    "                offsets.Add(last);\n",
    "            }\n",
    "\n",
    "            var labels = torch.tensor(label_list.ToArray(), dtype: torch.int64).to(_device);\n",
    "            var texts = torch.cat(text_list.ToArray(), 0).to(_device);\n",
    "            var offs = torch.tensor(offsets.Take(label_list.Count).ToArray(), dtype:torch.int64).to(_device);\n",
    "\n",
    "            return (labels, texts, offs);\n",
    "        }\n",
    "\n",
    "        public (int, string) ParseLine(string line)\n",
    "        {\n",
    "            int label = 0;\n",
    "            string text = \"\";\n",
    "\n",
    "            int firstComma = line.IndexOf(\"\\\",\\\"\");\n",
    "            label = int.Parse(line.Substring(1, firstComma - 1));\n",
    "            text = line.Substring(firstComma + 2, line.Length - firstComma - 2);\n",
    "            int secondComma = text.IndexOf(\"\\\",\\\"\");\n",
    "            text = text.Substring(secondComma + 2, text.Length - secondComma - 2);\n",
    "            int thirdComma = text.IndexOf(\"\\\",\\\"\");\n",
    "\n",
    "            text = text.Substring(thirdComma + 2, text.Length - thirdComma - 3);\n",
    "\n",
    "            return (label-1, text);\n",
    "        }\n",
    "\n",
    "        protected virtual void Dispose(bool disposing)\n",
    "        {\n",
    "            if (!disposedValue) {\n",
    "                if (disposing && _data != null) {\n",
    "                    foreach (var (l, t, o) in _data) {\n",
    "                        l.Dispose();\n",
    "                        t.Dispose();\n",
    "                        o.Dispose();\n",
    "                    }\n",
    "                }\n",
    "\n",
    "                disposedValue = true;\n",
    "            }\n",
    "        }\n",
    "\n",
    "        public void Dispose()\n",
    "        {\n",
    "            Dispose(disposing: true);\n",
    "            GC.SuppressFinalize(this);\n",
    "        }\n",
    "}"
   ]
  },
  {
   "cell_type": "code",
   "execution_count": null,
   "metadata": {
    "vscode": {
     "languageId": "dotnet-interactive.csharp"
    }
   },
   "outputs": [
    {
     "name": "stdout",
     "output_type": "stream",
     "text": [
      "/home/lokinfey/Dev/ML/dotnet/torch/data/ag_news/train.csv\n"
     ]
    }
   ],
   "source": [
    "var reader = AG_NEWSReader.AG_NEWS(\"train\", (Device)device, newsPath);"
   ]
  },
  {
   "cell_type": "code",
   "execution_count": null,
   "metadata": {
    "dotnet_interactive": {
     "language": "csharp"
    },
    "vscode": {
     "languageId": "dotnet-interactive.csharp"
    }
   },
   "outputs": [],
   "source": [
    "var dataloader = reader.Enumerate();\n",
    "\n",
    "var tokenizer = Utils.get_tokenizer(\"basic_english\");\n",
    "\n",
    "var counter = new Counter<string>();\n",
    "\n",
    "foreach (var (label, text) in dataloader)\n",
    "{\n",
    "    counter.update(tokenizer(text));\n",
    "}"
   ]
  },
  {
   "cell_type": "code",
   "execution_count": null,
   "metadata": {
    "dotnet_interactive": {
     "language": "csharp"
    },
    "vscode": {
     "languageId": "dotnet-interactive.csharp"
    }
   },
   "outputs": [],
   "source": [
    "var vocab = new Vocab(counter);"
   ]
  },
  {
   "cell_type": "code",
   "execution_count": null,
   "metadata": {
    "dotnet_interactive": {
     "language": "csharp"
    },
    "vscode": {
     "languageId": "dotnet-interactive.csharp"
    }
   },
   "outputs": [],
   "source": [
    "public class TextClassificationModel : Module\n",
    "{\n",
    "        private TorchSharp.Modules.EmbeddingBag embedding;\n",
    "        private TorchSharp.Modules.Linear fc;\n",
    "\n",
    "        public TextClassificationModel(long vocab_size, long embed_dim, long num_class) : base(\"TextClassification\")\n",
    "        {\n",
    "            embedding = EmbeddingBag(vocab_size, embed_dim, sparse: false);\n",
    "            fc = Linear(embed_dim, num_class);\n",
    "            InitWeights();\n",
    "\n",
    "            RegisterComponents();\n",
    "        }\n",
    "\n",
    "        private void InitWeights()\n",
    "        {\n",
    "            var initrange = 0.5;\n",
    "\n",
    "            init.uniform_(embedding.weight, -initrange, initrange);\n",
    "            init.uniform_(fc.weight, -initrange, initrange);\n",
    "            init.zeros_(fc.bias);\n",
    "        }\n",
    "\n",
    "        public override Tensor forward(Tensor t)\n",
    "        {\n",
    "            throw new NotImplementedException();\n",
    "        }\n",
    "\n",
    "        public override Tensor forward(Tensor input, Tensor offsets)\n",
    "        {\n",
    "            var t = embedding.forward(input, offsets);\n",
    "            return fc.forward(t);\n",
    "        }\n",
    "\n",
    "        public new TextClassificationModel to(Device device)\n",
    "        {\n",
    "            base.to(device);\n",
    "            return this;\n",
    "        }\n",
    "}"
   ]
  },
  {
   "cell_type": "code",
   "execution_count": null,
   "metadata": {
    "dotnet_interactive": {
     "language": "csharp"
    },
    "vscode": {
     "languageId": "dotnet-interactive.csharp"
    }
   },
   "outputs": [],
   "source": [
    "static void train(int epoch, IEnumerable<(Tensor, Tensor, Tensor)> train_data, TextClassificationModel model, Loss criterion, torch.optim.Optimizer optimizer)\n",
    "{\n",
    "    model.train();\n",
    "\n",
    "    double total_acc = 0.0;\n",
    "    long total_count = 0;\n",
    "    long log_interval = 250;\n",
    "\n",
    "    var batch = 0;\n",
    "\n",
    "    var batch_count = train_data.Count();\n",
    "\n",
    "    using (var d = torch.NewDisposeScope())\n",
    "    {\n",
    "        foreach (var (labels, texts, offsets) in train_data)\n",
    "        {\n",
    "\n",
    "            optimizer.zero_grad();\n",
    "\n",
    "            using (var predicted_labels = model.forward(texts, offsets))\n",
    "            {\n",
    "\n",
    "                var loss = criterion(predicted_labels, labels);\n",
    "                loss.backward();\n",
    "                torch.nn.utils.clip_grad_norm_(model.parameters(), 0.5);\n",
    "                optimizer.step();\n",
    "\n",
    "                total_acc += (predicted_labels.argmax(1) == labels).sum().to(torch.CPU).item<long>();\n",
    "                total_count += labels.size(0);\n",
    "            }\n",
    "\n",
    "            if (batch % log_interval == 0 && batch > 0)\n",
    "            {\n",
    "                var accuracy = total_acc / total_count;\n",
    "                Console.WriteLine($\"epoch: {epoch} | batch: {batch} / {batch_count} | accuracy: {accuracy:0.00}\");\n",
    "            }\n",
    "            batch += 1;\n",
    "        }\n",
    "    }\n",
    "}"
   ]
  },
  {
   "cell_type": "code",
   "execution_count": null,
   "metadata": {
    "dotnet_interactive": {
     "language": "csharp"
    },
    "vscode": {
     "languageId": "dotnet-interactive.csharp"
    }
   },
   "outputs": [],
   "source": [
    "static double evaluate(IEnumerable<(Tensor, Tensor, Tensor)> test_data, TextClassificationModel model, Loss criterion)\n",
    "{\n",
    "            model.eval();\n",
    "\n",
    "            double total_acc = 0.0;\n",
    "            long total_count = 0;\n",
    "\n",
    "            using (var d = torch.NewDisposeScope())\n",
    "            {\n",
    "                foreach (var (labels, texts, offsets) in test_data)\n",
    "                {\n",
    "\n",
    "                    using (var predicted_labels = model.forward(texts, offsets))\n",
    "                    {\n",
    "                        var loss = criterion(predicted_labels, labels);\n",
    "\n",
    "                        total_acc += (predicted_labels.argmax(1) == labels).sum().to(torch.CPU).item<long>();\n",
    "                        total_count += labels.size(0);\n",
    "                    }\n",
    "                }\n",
    "\n",
    "                return total_acc / total_count;\n",
    "            }\n",
    "}"
   ]
  },
  {
   "cell_type": "code",
   "execution_count": null,
   "metadata": {
    "dotnet_interactive": {
     "language": "csharp"
    },
    "vscode": {
     "languageId": "dotnet-interactive.csharp"
    }
   },
   "outputs": [
    {
     "name": "stdout",
     "output_type": "stream",
     "text": [
      "\tCreating the model...\n"
     ]
    }
   ],
   "source": [
    "Console.WriteLine($\"\\tCreating the model...\");"
   ]
  },
  {
   "cell_type": "code",
   "execution_count": null,
   "metadata": {
    "dotnet_interactive": {
     "language": "csharp"
    },
    "vscode": {
     "languageId": "dotnet-interactive.csharp"
    }
   },
   "outputs": [],
   "source": [
    "var model = new TextClassificationModel(vocab.Count, emsize, 4).to((Device)device);"
   ]
  },
  {
   "cell_type": "code",
   "execution_count": null,
   "metadata": {
    "dotnet_interactive": {
     "language": "csharp"
    },
    "vscode": {
     "languageId": "dotnet-interactive.csharp"
    }
   },
   "outputs": [],
   "source": [
    "var loss = cross_entropy_loss();\n",
    "var lr = 5.0;\n",
    "var optimizer = torch.optim.SGD(model.parameters(), lr);\n",
    "var scheduler = torch.optim.lr_scheduler.StepLR(optimizer, 1, 0.2, last_epoch: 5);\n"
   ]
  },
  {
   "cell_type": "code",
   "execution_count": null,
   "metadata": {
    "dotnet_interactive": {
     "language": "csharp"
    },
    "vscode": {
     "languageId": "dotnet-interactive.csharp"
    }
   },
   "outputs": [],
   "source": [
    "var totalTime = new Stopwatch();\n",
    "totalTime.Start();\n",
    "\n",
    "int timeout = 3000;"
   ]
  },
  {
   "cell_type": "code",
   "execution_count": null,
   "metadata": {
    "dotnet_interactive": {
     "language": "csharp"
    },
    "vscode": {
     "languageId": "dotnet-interactive.csharp"
    }
   },
   "outputs": [
    {
     "name": "stdout",
     "output_type": "stream",
     "text": [
      "epoch: 1 | batch: 250 / 938 | accuracy: 0.49\n",
      "epoch: 1 | batch: 500 / 938 | accuracy: 0.58\n",
      "epoch: 1 | batch: 750 / 938 | accuracy: 0.63\n",
      "\n",
      "End of epoch: 1 | lr: 1.0000 | time: 5.5s\n",
      "\n",
      "epoch: 2 | batch: 250 / 938 | accuracy: 0.79\n",
      "epoch: 2 | batch: 500 / 938 | accuracy: 0.80\n",
      "epoch: 2 | batch: 750 / 938 | accuracy: 0.80\n",
      "\n",
      "End of epoch: 2 | lr: 0.2000 | time: 2.3s\n",
      "\n",
      "epoch: 3 | batch: 250 / 938 | accuracy: 0.81\n",
      "epoch: 3 | batch: 500 / 938 | accuracy: 0.81\n",
      "epoch: 3 | batch: 750 / 938 | accuracy: 0.82\n",
      "\n",
      "End of epoch: 3 | lr: 0.0400 | time: 2.3s\n",
      "\n",
      "epoch: 4 | batch: 250 / 938 | accuracy: 0.81\n",
      "epoch: 4 | batch: 500 / 938 | accuracy: 0.81\n",
      "epoch: 4 | batch: 750 / 938 | accuracy: 0.82\n",
      "\n",
      "End of epoch: 4 | lr: 0.0080 | time: 2.3s\n",
      "\n",
      "epoch: 5 | batch: 250 / 938 | accuracy: 0.81\n",
      "epoch: 5 | batch: 500 / 938 | accuracy: 0.81\n",
      "epoch: 5 | batch: 750 / 938 | accuracy: 0.82\n",
      "\n",
      "End of epoch: 5 | lr: 0.0016 | time: 2.3s\n",
      "\n",
      "epoch: 6 | batch: 250 / 938 | accuracy: 0.81\n",
      "epoch: 6 | batch: 500 / 938 | accuracy: 0.81\n",
      "epoch: 6 | batch: 750 / 938 | accuracy: 0.82\n",
      "\n",
      "End of epoch: 6 | lr: 0.0003 | time: 2.3s\n",
      "\n",
      "epoch: 7 | batch: 250 / 938 | accuracy: 0.81\n",
      "epoch: 7 | batch: 500 / 938 | accuracy: 0.81\n",
      "epoch: 7 | batch: 750 / 938 | accuracy: 0.82\n",
      "\n",
      "End of epoch: 7 | lr: 0.0001 | time: 2.3s\n",
      "\n",
      "epoch: 8 | batch: 250 / 938 | accuracy: 0.81\n",
      "epoch: 8 | batch: 500 / 938 | accuracy: 0.81\n",
      "epoch: 8 | batch: 750 / 938 | accuracy: 0.82\n",
      "\n",
      "End of epoch: 8 | lr: 0.0000 | time: 2.3s\n",
      "\n",
      "epoch: 9 | batch: 250 / 938 | accuracy: 0.81\n",
      "epoch: 9 | batch: 500 / 938 | accuracy: 0.81\n",
      "epoch: 9 | batch: 750 / 938 | accuracy: 0.82\n",
      "\n",
      "End of epoch: 9 | lr: 0.0000 | time: 2.3s\n",
      "\n",
      "epoch: 10 | batch: 250 / 938 | accuracy: 0.81\n",
      "epoch: 10 | batch: 500 / 938 | accuracy: 0.81\n",
      "epoch: 10 | batch: 750 / 938 | accuracy: 0.82\n",
      "\n",
      "End of epoch: 10 | lr: 0.0000 | time: 2.3s\n",
      "\n",
      "epoch: 11 | batch: 250 / 938 | accuracy: 0.81\n",
      "epoch: 11 | batch: 500 / 938 | accuracy: 0.81\n",
      "epoch: 11 | batch: 750 / 938 | accuracy: 0.82\n",
      "\n",
      "End of epoch: 11 | lr: 0.0000 | time: 2.3s\n",
      "\n",
      "epoch: 12 | batch: 250 / 938 | accuracy: 0.81\n",
      "epoch: 12 | batch: 500 / 938 | accuracy: 0.81\n",
      "epoch: 12 | batch: 750 / 938 | accuracy: 0.82\n",
      "\n",
      "End of epoch: 12 | lr: 0.0000 | time: 2.3s\n",
      "\n",
      "epoch: 13 | batch: 250 / 938 | accuracy: 0.81\n",
      "epoch: 13 | batch: 500 / 938 | accuracy: 0.81\n",
      "epoch: 13 | batch: 750 / 938 | accuracy: 0.82\n",
      "\n",
      "End of epoch: 13 | lr: 0.0000 | time: 2.3s\n",
      "\n",
      "epoch: 14 | batch: 250 / 938 | accuracy: 0.81\n",
      "epoch: 14 | batch: 500 / 938 | accuracy: 0.81\n",
      "epoch: 14 | batch: 750 / 938 | accuracy: 0.82\n",
      "\n",
      "End of epoch: 14 | lr: 0.0000 | time: 2.3s\n",
      "\n",
      "epoch: 15 | batch: 250 / 938 | accuracy: 0.81\n",
      "epoch: 15 | batch: 500 / 938 | accuracy: 0.81\n",
      "epoch: 15 | batch: 750 / 938 | accuracy: 0.82\n",
      "\n",
      "End of epoch: 15 | lr: 0.0000 | time: 2.3s\n",
      "\n"
     ]
    }
   ],
   "source": [
    "foreach (var epoch in Enumerable.Range(1, epochs))\n",
    "{\n",
    "\n",
    "    var sw = new Stopwatch();\n",
    "    sw.Start();\n",
    "\n",
    "    train(epoch, reader.GetBatches(tokenizer, vocab, batch_size), model, loss, optimizer);\n",
    "\n",
    "    sw.Stop();\n",
    "\n",
    "    Console.WriteLine($\"\\nEnd of epoch: {epoch} | lr: {optimizer.ParamGroups.First().LearningRate:0.0000} | time: {sw.Elapsed.TotalSeconds:0.0}s\\n\");\n",
    "    scheduler.step();\n",
    "\n",
    "    if (totalTime.Elapsed.TotalSeconds > timeout) break;\n",
    "}\n",
    "\n",
    "totalTime.Stop();"
   ]
  },
  {
   "cell_type": "code",
   "execution_count": null,
   "metadata": {
    "dotnet_interactive": {
     "language": "csharp"
    },
    "vscode": {
     "languageId": "dotnet-interactive.csharp"
    }
   },
   "outputs": [
    {
     "name": "stdout",
     "output_type": "stream",
     "text": [
      "/home/lokinfey/Dev/ML/dotnet/torch/data/ag_news/test.csv\n",
      "\n",
      "End of training: test accuracy: 0.81 | eval time: 0.2s\n",
      "\n"
     ]
    }
   ],
   "source": [
    "using (var test_reader = AG_NEWSReader.AG_NEWS(\"test\", (Device)device, newsPath))\n",
    "{\n",
    "\n",
    "    var sw = new Stopwatch();\n",
    "    sw.Start();\n",
    "\n",
    "    var accuracy = evaluate(test_reader.GetBatches(tokenizer, vocab, eval_batch_size), model, loss);\n",
    "\n",
    "    sw.Stop();\n",
    "\n",
    "    Console.WriteLine($\"\\nEnd of training: test accuracy: {accuracy:0.00} | eval time: {sw.Elapsed.TotalSeconds:0.0}s\\n\");\n",
    "    scheduler.step();\n",
    "}"
   ]
  }
 ],
 "metadata": {
  "kernelspec": {
   "display_name": ".NET (C#)",
   "language": "C#",
   "name": ".net-csharp"
  },
  "language_info": {
   "file_extension": ".cs",
   "mimetype": "text/x-csharp",
   "name": "C#",
   "pygments_lexer": "csharp",
   "version": "10.0"
  }
 },
 "nbformat": 4,
 "nbformat_minor": 2
}
