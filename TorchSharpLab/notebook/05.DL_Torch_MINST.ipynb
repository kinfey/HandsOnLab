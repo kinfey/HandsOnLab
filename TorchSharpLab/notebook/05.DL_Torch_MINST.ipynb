{
 "cells": [
  {
   "cell_type": "markdown",
   "metadata": {},
   "source": [
    "# **六.用 TorchSharp 来做图像识别**"
   ]
  },
  {
   "cell_type": "code",
   "execution_count": null,
   "metadata": {
    "dotnet_interactive": {
     "language": "csharp"
    },
    "vscode": {
     "languageId": "dotnet-interactive.csharp"
    }
   },
   "outputs": [
    {
     "data": {
      "text/html": [
       "<div><div></div><div></div><div><strong>Installed Packages</strong><ul><li><span>TorchSharp, 0.96.7</span></li></ul></div></div>"
      ]
     },
     "metadata": {},
     "output_type": "display_data"
    }
   ],
   "source": [
    "#r \"nuget: TorchSharp\""
   ]
  },
  {
   "cell_type": "code",
   "execution_count": null,
   "metadata": {
    "dotnet_interactive": {
     "language": "csharp"
    },
    "vscode": {
     "languageId": "dotnet-interactive.csharp"
    }
   },
   "outputs": [
    {
     "data": {
      "text/html": [
       "<div><div></div><div></div><div><strong>Installed Packages</strong><ul><li><span>libtorch-cuda-11.3-linux-x64, 1.11.0.1</span></li></ul></div></div>"
      ]
     },
     "metadata": {},
     "output_type": "display_data"
    }
   ],
   "source": [
    "#r \"nuget: libtorch-cuda-11.3-linux-x64\""
   ]
  },
  {
   "cell_type": "code",
   "execution_count": null,
   "metadata": {
    "dotnet_interactive": {
     "language": "csharp"
    },
    "vscode": {
     "languageId": "dotnet-interactive.csharp"
    }
   },
   "outputs": [
    {
     "data": {
      "text/html": [
       "<div><div></div><div></div><div><strong>Installed Packages</strong><ul><li><span>SharpZipLib, 1.3.3</span></li></ul></div></div>"
      ]
     },
     "metadata": {},
     "output_type": "display_data"
    }
   ],
   "source": [
    "#r \"nuget: SharpZipLib\""
   ]
  },
  {
   "cell_type": "code",
   "execution_count": null,
   "metadata": {
    "dotnet_interactive": {
     "language": "csharp"
    },
    "vscode": {
     "languageId": "dotnet-interactive.csharp"
    }
   },
   "outputs": [],
   "source": [
    "using System;\n",
    "using System.IO;\n",
    "using System.Collections.Generic;\n",
    "using System.Diagnostics;\n",
    "\n",
    "using System.Linq;\n",
    "using System.Threading;\n",
    "using System.Threading.Tasks;\n",
    "using ICSharpCode.SharpZipLib.Core;\n",
    "using ICSharpCode.SharpZipLib.GZip;\n",
    "using ICSharpCode.SharpZipLib.Tar;"
   ]
  },
  {
   "cell_type": "code",
   "execution_count": null,
   "metadata": {
    "dotnet_interactive": {
     "language": "csharp"
    },
    "vscode": {
     "languageId": "dotnet-interactive.csharp"
    }
   },
   "outputs": [],
   "source": [
    "public static void DecompressGZipFile(string gzipFileName, string targetDir)\n",
    "{\n",
    "    byte[] buf = new byte[4096];\n",
    "\n",
    "    using (var fs = File.OpenRead(gzipFileName))\n",
    "    using (var gzipStream = new GZipInputStream(fs)) {\n",
    "\n",
    "        string fnOut = Path.Combine(targetDir, Path.GetFileNameWithoutExtension(gzipFileName));\n",
    "\n",
    "        using (var fsOut = File.Create(fnOut)) {\n",
    "                StreamUtils.Copy(gzipStream, fsOut, buf);\n",
    "        }\n",
    "    }\n",
    "}\n",
    "public static void ExtractTGZ(string gzArchiveName, string destFolder)\n",
    "{\n",
    "    var flag = gzArchiveName.Split(Path.DirectorySeparatorChar).Last().Split('.').First() + \".bin\";\n",
    "    if (File.Exists(Path.Combine(destFolder, flag))) return;\n",
    "\n",
    "    Console.WriteLine($\"Extracting.\");\n",
    "    var task = Task.Run(() => {\n",
    "    using (var inStream = File.OpenRead(gzArchiveName)) {\n",
    "        using (var gzipStream = new GZipInputStream(inStream)) {\n",
    "    #pragma warning disable CS0618 // Type or member is obsolete\n",
    "            using (TarArchive tarArchive = TarArchive.CreateInputTarArchive(gzipStream))\n",
    "    #pragma warning restore CS0618 // Type or member is obsolete\n",
    "                tarArchive.ExtractContents(destFolder);\n",
    "            }\n",
    "        }\n",
    "    });\n",
    "\n",
    "    while (!task.IsCompleted) {\n",
    "        Thread.Sleep(200);\n",
    "        Console.Write(\".\");\n",
    "    }\n",
    "\n",
    "    File.Create(Path.Combine(destFolder, flag));\n",
    "    Console.WriteLine(\"\");\n",
    "    Console.WriteLine(\"Extraction completed.\");\n",
    "}\n"
   ]
  },
  {
   "cell_type": "code",
   "execution_count": null,
   "metadata": {
    "dotnet_interactive": {
     "language": "csharp"
    },
    "vscode": {
     "languageId": "dotnet-interactive.csharp"
    }
   },
   "outputs": [],
   "source": [
    "string dataPath = Path.Combine(Environment.CurrentDirectory + \"/data/minst/\" , \"train\");\n",
    "string minstPath = Environment.CurrentDirectory + \"/data/minst/\" ;\n",
    "if (!Directory.Exists(dataPath))\n",
    "{\n",
    "    Directory.CreateDirectory(dataPath);\n",
    "    DecompressGZipFile(Path.Combine(minstPath, \"train-images-idx3-ubyte.gz\"), dataPath);\n",
    "    DecompressGZipFile(Path.Combine(minstPath, \"train-labels-idx1-ubyte.gz\"), dataPath);\n",
    "    DecompressGZipFile(Path.Combine(minstPath, \"t10k-images-idx3-ubyte.gz\"), dataPath);\n",
    "    DecompressGZipFile(Path.Combine(minstPath, \"t10k-labels-idx1-ubyte.gz\"), dataPath);\n",
    "    \n",
    "}"
   ]
  },
  {
   "cell_type": "code",
   "execution_count": null,
   "metadata": {
    "dotnet_interactive": {
     "language": "csharp"
    },
    "vscode": {
     "languageId": "dotnet-interactive.csharp"
    }
   },
   "outputs": [],
   "source": [
    "using TorchSharp;\n",
    "using TorchSharp.torchvision;\n",
    "\n",
    "\n",
    "using static TorchSharp.torch;\n",
    "\n",
    "using static TorchSharp.torch.nn;\n",
    "using static TorchSharp.torch.nn.functional;"
   ]
  },
  {
   "cell_type": "code",
   "execution_count": null,
   "metadata": {
    "dotnet_interactive": {
     "language": "csharp"
    },
    "vscode": {
     "languageId": "dotnet-interactive.csharp"
    }
   },
   "outputs": [],
   "source": [
    "var device = cuda.is_available() ? CUDA : CPU;"
   ]
  },
  {
   "cell_type": "code",
   "execution_count": null,
   "metadata": {
    "dotnet_interactive": {
     "language": "csharp"
    },
    "vscode": {
     "languageId": "dotnet-interactive.csharp"
    }
   },
   "outputs": [
    {
     "data": {
      "text/html": [
       "<table><thead><tr><th>type</th><th>index</th></tr></thead><tbody><tr><td><div class=\"dni-plaintext\">CUDA</div></td><td><div class=\"dni-plaintext\">-1</div></td></tr></tbody></table>"
      ]
     },
     "metadata": {},
     "output_type": "display_data"
    }
   ],
   "source": [
    "device"
   ]
  },
  {
   "cell_type": "code",
   "execution_count": null,
   "metadata": {
    "dotnet_interactive": {
     "language": "csharp"
    },
    "vscode": {
     "languageId": "dotnet-interactive.csharp"
    }
   },
   "outputs": [],
   "source": [
    "private static int _epochs = 4;\n",
    "private static int _trainBatchSize = 64;\n",
    "private static int _testBatchSize = 128;"
   ]
  },
  {
   "cell_type": "code",
   "execution_count": null,
   "metadata": {
    "dotnet_interactive": {
     "language": "csharp"
    },
    "vscode": {
     "languageId": "dotnet-interactive.csharp"
    }
   },
   "outputs": [],
   "source": [
    "public class MNISTModel : Module\n",
    "{\n",
    "    private Module conv1 = Conv2d(1, 32, 3);\n",
    "    private Module conv2 = Conv2d(32, 64, 3);\n",
    "    private Module fc1 = Linear(9216, 128);\n",
    "    private Module fc2 = Linear(128, 10);\n",
    "\n",
    "    // These don't have any parameters, so the only reason to instantiate\n",
    "    // them is performance, since they will be used over and over.\n",
    "    private Module pool1 = MaxPool2d(kernelSize: new long[] { 2, 2 });\n",
    "\n",
    "    private Module relu1 = ReLU();\n",
    "    private Module relu2 = ReLU();\n",
    "    private Module relu3 = ReLU();\n",
    "\n",
    "    private Module dropout1 = Dropout(0.25);\n",
    "    private Module dropout2 = Dropout(0.5);\n",
    "\n",
    "    private Module flatten = Flatten();\n",
    "    private Module logsm = LogSoftmax(1);\n",
    "\n",
    "    public MNISTModel(string name, torch.Device device = null) : base(name)\n",
    "    {\n",
    "        RegisterComponents();\n",
    "\n",
    "        if (device != null && device.type == DeviceType.CUDA)\n",
    "            this.to(device);\n",
    "    }\n",
    "\n",
    "    public override Tensor forward(Tensor input)\n",
    "    {\n",
    "        var l11 = conv1.forward(input);\n",
    "        var l12 = relu1.forward(l11);\n",
    "\n",
    "        var l21 = conv2.forward(l12);\n",
    "        var l22 = relu2.forward(l21);\n",
    "        var l23 = pool1.forward(l22);\n",
    "        var l24 = dropout1.forward(l23);\n",
    "\n",
    "        var x = flatten.forward(l24);\n",
    "\n",
    "        var l31 = fc1.forward(x);\n",
    "        var l32 = relu3.forward(l31);\n",
    "        var l33 = dropout2.forward(l32);\n",
    "\n",
    "        var l41 = fc2.forward(l33);\n",
    "\n",
    "        return logsm.forward(l41);\n",
    "    }\n",
    "}\n"
   ]
  },
  {
   "cell_type": "code",
   "execution_count": null,
   "metadata": {
    "dotnet_interactive": {
     "language": "csharp"
    },
    "vscode": {
     "languageId": "dotnet-interactive.csharp"
    }
   },
   "outputs": [
    {
     "name": "stdout",
     "output_type": "stream",
     "text": [
      "\tCreating the model...\n"
     ]
    }
   ],
   "source": [
    "Console.WriteLine($\"\\tCreating the model...\");"
   ]
  },
  {
   "cell_type": "code",
   "execution_count": null,
   "metadata": {
    "dotnet_interactive": {
     "language": "csharp"
    },
    "vscode": {
     "languageId": "dotnet-interactive.csharp"
    }
   },
   "outputs": [],
   "source": [
    "var model = new MNISTModel(\"model\", device);"
   ]
  },
  {
   "cell_type": "code",
   "execution_count": null,
   "metadata": {
    "dotnet_interactive": {
     "language": "csharp"
    },
    "vscode": {
     "languageId": "dotnet-interactive.csharp"
    }
   },
   "outputs": [],
   "source": [
    "var normImage = transforms.Normalize(new double[] { 0.1307 }, new double[] { 0.3081 }, device: (Device)device);"
   ]
  },
  {
   "cell_type": "code",
   "execution_count": null,
   "metadata": {
    "dotnet_interactive": {
     "language": "csharp"
    },
    "vscode": {
     "languageId": "dotnet-interactive.csharp"
    }
   },
   "outputs": [],
   "source": [
    "public static int _logInterval = 100;"
   ]
  },
  {
   "cell_type": "code",
   "execution_count": null,
   "metadata": {
    "dotnet_interactive": {
     "language": "csharp"
    },
    "vscode": {
     "languageId": "dotnet-interactive.csharp"
    }
   },
   "outputs": [],
   "source": [
    "private static void Train(\n",
    "    Module model,\n",
    "    optim.Optimizer optimizer,\n",
    "    Loss loss,\n",
    "    Device device,\n",
    "    IEnumerable<(Tensor, Tensor)> dataLoader,\n",
    "    int epoch,\n",
    "    long batchSize,\n",
    "    long size)\n",
    "{\n",
    "    model.train();\n",
    "\n",
    "    int batchId = 1;\n",
    "\n",
    "    Console.WriteLine($\"Epoch: {epoch}...\");\n",
    "\n",
    "    foreach (var (data, target) in dataLoader)\n",
    "    {\n",
    "        using (var d = torch.NewDisposeScope())\n",
    "        {\n",
    "            optimizer.zero_grad();\n",
    "\n",
    "            var prediction = model.forward(data);\n",
    "            var output = loss(prediction, target);\n",
    "\n",
    "            output.backward();\n",
    "\n",
    "            optimizer.step();\n",
    "\n",
    "            if (batchId % _logInterval == 0)\n",
    "            {\n",
    "                Console.WriteLine($\"\\rTrain: epoch {epoch} [{batchId * batchSize} / {size}] Loss: {output.ToSingle():F4}\");\n",
    "            }\n",
    "\n",
    "            batchId++;\n",
    "\n",
    "        }\n",
    "    }\n",
    "}"
   ]
  },
  {
   "cell_type": "code",
   "execution_count": null,
   "metadata": {
    "dotnet_interactive": {
     "language": "csharp"
    },
    "vscode": {
     "languageId": "dotnet-interactive.csharp"
    }
   },
   "outputs": [],
   "source": [
    "private static void Test(\n",
    "    Module model,\n",
    "    Loss loss,\n",
    "    Device device,\n",
    "    IEnumerable<(Tensor, Tensor)> dataLoader,\n",
    "    long size)\n",
    "{\n",
    "    model.eval();\n",
    "\n",
    "    double testLoss = 0;\n",
    "    int correct = 0;\n",
    "\n",
    "    foreach (var (data, target) in dataLoader)\n",
    "    {\n",
    "        using (var d = torch.NewDisposeScope())\n",
    "        {\n",
    "            var prediction = model.forward(data);\n",
    "            var output = loss(prediction, target);\n",
    "            testLoss += output.ToSingle();\n",
    "\n",
    "            correct += prediction.argmax(1).eq(target).sum().ToInt32();\n",
    "        }\n",
    "    }\n",
    "\n",
    "    Console.WriteLine($\"Size: {size}, Total: {size}\");\n",
    "\n",
    "    Console.WriteLine($\"\\rTest set: Average loss {(testLoss / size):F4} | Accuracy {((double)correct / size):P2}\");\n",
    "}"
   ]
  },
  {
   "cell_type": "code",
   "execution_count": null,
   "metadata": {
    "dotnet_interactive": {
     "language": "csharp"
    },
    "vscode": {
     "languageId": "dotnet-interactive.csharp"
    }
   },
   "outputs": [],
   "source": [
    "public class BigEndianReader\n",
    "{\n",
    "    public BigEndianReader(BinaryReader baseReader)\n",
    "    {\n",
    "        mBaseReader = baseReader;\n",
    "    }\n",
    "\n",
    "    public int ReadInt32()\n",
    "    {\n",
    "        return BitConverter.ToInt32(ReadBigEndianBytes(4), 0);\n",
    "    }\n",
    "\n",
    "    public byte[] ReadBigEndianBytes(int count)\n",
    "    {\n",
    "        byte[] bytes = new byte[count];\n",
    "        for (int i = count - 1; i >= 0; i--)\n",
    "            bytes[i] = mBaseReader.ReadByte();\n",
    "\n",
    "        return bytes;\n",
    "    }\n",
    "\n",
    "    public byte[] ReadBytes(int count)\n",
    "    {\n",
    "        return mBaseReader.ReadBytes(count);\n",
    "    }\n",
    "\n",
    "    public void Close()\n",
    "    {\n",
    "        mBaseReader.Close();\n",
    "    }\n",
    "\n",
    "    public Stream BaseStream {\n",
    "        get { return mBaseReader.BaseStream; }\n",
    "    }\n",
    "\n",
    "    private BinaryReader mBaseReader;\n",
    "}"
   ]
  },
  {
   "cell_type": "code",
   "execution_count": null,
   "metadata": {
    "dotnet_interactive": {
     "language": "csharp"
    },
    "vscode": {
     "languageId": "dotnet-interactive.csharp"
    }
   },
   "outputs": [],
   "source": [
    "public class MNISTReader : IEnumerable<(Tensor, Tensor)>, IDisposable\n",
    "{\n",
    "    /// <summary>\n",
    "    /// Constructor\n",
    "    /// </summary>\n",
    "    /// <param name=\"path\">Path to the folder containing the image files.</param>\n",
    "    /// <param name=\"prefix\">The file name prefix, either 'train' or 't10k' (the latter being the test data set).</param>\n",
    "    /// <param name=\"batch_size\">The batch size</param>\n",
    "    /// <param name=\"shuffle\">Randomly shuffle the images.</param>\n",
    "    /// <param name=\"device\">The device, i.e. CPU or GPU to place the output tensors on.</param>\n",
    "    /// <param name=\"transform\"></param>\n",
    "    public MNISTReader(string path, string prefix, int batch_size = 32, bool shuffle = false, torch.Device device = null, ITransform transform = null)\n",
    "    {\n",
    "        // The MNIST data set is small enough to fit in memory, so let's load it there.\n",
    "\n",
    "        BatchSize = batch_size;\n",
    "\n",
    "        var dataPath = Path.Combine(path, prefix + \"-images-idx3-ubyte\");\n",
    "        var labelPath = Path.Combine(path, prefix + \"-labels-idx1-ubyte\");\n",
    "\n",
    "        var count = -1;\n",
    "        var height = 0;\n",
    "        var width = 0;\n",
    "\n",
    "        byte[] dataBytes = null;\n",
    "        byte[] labelBytes = null;\n",
    "\n",
    "        using (var file = File.Open(dataPath, FileMode.Open, FileAccess.Read, FileShare.Read))\n",
    "        using (var rdr = new System.IO.BinaryReader(file)) {\n",
    "\n",
    "            var reader = new BigEndianReader(rdr);\n",
    "            var x = reader.ReadInt32(); // Magic number\n",
    "            count = reader.ReadInt32();\n",
    "\n",
    "            height = reader.ReadInt32();\n",
    "            width = reader.ReadInt32();\n",
    "\n",
    "            // Read all the data into memory.\n",
    "            dataBytes = reader.ReadBytes(height * width * count);\n",
    "        }\n",
    "\n",
    "        using (var file = File.Open(labelPath, FileMode.Open, FileAccess.Read, FileShare.Read))\n",
    "        using (var rdr = new System.IO.BinaryReader(file)) {\n",
    "\n",
    "            var reader = new BigEndianReader(rdr);\n",
    "            var x = reader.ReadInt32(); // Magic number\n",
    "            var lblcnt = reader.ReadInt32();\n",
    "\n",
    "            if (lblcnt != count) throw new InvalidDataException(\"Image data and label counts are different.\");\n",
    "\n",
    "            // Read all the data into memory.\n",
    "            labelBytes = reader.ReadBytes(lblcnt);\n",
    "        }\n",
    "\n",
    "        // Set up the indices array.\n",
    "        Random rnd = new Random();\n",
    "        var indices = !shuffle ?\n",
    "            Enumerable.Range(0, count).ToArray() :\n",
    "            Enumerable.Range(0, count).OrderBy(c => rnd.Next()).ToArray();\n",
    "\n",
    "        var imgSize = height * width;\n",
    "\n",
    "        // Go through the data and create tensors\n",
    "        for (var i = 0; i < count;) {\n",
    "\n",
    "            var take = Math.Min(batch_size, Math.Max(0, count - i));\n",
    "\n",
    "            if (take < 1) break;\n",
    "\n",
    "            var dataTensor = torch.zeros(new long[] { take, imgSize}, device: device);\n",
    "            var lablTensor = torch.zeros(new long[] { take }, torch.int64, device: device);\n",
    "\n",
    "            // Take\n",
    "            for (var j = 0; j < take; j++) {\n",
    "                var idx = indices[i++];\n",
    "                var imgStart = idx * imgSize;\n",
    "\n",
    "                var floats = dataBytes[imgStart.. (imgStart+imgSize)].Select(b => b/256.0f).ToArray();\n",
    "                using (var inputTensor = torch.tensor(floats))\n",
    "                    dataTensor.index_put_(inputTensor, TensorIndex.Single(j));\n",
    "                lablTensor[j] = torch.tensor(labelBytes[idx], torch.int64);\n",
    "            }\n",
    "\n",
    "            var batch = dataTensor.reshape(take, 1, height, width);\n",
    "\n",
    "            if (transform != null) {\n",
    "                // Carefully dispose the original\n",
    "                using(var batch_copy = batch)\n",
    "                batch = transform.forward(batch);\n",
    "            }\n",
    "\n",
    "            data.Add(batch);\n",
    "            dataTensor.Dispose();\n",
    "            labels.Add(lablTensor);\n",
    "        }\n",
    "\n",
    "        Size = count;\n",
    "    }\n",
    "\n",
    "    public int Size { get; set; }\n",
    "\n",
    "    public int BatchSize { get; private set; }\n",
    "\n",
    "    private List<Tensor> data = new List<Tensor>();\n",
    "    private List<Tensor> labels = new List<Tensor>();\n",
    "\n",
    "    public IEnumerator<(Tensor, Tensor)> GetEnumerator()\n",
    "    {\n",
    "        return new MNISTEnumerator(data, labels);\n",
    "    }\n",
    "\n",
    "    IEnumerator IEnumerable.GetEnumerator()\n",
    "    {\n",
    "        return GetEnumerator();\n",
    "    }\n",
    "\n",
    "    public void Dispose()\n",
    "    {\n",
    "        data.ForEach(d => d.Dispose());\n",
    "        labels.ForEach(d => d.Dispose());\n",
    "    }\n",
    "\n",
    "    private class MNISTEnumerator : IEnumerator<(Tensor, Tensor)>\n",
    "    {\n",
    "        public MNISTEnumerator(List<Tensor> data, List<Tensor> labels)\n",
    "        {\n",
    "            this.data = data;\n",
    "            this.labels = labels;\n",
    "        }\n",
    "\n",
    "        public (Tensor, Tensor) Current {\n",
    "            get {\n",
    "                if (curIdx == -1) throw new InvalidOperationException(\"Calling 'Current' before 'MoveNext()'\");\n",
    "                return (data[curIdx], labels[curIdx]);\n",
    "            }\n",
    "        }\n",
    "\n",
    "        object IEnumerator.Current => Current;\n",
    "\n",
    "        public void Dispose()\n",
    "        {\n",
    "        }\n",
    "\n",
    "        public bool MoveNext()\n",
    "        {\n",
    "            curIdx += 1;\n",
    "            return curIdx < data.Count;\n",
    "        }\n",
    "\n",
    "        public void Reset()\n",
    "        {\n",
    "            curIdx = -1;\n",
    "        }\n",
    "\n",
    "        private int curIdx = -1;\n",
    "        private List<Tensor> data = null;\n",
    "        private List<Tensor> labels = null;\n",
    "    }\n",
    "}"
   ]
  },
  {
   "cell_type": "code",
   "execution_count": null,
   "metadata": {
    "dotnet_interactive": {
     "language": "csharp"
    },
    "vscode": {
     "languageId": "dotnet-interactive.csharp"
    }
   },
   "outputs": [],
   "source": [
    "public static void TrainingLoop(string dataset, int timeout, Device device, Module model, MNISTReader train, MNISTReader test)\n",
    "{\n",
    "            var optimizer = optim.Adam(model.parameters());\n",
    "\n",
    "            var scheduler = optim.lr_scheduler.StepLR(optimizer, 1, 0.7);\n",
    "\n",
    "            Stopwatch totalTime = new Stopwatch();\n",
    "            totalTime.Start();\n",
    "\n",
    "            for (var epoch = 1; epoch <= _epochs; epoch++)\n",
    "            {\n",
    "\n",
    "                Train(model, optimizer, nll_loss(reduction: Reduction.Mean), device, train, epoch, train.BatchSize, train.Size);\n",
    "                Test(model, nll_loss(reduction: nn.Reduction.Sum), device, test, test.Size);\n",
    "\n",
    "                Console.WriteLine($\"End-of-epoch memory use: {GC.GetTotalMemory(false)}\");\n",
    "\n",
    "                if (totalTime.Elapsed.TotalSeconds > timeout) break;\n",
    "            }\n",
    "\n",
    "            totalTime.Stop();\n",
    "            Console.WriteLine($\"Elapsed time: {totalTime.Elapsed.TotalSeconds:F1} s.\");\n",
    "\n",
    "            Console.WriteLine(\"Saving model to '{0}'\", dataset + \".model.bin\");\n",
    "            model.save(dataset + \".model.bin\");\n",
    "}"
   ]
  },
  {
   "cell_type": "code",
   "execution_count": null,
   "metadata": {
    "dotnet_interactive": {
     "language": "csharp"
    },
    "vscode": {
     "languageId": "dotnet-interactive.csharp"
    }
   },
   "outputs": [
    {
     "name": "stdout",
     "output_type": "stream",
     "text": [
      "Epoch: 1...\n",
      "\rTrain: epoch 1 [6400 / 60000] Loss: 0.7495\n",
      "\rTrain: epoch 1 [12800 / 60000] Loss: 0.4441\n",
      "\rTrain: epoch 1 [19200 / 60000] Loss: 0.5683\n",
      "\rTrain: epoch 1 [25600 / 60000] Loss: 0.5474\n",
      "\rTrain: epoch 1 [32000 / 60000] Loss: 0.2864\n",
      "\rTrain: epoch 1 [38400 / 60000] Loss: 0.4358\n",
      "\rTrain: epoch 1 [44800 / 60000] Loss: 0.3547\n",
      "\rTrain: epoch 1 [51200 / 60000] Loss: 0.3173\n",
      "\rTrain: epoch 1 [57600 / 60000] Loss: 0.2953\n",
      "Size: 10000, Total: 10000\n",
      "\rTest set: Average loss 0.3069 | Accuracy 88.48%\n",
      "End-of-epoch memory use: 680042136\n",
      "Epoch: 2...\n",
      "\rTrain: epoch 2 [6400 / 60000] Loss: 0.5452\n",
      "\rTrain: epoch 2 [12800 / 60000] Loss: 0.2801\n",
      "\rTrain: epoch 2 [19200 / 60000] Loss: 0.3832\n",
      "\rTrain: epoch 2 [25600 / 60000] Loss: 0.3985\n",
      "\rTrain: epoch 2 [32000 / 60000] Loss: 0.3380\n",
      "\rTrain: epoch 2 [38400 / 60000] Loss: 0.2657\n",
      "\rTrain: epoch 2 [44800 / 60000] Loss: 0.2054\n",
      "\rTrain: epoch 2 [51200 / 60000] Loss: 0.3458\n",
      "\rTrain: epoch 2 [57600 / 60000] Loss: 0.2508\n",
      "Size: 10000, Total: 10000\n",
      "\rTest set: Average loss 0.2542 | Accuracy 90.78%\n",
      "End-of-epoch memory use: 700045024\n",
      "Epoch: 3...\n",
      "\rTrain: epoch 3 [6400 / 60000] Loss: 0.3732\n",
      "\rTrain: epoch 3 [12800 / 60000] Loss: 0.4115\n",
      "\rTrain: epoch 3 [19200 / 60000] Loss: 0.3520\n",
      "\rTrain: epoch 3 [25600 / 60000] Loss: 0.3260\n",
      "\rTrain: epoch 3 [32000 / 60000] Loss: 0.1877\n",
      "\rTrain: epoch 3 [38400 / 60000] Loss: 0.2346\n",
      "\rTrain: epoch 3 [44800 / 60000] Loss: 0.2435\n",
      "\rTrain: epoch 3 [51200 / 60000] Loss: 0.1471\n",
      "\rTrain: epoch 3 [57600 / 60000] Loss: 0.1659\n",
      "Size: 10000, Total: 10000\n",
      "\rTest set: Average loss 0.2335 | Accuracy 91.59%\n",
      "End-of-epoch memory use: 720057296\n",
      "Epoch: 4...\n",
      "\rTrain: epoch 4 [6400 / 60000] Loss: 0.3384\n",
      "\rTrain: epoch 4 [12800 / 60000] Loss: 0.3029\n",
      "\rTrain: epoch 4 [19200 / 60000] Loss: 0.2921\n",
      "\rTrain: epoch 4 [25600 / 60000] Loss: 0.3197\n",
      "\rTrain: epoch 4 [32000 / 60000] Loss: 0.1415\n",
      "\rTrain: epoch 4 [38400 / 60000] Loss: 0.1327\n",
      "\rTrain: epoch 4 [44800 / 60000] Loss: 0.2397\n",
      "\rTrain: epoch 4 [51200 / 60000] Loss: 0.1498\n",
      "\rTrain: epoch 4 [57600 / 60000] Loss: 0.1642\n",
      "Size: 10000, Total: 10000\n",
      "\rTest set: Average loss 0.2422 | Accuracy 91.48%\n",
      "End-of-epoch memory use: 740123272\n",
      "Elapsed time: 11.1 s.\n",
      "Saving model to 'mnist.model.bin'\n"
     ]
    }
   ],
   "source": [
    "using (MNISTReader train = new MNISTReader(dataPath, \"train\", _trainBatchSize, device: device, shuffle: true, transform: normImage),\n",
    "test = new MNISTReader(dataPath, \"t10k\", _testBatchSize, device: device, transform: normImage))\n",
    "{\n",
    "\n",
    "    TrainingLoop(\"mnist\", 3000, device, model, train, test);\n",
    "}"
   ]
  }
 ],
 "metadata": {
  "kernelspec": {
   "display_name": ".NET (C#)",
   "language": "C#",
   "name": ".net-csharp"
  },
  "language_info": {
   "file_extension": ".cs",
   "mimetype": "text/x-csharp",
   "name": "C#",
   "pygments_lexer": "csharp",
   "version": "9.0"
  },
  "orig_nbformat": 4
 },
 "nbformat": 4,
 "nbformat_minor": 2
}
